{
  "cells": [
    {
      "cell_type": "code",
      "execution_count": null,
      "metadata": {
        "id": "D5QAerxx_dSt"
      },
      "outputs": [],
      "source": [
        "import matplotlib.pyplot as plt\n",
        "import os\n",
        "import re\n",
        "import shutil\n",
        "import string\n",
        "import tensorflow as tf\n",
        "from tensorflow.keras import regularizers\n",
        "\n",
        "from tensorflow.keras import layers\n",
        "from tensorflow.keras import losses\n",
        "\n",
        "from collections import Counter\n",
        "\n",
        "\n",
        "import pandas as pd\n",
        "import numpy as np\n",
        "\n",
        "from sklearn.preprocessing import LabelEncoder\n",
        "from sklearn.model_selection import train_test_split\n",
        "from sklearn.metrics import classification_report\n",
        "\n",
        "from tensorflow.keras import preprocessing\n",
        "from tensorflow.keras.preprocessing.text import Tokenizer\n",
        "from tensorflow.keras.preprocessing.sequence import pad_sequences\n",
        "\n",
        "import pydot\n",
        "\n",
        "import warnings\n",
        "warnings.filterwarnings('ignore')"
      ]
    },
    {
      "cell_type": "code",
      "execution_count": null,
      "metadata": {
        "colab": {
          "base_uri": "https://localhost:8080/"
        },
        "id": "uIs5OGeOY1bi",
        "outputId": "ef5547da-3f35-4d87-ff0b-ca6b7105bcec"
      },
      "outputs": [
        {
          "output_type": "stream",
          "name": "stdout",
          "text": [
            "Mounted at /content/drive\n"
          ]
        }
      ],
      "source": [
        "from google.colab import drive\n",
        "drive.mount('/content/drive')"
      ]
    },
    {
      "cell_type": "code",
      "execution_count": null,
      "metadata": {
        "id": "6hhzFpEYfgxM"
      },
      "outputs": [],
      "source": [
        "import pandas as pd\n",
        "df=pd.read_csv('/content/drive/MyDrive/431/Emotion_final.csv')"
      ]
    },
    {
      "cell_type": "code",
      "execution_count": null,
      "metadata": {
        "colab": {
          "base_uri": "https://localhost:8080/",
          "height": 206
        },
        "id": "cpEo3zmIGmPo",
        "outputId": "ce1eadba-a8ff-4dd5-b0f8-9dd89277e4f0"
      },
      "outputs": [
        {
          "output_type": "execute_result",
          "data": {
            "text/plain": [
              "                                                Text  Emotion\n",
              "0                            i didnt feel humiliated  sadness\n",
              "1  i can go from feeling so hopeless to so damned...  sadness\n",
              "2   im grabbing a minute to post i feel greedy wrong    anger\n",
              "3  i am ever feeling nostalgic about the fireplac...     love\n",
              "4                               i am feeling grouchy    anger"
            ],
            "text/html": [
              "\n",
              "  <div id=\"df-0c95a08d-f8cf-412a-a661-630e7d730049\">\n",
              "    <div class=\"colab-df-container\">\n",
              "      <div>\n",
              "<style scoped>\n",
              "    .dataframe tbody tr th:only-of-type {\n",
              "        vertical-align: middle;\n",
              "    }\n",
              "\n",
              "    .dataframe tbody tr th {\n",
              "        vertical-align: top;\n",
              "    }\n",
              "\n",
              "    .dataframe thead th {\n",
              "        text-align: right;\n",
              "    }\n",
              "</style>\n",
              "<table border=\"1\" class=\"dataframe\">\n",
              "  <thead>\n",
              "    <tr style=\"text-align: right;\">\n",
              "      <th></th>\n",
              "      <th>Text</th>\n",
              "      <th>Emotion</th>\n",
              "    </tr>\n",
              "  </thead>\n",
              "  <tbody>\n",
              "    <tr>\n",
              "      <th>0</th>\n",
              "      <td>i didnt feel humiliated</td>\n",
              "      <td>sadness</td>\n",
              "    </tr>\n",
              "    <tr>\n",
              "      <th>1</th>\n",
              "      <td>i can go from feeling so hopeless to so damned...</td>\n",
              "      <td>sadness</td>\n",
              "    </tr>\n",
              "    <tr>\n",
              "      <th>2</th>\n",
              "      <td>im grabbing a minute to post i feel greedy wrong</td>\n",
              "      <td>anger</td>\n",
              "    </tr>\n",
              "    <tr>\n",
              "      <th>3</th>\n",
              "      <td>i am ever feeling nostalgic about the fireplac...</td>\n",
              "      <td>love</td>\n",
              "    </tr>\n",
              "    <tr>\n",
              "      <th>4</th>\n",
              "      <td>i am feeling grouchy</td>\n",
              "      <td>anger</td>\n",
              "    </tr>\n",
              "  </tbody>\n",
              "</table>\n",
              "</div>\n",
              "      <button class=\"colab-df-convert\" onclick=\"convertToInteractive('df-0c95a08d-f8cf-412a-a661-630e7d730049')\"\n",
              "              title=\"Convert this dataframe to an interactive table.\"\n",
              "              style=\"display:none;\">\n",
              "        \n",
              "  <svg xmlns=\"http://www.w3.org/2000/svg\" height=\"24px\"viewBox=\"0 0 24 24\"\n",
              "       width=\"24px\">\n",
              "    <path d=\"M0 0h24v24H0V0z\" fill=\"none\"/>\n",
              "    <path d=\"M18.56 5.44l.94 2.06.94-2.06 2.06-.94-2.06-.94-.94-2.06-.94 2.06-2.06.94zm-11 1L8.5 8.5l.94-2.06 2.06-.94-2.06-.94L8.5 2.5l-.94 2.06-2.06.94zm10 10l.94 2.06.94-2.06 2.06-.94-2.06-.94-.94-2.06-.94 2.06-2.06.94z\"/><path d=\"M17.41 7.96l-1.37-1.37c-.4-.4-.92-.59-1.43-.59-.52 0-1.04.2-1.43.59L10.3 9.45l-7.72 7.72c-.78.78-.78 2.05 0 2.83L4 21.41c.39.39.9.59 1.41.59.51 0 1.02-.2 1.41-.59l7.78-7.78 2.81-2.81c.8-.78.8-2.07 0-2.86zM5.41 20L4 18.59l7.72-7.72 1.47 1.35L5.41 20z\"/>\n",
              "  </svg>\n",
              "      </button>\n",
              "      \n",
              "  <style>\n",
              "    .colab-df-container {\n",
              "      display:flex;\n",
              "      flex-wrap:wrap;\n",
              "      gap: 12px;\n",
              "    }\n",
              "\n",
              "    .colab-df-convert {\n",
              "      background-color: #E8F0FE;\n",
              "      border: none;\n",
              "      border-radius: 50%;\n",
              "      cursor: pointer;\n",
              "      display: none;\n",
              "      fill: #1967D2;\n",
              "      height: 32px;\n",
              "      padding: 0 0 0 0;\n",
              "      width: 32px;\n",
              "    }\n",
              "\n",
              "    .colab-df-convert:hover {\n",
              "      background-color: #E2EBFA;\n",
              "      box-shadow: 0px 1px 2px rgba(60, 64, 67, 0.3), 0px 1px 3px 1px rgba(60, 64, 67, 0.15);\n",
              "      fill: #174EA6;\n",
              "    }\n",
              "\n",
              "    [theme=dark] .colab-df-convert {\n",
              "      background-color: #3B4455;\n",
              "      fill: #D2E3FC;\n",
              "    }\n",
              "\n",
              "    [theme=dark] .colab-df-convert:hover {\n",
              "      background-color: #434B5C;\n",
              "      box-shadow: 0px 1px 3px 1px rgba(0, 0, 0, 0.15);\n",
              "      filter: drop-shadow(0px 1px 2px rgba(0, 0, 0, 0.3));\n",
              "      fill: #FFFFFF;\n",
              "    }\n",
              "  </style>\n",
              "\n",
              "      <script>\n",
              "        const buttonEl =\n",
              "          document.querySelector('#df-0c95a08d-f8cf-412a-a661-630e7d730049 button.colab-df-convert');\n",
              "        buttonEl.style.display =\n",
              "          google.colab.kernel.accessAllowed ? 'block' : 'none';\n",
              "\n",
              "        async function convertToInteractive(key) {\n",
              "          const element = document.querySelector('#df-0c95a08d-f8cf-412a-a661-630e7d730049');\n",
              "          const dataTable =\n",
              "            await google.colab.kernel.invokeFunction('convertToInteractive',\n",
              "                                                     [key], {});\n",
              "          if (!dataTable) return;\n",
              "\n",
              "          const docLinkHtml = 'Like what you see? Visit the ' +\n",
              "            '<a target=\"_blank\" href=https://colab.research.google.com/notebooks/data_table.ipynb>data table notebook</a>'\n",
              "            + ' to learn more about interactive tables.';\n",
              "          element.innerHTML = '';\n",
              "          dataTable['output_type'] = 'display_data';\n",
              "          await google.colab.output.renderOutput(dataTable, element);\n",
              "          const docLink = document.createElement('div');\n",
              "          docLink.innerHTML = docLinkHtml;\n",
              "          element.appendChild(docLink);\n",
              "        }\n",
              "      </script>\n",
              "    </div>\n",
              "  </div>\n",
              "  "
            ]
          },
          "metadata": {},
          "execution_count": 9
        }
      ],
      "source": [
        "df.head()"
      ]
    },
    {
      "cell_type": "code",
      "execution_count": null,
      "metadata": {
        "id": "G_3gn6UrKx5y"
      },
      "outputs": [],
      "source": [
        "df['Emotion'] = df['Emotion'].astype('category')"
      ]
    },
    {
      "cell_type": "code",
      "execution_count": null,
      "metadata": {
        "colab": {
          "base_uri": "https://localhost:8080/",
          "height": 803
        },
        "id": "F9s0nx9ZJ_yg",
        "outputId": "cc1a05a6-fc90-4c91-c1c9-88fc838a59ea"
      },
      "outputs": [
        {
          "output_type": "error",
          "ename": "AttributeError",
          "evalue": "ignored",
          "traceback": [
            "\u001b[0;31m---------------------------------------------------------------------------\u001b[0m",
            "\u001b[0;31mAttributeError\u001b[0m                            Traceback (most recent call last)",
            "\u001b[0;32m<ipython-input-11-36c67cfd4d38>\u001b[0m in \u001b[0;36m<module>\u001b[0;34m\u001b[0m\n\u001b[1;32m     18\u001b[0m \u001b[0;34m\u001b[0m\u001b[0m\n\u001b[1;32m     19\u001b[0m \u001b[0;34m\u001b[0m\u001b[0m\n\u001b[0;32m---> 20\u001b[0;31m \u001b[0mbar_plot\u001b[0m\u001b[0;34m(\u001b[0m\u001b[0mdf\u001b[0m\u001b[0;34m,\u001b[0m \u001b[0;34m'Emotion'\u001b[0m\u001b[0;34m)\u001b[0m\u001b[0;34m\u001b[0m\u001b[0;34m\u001b[0m\u001b[0m\n\u001b[0m",
            "\u001b[0;32m<ipython-input-11-36c67cfd4d38>\u001b[0m in \u001b[0;36mbar_plot\u001b[0;34m(dataframe, column)\u001b[0m\n\u001b[1;32m     11\u001b[0m     sns.countplot(data=dataframe, x=column,\n\u001b[1;32m     12\u001b[0m                   order=dataframe[column].value_counts().index, color='teal')\n\u001b[0;32m---> 13\u001b[0;31m     \u001b[0max\u001b[0m\u001b[0;34m.\u001b[0m\u001b[0mbar_label\u001b[0m\u001b[0;34m(\u001b[0m\u001b[0max\u001b[0m\u001b[0;34m.\u001b[0m\u001b[0mcontainers\u001b[0m\u001b[0;34m[\u001b[0m\u001b[0;36m0\u001b[0m\u001b[0;34m]\u001b[0m\u001b[0;34m)\u001b[0m\u001b[0;34m\u001b[0m\u001b[0;34m\u001b[0m\u001b[0m\n\u001b[0m\u001b[1;32m     14\u001b[0m     \u001b[0max\u001b[0m\u001b[0;34m.\u001b[0m\u001b[0mset_xticklabels\u001b[0m\u001b[0;34m(\u001b[0m\u001b[0max\u001b[0m\u001b[0;34m.\u001b[0m\u001b[0mget_xticklabels\u001b[0m\u001b[0;34m(\u001b[0m\u001b[0;34m)\u001b[0m\u001b[0;34m,\u001b[0m \u001b[0mfontproperties\u001b[0m\u001b[0;34m=\u001b[0m\u001b[0mprop\u001b[0m\u001b[0;34m)\u001b[0m\u001b[0;34m\u001b[0m\u001b[0;34m\u001b[0m\u001b[0m\n\u001b[1;32m     15\u001b[0m     \u001b[0max\u001b[0m\u001b[0;34m.\u001b[0m\u001b[0mtick_params\u001b[0m\u001b[0;34m(\u001b[0m\u001b[0maxis\u001b[0m\u001b[0;34m=\u001b[0m\u001b[0;34m'x'\u001b[0m\u001b[0;34m,\u001b[0m \u001b[0mrotation\u001b[0m\u001b[0;34m=\u001b[0m\u001b[0;36m90\u001b[0m\u001b[0;34m)\u001b[0m\u001b[0;34m\u001b[0m\u001b[0;34m\u001b[0m\u001b[0m\n",
            "\u001b[0;31mAttributeError\u001b[0m: 'AxesSubplot' object has no attribute 'bar_label'"
          ]
        },
        {
          "output_type": "display_data",
          "data": {
            "text/plain": [
              "<Figure size 864x576 with 1 Axes>"
            ],
            "image/png": "[encoded data removed]"
          },
          "metadata": {
            "needs_background": "light"
          }
        }
      ],
      "source": [
        "from matplotlib.font_manager import FontProperties\n",
        "import matplotlib.pyplot as plt\n",
        "import seaborn as sns\n",
        "\n",
        "sns.axes_style(\"white\")\n",
        "\n",
        "\n",
        "def bar_plot(dataframe, column):\n",
        "    prop = FontProperties(fname='kalpurush.ttf', size=20)\n",
        "    _, ax = plt.subplots(figsize=(12, 8))\n",
        "    sns.countplot(data=dataframe, x=column,\n",
        "                  order=dataframe[column].value_counts().index, color='teal')\n",
        "    ax.bar_label(ax.containers[0])\n",
        "    ax.set_xticklabels(ax.get_xticklabels(), fontproperties=prop)\n",
        "    ax.tick_params(axis='x', rotation=90)\n",
        "    ax.set_title('Emotion Classes by count')\n",
        "    plt.savefig('emotion_count', dpi=100, bbox_inches='tight')\n",
        "\n",
        "\n",
        "bar_plot(df, 'Emotion')"
      ]
    },
    {
      "cell_type": "code",
      "execution_count": null,
      "metadata": {
        "id": "4uJz8Bdu-A2i"
      },
      "outputs": [],
      "source": [
        "def remove_emoji(text):\n",
        "    emoji_pattern = re.compile(\"[\"\n",
        "                           u\"\\U0001F600-\\U0001F64F\"  # emoticons\n",
        "                           u\"\\U0001F300-\\U0001F5FF\"  # symbols & pictographs\n",
        "                           u\"\\U0001F680-\\U0001F6FF\"  # transport & map symbols\n",
        "                           u\"\\U0001F1E0-\\U0001F1FF\"  # flags (iOS)\n",
        "                           u\"\\U00002702-\\U000027B0\"\n",
        "                           u\"\\U000024C2-\\U0001F251\"\n",
        "                           \"]+\", flags=re.UNICODE)\n",
        "    return emoji_pattern.sub(r'', text)\n",
        "\n",
        "def remove_url(text): \n",
        "    url_pattern  = re.compile('http[s]?://(?:[a-zA-Z]|[0-9]|[$-_@.&+]|[!*\\(\\),]|(?:%[0-9a-fA-F][0-9a-fA-F]))+')\n",
        "    return url_pattern.sub(r'', text)\n",
        " # converting return value from list to string\n",
        "\n",
        "\n",
        "\n",
        "def clean_text(text ): \n",
        "    delete_dict = {sp_character: '' for sp_character in string.punctuation} \n",
        "    delete_dict[' '] = ' ' \n",
        "    table = str.maketrans(delete_dict)\n",
        "    text1 = text.translate(table)\n",
        "    #print('cleaned:'+text1)\n",
        "    textArr= text1.split()\n",
        "    text2 = ' '.join([w for w in textArr if ( not w.isdigit() and  ( not w.isdigit() and len(w)>2))]) \n",
        "    \n",
        "    return text2.lower()"
      ]
    },
    {
      "cell_type": "code",
      "execution_count": null,
      "metadata": {
        "colab": {
          "base_uri": "https://localhost:8080/"
        },
        "id": "waB2a8Uq-vfo",
        "outputId": "18d94555-a08c-4373-9725-96641c058425"
      },
      "outputs": [
        {
          "output_type": "stream",
          "name": "stdout",
          "text": [
            "-------Train data--------\n",
            "happy       7027\n",
            "sadness     6264\n",
            "anger       2990\n",
            "fear        2649\n",
            "love        1641\n",
            "surprise     879\n",
            "Name: Emotion, dtype: int64\n",
            "21450\n",
            "-------------------------\n"
          ]
        }
      ],
      "source": [
        "df.dropna(axis = 0, how ='any',inplace=True) \n",
        "df['Num_words_text'] = df['Text'].apply(lambda x:len(str(x).split())) \n",
        "mask = df['Num_words_text'] >2\n",
        "df = df[mask]\n",
        "print('-------Train data--------')\n",
        "print(df['Emotion'].value_counts())\n",
        "print(len(df))\n",
        "print('-------------------------')\n",
        "max_train_sentence_length  = df['Num_words_text'].max()\n",
        "\n",
        "\n",
        "df['Text'] = df['Text'].apply(remove_emoji)\n",
        "df['Text'] = df['Text'].apply(remove_url)\n",
        "df['Text'] = df['Text'].apply(clean_text)"
      ]
    },
    {
      "cell_type": "code",
      "execution_count": null,
      "metadata": {
        "id": "2AQayuHoLpAk"
      },
      "outputs": [],
      "source": [
        "df = df[df.groupby('Emotion')['Emotion'].transform('count') > 2000].reset_index()\n",
        "df[\"Emotion\"] = df[\"Emotion\"].cat.remove_unused_categories()"
      ]
    },
    {
      "cell_type": "code",
      "execution_count": null,
      "metadata": {
        "colab": {
          "base_uri": "https://localhost:8080/",
          "height": 768
        },
        "id": "-4a22PgBucv7",
        "outputId": "5ca985e4-be26-4b4e-9571-a357926c3089"
      },
      "outputs": [
        {
          "output_type": "error",
          "ename": "AttributeError",
          "evalue": "ignored",
          "traceback": [
            "\u001b[0;31m---------------------------------------------------------------------------\u001b[0m",
            "\u001b[0;31mAttributeError\u001b[0m                            Traceback (most recent call last)",
            "\u001b[0;32m<ipython-input-15-da9d3f32e34a>\u001b[0m in \u001b[0;36m<module>\u001b[0;34m\u001b[0m\n\u001b[0;32m----> 1\u001b[0;31m \u001b[0mbar_plot\u001b[0m\u001b[0;34m(\u001b[0m\u001b[0mdf\u001b[0m\u001b[0;34m,\u001b[0m \u001b[0;34m'Emotion'\u001b[0m\u001b[0;34m)\u001b[0m\u001b[0;34m\u001b[0m\u001b[0;34m\u001b[0m\u001b[0m\n\u001b[0m",
            "\u001b[0;32m<ipython-input-11-36c67cfd4d38>\u001b[0m in \u001b[0;36mbar_plot\u001b[0;34m(dataframe, column)\u001b[0m\n\u001b[1;32m     11\u001b[0m     sns.countplot(data=dataframe, x=column,\n\u001b[1;32m     12\u001b[0m                   order=dataframe[column].value_counts().index, color='teal')\n\u001b[0;32m---> 13\u001b[0;31m     \u001b[0max\u001b[0m\u001b[0;34m.\u001b[0m\u001b[0mbar_label\u001b[0m\u001b[0;34m(\u001b[0m\u001b[0max\u001b[0m\u001b[0;34m.\u001b[0m\u001b[0mcontainers\u001b[0m\u001b[0;34m[\u001b[0m\u001b[0;36m0\u001b[0m\u001b[0;34m]\u001b[0m\u001b[0;34m)\u001b[0m\u001b[0;34m\u001b[0m\u001b[0;34m\u001b[0m\u001b[0m\n\u001b[0m\u001b[1;32m     14\u001b[0m     \u001b[0max\u001b[0m\u001b[0;34m.\u001b[0m\u001b[0mset_xticklabels\u001b[0m\u001b[0;34m(\u001b[0m\u001b[0max\u001b[0m\u001b[0;34m.\u001b[0m\u001b[0mget_xticklabels\u001b[0m\u001b[0;34m(\u001b[0m\u001b[0;34m)\u001b[0m\u001b[0;34m,\u001b[0m \u001b[0mfontproperties\u001b[0m\u001b[0;34m=\u001b[0m\u001b[0mprop\u001b[0m\u001b[0;34m)\u001b[0m\u001b[0;34m\u001b[0m\u001b[0;34m\u001b[0m\u001b[0m\n\u001b[1;32m     15\u001b[0m     \u001b[0max\u001b[0m\u001b[0;34m.\u001b[0m\u001b[0mtick_params\u001b[0m\u001b[0;34m(\u001b[0m\u001b[0maxis\u001b[0m\u001b[0;34m=\u001b[0m\u001b[0;34m'x'\u001b[0m\u001b[0;34m,\u001b[0m \u001b[0mrotation\u001b[0m\u001b[0;34m=\u001b[0m\u001b[0;36m90\u001b[0m\u001b[0;34m)\u001b[0m\u001b[0;34m\u001b[0m\u001b[0;34m\u001b[0m\u001b[0m\n",
            "\u001b[0;31mAttributeError\u001b[0m: 'AxesSubplot' object has no attribute 'bar_label'"
          ]
        },
        {
          "output_type": "display_data",
          "data": {
            "text/plain": [
              "<Figure size 864x576 with 1 Axes>"
            ],
            "image/png": "[encoded data removed]"
          },
          "metadata": {
            "needs_background": "light"
          }
        }
      ],
      "source": [
        "bar_plot(df, 'Emotion')"
      ]
    },
    {
      "cell_type": "code",
      "execution_count": null,
      "metadata": {
        "colab": {
          "base_uri": "https://localhost:8080/"
        },
        "id": "fUgqMgKIMKIZ",
        "outputId": "f5fe8108-cc8d-468f-ac13-a1cf8e8a2f13"
      },
      "outputs": [
        {
          "output_type": "stream",
          "name": "stdout",
          "text": [
            "-------Train data--------\n",
            "happy      6989\n",
            "sadness    6215\n",
            "anger      2963\n",
            "fear       2629\n",
            "Name: Emotion, dtype: int64\n",
            "18796\n",
            "-------------------------\n"
          ]
        }
      ],
      "source": [
        "df.dropna(axis = 0, how ='any',inplace=True) \n",
        "df['Num_words_text'] = df['Text'].apply(lambda x:len(str(x).split())) \n",
        "mask = df['Num_words_text'] >2\n",
        "df = df[mask]\n",
        "print('-------Train data--------')\n",
        "print(df['Emotion'].value_counts())\n",
        "print(len(df))\n",
        "print('-------------------------')\n",
        "max_train_sentence_length  = df['Num_words_text'].max()\n",
        "\n",
        "\n",
        "df['Text'] = df['Text'].apply(remove_emoji)\n",
        "df['Text'] = df['Text'].apply(remove_url)\n",
        "df['Text'] = df['Text'].apply(clean_text)"
      ]
    },
    {
      "cell_type": "markdown",
      "metadata": {
        "id": "L9eLjY1DMqlP"
      },
      "source": [
        "### Tokenizing Data\n",
        "\n",
        "Tokenizing the emotion using keras **Tokenizer()** before running machine learning models"
      ]
    },
    {
      "cell_type": "code",
      "execution_count": null,
      "metadata": {
        "id": "Pfap6YYvMdcK"
      },
      "outputs": [],
      "source": [
        "from tensorflow.keras.preprocessing.text import Tokenizer\n",
        "from tensorflow.keras.preprocessing.sequence import pad_sequences\n",
        "\n",
        "\n",
        "tokenizer = Tokenizer()\n",
        "tokenizer.fit_on_texts(df['Text'])\n",
        "X = tokenizer.texts_to_sequences(df['Text'])"
      ]
    },
    {
      "cell_type": "markdown",
      "metadata": {
        "id": "ZS-oXSUuMtzR"
      },
      "source": [
        "Plotting word histogram to determine what length would be suitable for padding."
      ]
    },
    {
      "cell_type": "code",
      "execution_count": null,
      "metadata": {
        "colab": {
          "base_uri": "https://localhost:8080/",
          "height": 737
        },
        "id": "BwDiDydIMdZ1",
        "outputId": "9f0c294e-5d26-4e3f-a50e-72ac84672e70"
      },
      "outputs": [
        {
          "output_type": "display_data",
          "data": {
            "text/plain": [
              "<Figure size 864x864 with 1 Axes>"
            ],
            "image/png": "[encoded data removed]"
          },
          "metadata": {
            "needs_background": "light"
          }
        }
      ],
      "source": [
        "lengths = pd.Series([len(x) for x in X])\n",
        "\n",
        "with sns.plotting_context(\"paper\", font_scale=2):\n",
        "    plt.figure(figsize=(12, 12))\n",
        "    plt.xlabel('Words')\n",
        "    plt.ylabel('Frequency')\n",
        "    sns.histplot(lengths, color='teal')\n",
        "    plt.savefig('wordhist', dpi=100, bbox_inches='tight')"
      ]
    },
    {
      "cell_type": "markdown",
      "metadata": {
        "id": "KsPe8tpWNBra"
      },
      "source": [
        "\n",
        "From the graph, we are taking max len as 1200\n"
      ]
    },
    {
      "cell_type": "code",
      "execution_count": null,
      "metadata": {
        "id": "WZbpNlQMMdXX"
      },
      "outputs": [],
      "source": [
        "max_len = 1600\n",
        "X = pad_sequences(X, maxlen=max_len)\n",
        "y = df['Emotion'].cat.codes.ravel()\n",
        "y = y.reshape(-1, 1)"
      ]
    },
    {
      "cell_type": "markdown",
      "metadata": {
        "id": "WHBLBOmUNSae"
      },
      "source": [
        "## Model\n",
        "\n",
        "In this notebook we run macine learing models such as:\n",
        "\n",
        "- LogisticRegression\n",
        "- KNeighborsClassifier\n",
        "- SupprotVectorClassifier\n",
        "- XGBClassifier\n",
        "- AdaBoostClassifier"
      ]
    },
    {
      "cell_type": "code",
      "execution_count": null,
      "metadata": {
        "id": "I94FKuE9MdVF"
      },
      "outputs": [],
      "source": [
        "import tensorflow as tf\n",
        "import numpy as np\n",
        "import os\n",
        "import random\n",
        "\n",
        "\n",
        "def set_seed(seed):\n",
        "    tf.random.set_seed(seed)\n",
        "    os.environ['PYTHONHASHSEED'] = str(seed)\n",
        "    np.random.seed(seed)\n",
        "    random.seed(seed)\n",
        "\n",
        "\n",
        "seed = 4\n",
        "vocab_size = 39970\n",
        "embed_size = 100"
      ]
    },
    {
      "cell_type": "markdown",
      "metadata": {
        "id": "FeX1HfSGNiAC"
      },
      "source": [
        "Splitting the dataset to 80:20 train:test ratio"
      ]
    },
    {
      "cell_type": "code",
      "execution_count": null,
      "metadata": {
        "id": "AzWjN9plMdSY"
      },
      "outputs": [],
      "source": [
        "from sklearn.model_selection import StratifiedKFold, train_test_split\n",
        "\n",
        "X_train, X_test, y_train, y_test = train_test_split(\n",
        "    X, y, test_size=.2, random_state=seed, stratify=y)\n",
        "\n",
        "set_seed(seed)"
      ]
    },
    {
      "cell_type": "markdown",
      "metadata": {
        "id": "1_wlu3kANmxg"
      },
      "source": [
        "### Logistic Regression\n",
        "\n",
        "Using **GridSearchCV()** to find best parameters for **LogisticRegression**"
      ]
    },
    {
      "cell_type": "code",
      "execution_count": null,
      "metadata": {
        "colab": {
          "base_uri": "https://localhost:8080/"
        },
        "id": "GN07ArJCMdQP",
        "outputId": "7901e78c-a2c1-481f-d7e1-2097b35aecca"
      },
      "outputs": [
        {
          "name": "stdout",
          "output_type": "stream",
          "text": [
            "Fitting 5 folds for each of 15 candidates, totalling 75 fits\n",
            "CPU times: user 31.1 s, sys: 2.68 s, total: 33.8 s\n",
            "Wall time: 14min 19s\n"
          ]
        },
        {
          "data": {
            "text/plain": [
              "{'clf__C': 0.1, 'clf__max_iter': 10000, 'clf__solver': 'newton-cg'}"
            ]
          },
          "execution_count": 17,
          "metadata": {},
          "output_type": "execute_result"
        }
      ],
      "source": [
        "%%time\n",
        "from sklearn.model_selection import GridSearchCV\n",
        "from sklearn.preprocessing import StandardScaler, MinMaxScaler\n",
        "from sklearn.pipeline import Pipeline\n",
        "from sklearn.linear_model import LogisticRegression\n",
        "\n",
        "\n",
        "pipeline = Pipeline([\n",
        "    ('scaler', MinMaxScaler()),\n",
        "    ('clf', LogisticRegression())\n",
        "])\n",
        "param_grid = {'clf__solver': ['newton-cg', 'lbfgs', 'liblinear'],\n",
        "              'clf__C': [100, 10, 1.0, 0.1, 0.01], 'clf__max_iter': [10000]}\n",
        "gs = GridSearchCV(pipeline, param_grid, cv=5, verbose=1, n_jobs=-1)\n",
        "gs.fit(X_train, y_train.ravel())\n",
        "gs.best_params_"
      ]
    },
    {
      "cell_type": "markdown",
      "metadata": {
        "id": "TpGkVzB1N0FC"
      },
      "source": [
        "Training LogisticRegression with best parameters and evaluating test set score"
      ]
    },
    {
      "cell_type": "code",
      "execution_count": null,
      "metadata": {
        "colab": {
          "base_uri": "https://localhost:8080/"
        },
        "id": "ALgEy7edMdN0",
        "outputId": "97733559-d117-479f-9d0c-2d24cc5dc754"
      },
      "outputs": [
        {
          "data": {
            "text/plain": [
              "0.3707446808510638"
            ]
          },
          "execution_count": 18,
          "metadata": {},
          "output_type": "execute_result"
        }
      ],
      "source": [
        "log_reg = Pipeline([\n",
        "    ('scaler', MinMaxScaler()),\n",
        "    ('clf', LogisticRegression(C=0.01, solver='liblinear', max_iter=10000))\n",
        "])\n",
        "log_reg.fit(X_train, y_train.ravel())\n",
        "log_reg_y = log_reg.predict(X_test)\n",
        "log_reg.score(X_test, y_test)"
      ]
    },
    {
      "cell_type": "markdown",
      "metadata": {
        "id": "ejx_0UuJOCN8"
      },
      "source": [
        "### K Nearest Neighbors Classifier\n",
        "\n",
        "Using **GridSearchCV()** to find best parameters for **KNeighborsClassifier**"
      ]
    },
    {
      "cell_type": "code",
      "execution_count": null,
      "metadata": {
        "colab": {
          "base_uri": "https://localhost:8080/"
        },
        "id": "tkBe8rZAMdLc",
        "outputId": "d8f8595e-50f5-41f7-a59d-5273e4ace63f"
      },
      "outputs": [
        {
          "name": "stdout",
          "output_type": "stream",
          "text": [
            "{'leaf_size': 10, 'n_neighbors': 4, 'p': 2}\n",
            "CPU times: user 18.3 s, sys: 2.64 s, total: 20.9 s\n",
            "Wall time: 51min 41s\n"
          ]
        }
      ],
      "source": [
        "%%time\n",
        "from sklearn.neighbors import KNeighborsClassifier\n",
        "\n",
        "\n",
        "clf = KNeighborsClassifier()\n",
        "param_grid = {'n_neighbors':  [1, 2, 3, 4],\n",
        "              'p': [1, 2], 'leaf_size': [10, 20, 30, 40]}\n",
        "gs = GridSearchCV(clf, param_grid, cv=5, scoring='accuracy', n_jobs=-1)\n",
        "gs.fit(X_train, y_train.ravel())\n",
        "print(gs.best_params_)"
      ]
    },
    {
      "cell_type": "code",
      "execution_count": null,
      "metadata": {
        "colab": {
          "base_uri": "https://localhost:8080/"
        },
        "id": "471gbCrZMdJB",
        "outputId": "ee87bbf6-0b92-4e1a-e8e0-659cecdb3fa7"
      },
      "outputs": [
        {
          "data": {
            "text/plain": [
              "0.3079787234042553"
            ]
          },
          "execution_count": 21,
          "metadata": {},
          "output_type": "execute_result"
        }
      ],
      "source": [
        "from sklearn.preprocessing import StandardScaler\n",
        "\n",
        "clf = KNeighborsClassifier(n_neighbors=4, p=1, leaf_size=10)\n",
        "knn = Pipeline([('scaler', StandardScaler()), ('clf', clf)])\n",
        "knn.fit(X_train, y_train.ravel())\n",
        "knn_y = knn.predict(X_test)\n",
        "knn.score(X_test, y_test)"
      ]
    },
    {
      "cell_type": "markdown",
      "metadata": {
        "id": "FPBOCtmUORKZ"
      },
      "source": [
        "Support Vector Machine\n",
        "Using GridSearchCV() to find best parameters for SVC"
      ]
    },
    {
      "cell_type": "code",
      "execution_count": null,
      "metadata": {
        "colab": {
          "base_uri": "https://localhost:8080/"
        },
        "id": "Hyf5NjCxMdGs",
        "outputId": "7db4dad8-088a-402c-ef56-143fccd18bae"
      },
      "outputs": [
        {
          "output_type": "stream",
          "name": "stdout",
          "text": [
            "Fitting 5 folds for each of 9 candidates, totalling 45 fits\n",
            "{'C': 0.5, 'gamma': 'scale'}\n",
            "CPU times: user 8min 38s, sys: 12.8 s, total: 8min 51s\n",
            "Wall time: 4h 37min 42s\n"
          ]
        }
      ],
      "source": [
        "%%time\n",
        "from sklearn.svm import SVC\n",
        "\n",
        "\n",
        "from sklearn.model_selection import GridSearchCV\n",
        "from sklearn.preprocessing import StandardScaler, MinMaxScaler\n",
        "from sklearn.pipeline import Pipeline\n",
        "from sklearn.linear_model import LogisticRegression\n",
        "\n",
        "\n",
        "clf = SVC()\n",
        "param_grid = {'C':  [0.1, .5, 1.0],\n",
        "              'gamma': ['scale', .1, .5]}\n",
        "gs = GridSearchCV(clf, param_grid, cv=5,\n",
        "                  scoring='accuracy', n_jobs=-1, verbose=1)\n",
        "gs.fit(X_train, y_train.ravel())\n",
        "print(gs.best_params_)"
      ]
    },
    {
      "cell_type": "code",
      "execution_count": null,
      "metadata": {
        "id": "pAw4-FS8MdD-",
        "colab": {
          "base_uri": "https://localhost:8080/"
        },
        "outputId": "9caefc5d-5d17-44df-916f-3afd0e6bf13a"
      },
      "outputs": [
        {
          "output_type": "execute_result",
          "data": {
            "text/plain": [
              "0.3756599788806758"
            ]
          },
          "metadata": {},
          "execution_count": 16
        }
      ],
      "source": [
        "svc = Pipeline([\n",
        "    ('scaler', MinMaxScaler()),\n",
        "    ('clf', SVC(C=1, gamma='scale'))\n",
        "]) \n",
        "svc.fit(X_train, y_train.ravel())\n",
        "svc_y = svc.predict(X_test)\n",
        "svc.score(X_test, y_test.ravel())"
      ]
    },
    {
      "cell_type": "markdown",
      "metadata": {
        "id": "nTpnjBZbOgJS"
      },
      "source": [
        "Extreme Gradient Boosting"
      ]
    },
    {
      "cell_type": "code",
      "execution_count": null,
      "metadata": {
        "colab": {
          "base_uri": "https://localhost:8080/"
        },
        "id": "qxP2vofqMdBf",
        "outputId": "4c8d5c7c-5efd-437b-8f19-6f2a5f42a74b"
      },
      "outputs": [
        {
          "output_type": "stream",
          "name": "stdout",
          "text": [
            "CPU times: user 24min 36s, sys: 2.34 s, total: 24min 39s\n",
            "Wall time: 24min 45s\n"
          ]
        },
        {
          "output_type": "execute_result",
          "data": {
            "text/plain": [
              "0.39836325237592396"
            ]
          },
          "metadata": {},
          "execution_count": 18
        }
      ],
      "source": [
        "%%time\n",
        "from sklearn.svm import SVC\n",
        "from xgboost import XGBClassifier\n",
        "\n",
        "from sklearn.svm import SVC\n",
        "\n",
        "\n",
        "from sklearn.model_selection import GridSearchCV\n",
        "from sklearn.preprocessing import StandardScaler, MinMaxScaler\n",
        "from sklearn.pipeline import Pipeline\n",
        "from sklearn.linear_model import LogisticRegression\n",
        "\n",
        "\n",
        "\n",
        "xgbc = Pipeline([('clf', XGBClassifier(learning_rate=0.01,\n",
        "                                       colsample_bytree=0.4,\n",
        "                                       subsample=0.8,\n",
        "                                       n_estimators=1000,\n",
        "                                       reg_alpha=0.3,\n",
        "                                       max_depth=4,\n",
        "                                       gamma=10))])\n",
        "\n",
        "xgbc.fit(X_train, y_train.ravel())\n",
        "xgbc_y = xgbc.predict(X_test)\n",
        "xgbc.score(X_test, y_test)"
      ]
    },
    {
      "cell_type": "markdown",
      "metadata": {
        "id": "vmkekQYVOk8S"
      },
      "source": [
        "AdaBoost\n",
        "Using GridSearchCV() to find best parameters for AdaBoostClassifier"
      ]
    },
    {
      "cell_type": "code",
      "execution_count": null,
      "metadata": {
        "colab": {
          "base_uri": "https://localhost:8080/"
        },
        "id": "7OQ1fKZzMc_a",
        "outputId": "4788e351-e512-4a28-f2ef-be14b70ad4d1"
      },
      "outputs": [
        {
          "output_type": "stream",
          "name": "stdout",
          "text": [
            "Fitting 5 folds for each of 15 candidates, totalling 75 fits\n",
            "CPU times: user 4min 17s, sys: 2.96 s, total: 4min 20s\n",
            "Wall time: 1h 8min 24s\n"
          ]
        },
        {
          "output_type": "execute_result",
          "data": {
            "text/plain": [
              "{'learning_rate': 0.1, 'n_estimators': 500}"
            ]
          },
          "metadata": {},
          "execution_count": 19
        }
      ],
      "source": [
        "%%time\n",
        "from sklearn.ensemble import AdaBoostClassifier\n",
        "\n",
        "adb = AdaBoostClassifier()\n",
        "param_grid = {\"n_estimators\": [10, 50, 100,\n",
        "                               500, 100], \"learning_rate\": [1, .1, .01]}\n",
        "gs = GridSearchCV(adb, param_grid, cv=5, verbose=1, n_jobs=-1)\n",
        "gs.fit(X_train, y_train.ravel())\n",
        "gs.best_params_"
      ]
    },
    {
      "cell_type": "code",
      "execution_count": null,
      "metadata": {
        "id": "tuOJqPXMMc8_",
        "colab": {
          "base_uri": "https://localhost:8080/"
        },
        "outputId": "74be5417-a4fc-4944-bed1-a558732a61fd"
      },
      "outputs": [
        {
          "output_type": "execute_result",
          "data": {
            "text/plain": [
              "0.4123548046462513"
            ]
          },
          "metadata": {},
          "execution_count": 21
        }
      ],
      "source": [
        "adb = AdaBoostClassifier(learning_rate=.1, n_estimators=500)\n",
        "adb.fit(X_train, y_train.ravel())\n",
        "adb_y = adb.predict(X_test)\n",
        "adb.score(X_test, y_test)"
      ]
    },
    {
      "cell_type": "markdown",
      "metadata": {
        "id": "Ek89xzpVOzOn"
      },
      "source": [
        "### One hot Encoding\n",
        "\n",
        "One hot encoding the target values for our CNN model"
      ]
    },
    {
      "cell_type": "code",
      "execution_count": null,
      "metadata": {
        "id": "kk91HvN5OzDp"
      },
      "outputs": [],
      "source": [
        "from sklearn.model_selection import StratifiedKFold, train_test_split\n",
        "from tensorflow.keras.utils import to_categorical\n",
        "\n",
        "y_enc = to_categorical(y)\n",
        "num_class = y_enc.shape[1]\n",
        "\n",
        "\n",
        "X_train, X_test, y_train, y_test = train_test_split(\n",
        "    X, y_enc, test_size=.2, random_state=seed, stratify=y)"
      ]
    },
    {
      "cell_type": "code",
      "execution_count": null,
      "metadata": {
        "colab": {
          "base_uri": "https://localhost:8080/"
        },
        "id": "pSUqrz_HBLxo",
        "outputId": "964100f5-1dc2-4ecb-a88f-7ea82605f81e"
      },
      "outputs": [
        {
          "name": "stdout",
          "output_type": "stream",
          "text": [
            "Looking in indexes: https://pypi.org/simple, https://us-python.pkg.dev/colab-wheels/public/simple/\n",
            "Collecting tensorflow-addons==0.16.1\n",
            "  Downloading tensorflow_addons-0.16.1-cp38-cp38-manylinux_2_12_x86_64.manylinux2010_x86_64.whl (1.1 MB)\n",
            "\u001b[2K     \u001b[90m━━━━━━━━━━━━━━━━━━━━━━━━━━━━━━━━━━━━━━━━\u001b[0m \u001b[32m1.1/1.1 MB\u001b[0m \u001b[31m29.7 MB/s\u001b[0m eta \u001b[36m0:00:00\u001b[0m\n",
            "\u001b[?25hRequirement already satisfied: typeguard>=2.7 in /usr/local/lib/python3.8/dist-packages (from tensorflow-addons==0.16.1) (2.7.1)\n",
            "Installing collected packages: tensorflow-addons\n",
            "Successfully installed tensorflow-addons-0.16.1\n"
          ]
        }
      ],
      "source": [
        "!pip install tensorflow-addons==0.16.1\n",
        "import tensorflow_addons as tfa"
      ]
    },
    {
      "cell_type": "code",
      "execution_count": null,
      "metadata": {
        "id": "a6oxS2WIOzA6"
      },
      "outputs": [],
      "source": [
        "from tensorflow.keras.models import Sequential\n",
        "from tensorflow.keras.layers import Conv1D, Dense, Embedding, GlobalAvgPool1D\n",
        "from tensorflow.keras.callbacks import EarlyStopping, ModelCheckpoint\n",
        "import tensorflow_addons as tfa\n",
        "\n",
        "f1_weighted = tfa.metrics.F1Score(num_class, 'weighted')\n",
        "\n",
        "\n",
        "def get_cnn():\n",
        "    model = Sequential()\n",
        "    model.add(Embedding(vocab_size+2, embed_size,\n",
        "              input_length=max_len, trainable=True))\n",
        "    model.add(Conv1D(128, 3, padding='same'))\n",
        "    model.add(GlobalAvgPool1D())\n",
        "    model.add(Dense(num_class, activation='softmax'))\n",
        "    model.compile(loss='categorical_crossentropy',\n",
        "                  optimizer='adam', metrics=['accuracy', f1_weighted])\n",
        "    return model"
      ]
    },
    {
      "cell_type": "markdown",
      "metadata": {
        "id": "mNKuTto0O_8K"
      },
      "source": [
        "### K-Fold CV\n",
        "\n",
        "Using $k=10$ folds for training and evaluating our model performance"
      ]
    },
    {
      "cell_type": "code",
      "execution_count": null,
      "metadata": {
        "colab": {
          "base_uri": "https://localhost:8080/"
        },
        "id": "QQaAZS6UOy-U",
        "outputId": "6417fc1f-df9c-4a0b-9d00-354cdc2b47ca"
      },
      "outputs": [
        {
          "name": "stdout",
          "output_type": "stream",
          "text": [
            "======================================================================================================================================================\n",
            "Iteration 1:\n",
            "Epoch 1/100\n",
            "10/10 [==============================] - 6s 517ms/step - loss: 1.3301 - accuracy: 0.3493 - f1_score: 0.2110 - val_loss: 1.3062 - val_accuracy: 0.3710 - val_f1_score: 0.2008\n",
            "Epoch 2/100\n",
            "10/10 [==============================] - 3s 288ms/step - loss: 1.3066 - accuracy: 0.3712 - f1_score: 0.2010 - val_loss: 1.3010 - val_accuracy: 0.3710 - val_f1_score: 0.2008\n",
            "Epoch 3/100\n",
            "10/10 [==============================] - 3s 266ms/step - loss: 1.3022 - accuracy: 0.3712 - f1_score: 0.2010 - val_loss: 1.3025 - val_accuracy: 0.3710 - val_f1_score: 0.2008\n",
            "Epoch 4/100\n",
            "10/10 [==============================] - 3s 272ms/step - loss: 1.3012 - accuracy: 0.3712 - f1_score: 0.2010 - val_loss: 1.3011 - val_accuracy: 0.3710 - val_f1_score: 0.2008\n",
            "Epoch 5/100\n",
            "10/10 [==============================] - 3s 319ms/step - loss: 1.3009 - accuracy: 0.3712 - f1_score: 0.2010 - val_loss: 1.3006 - val_accuracy: 0.3710 - val_f1_score: 0.2008\n",
            "Epoch 6/100\n",
            "10/10 [==============================] - 3s 298ms/step - loss: 1.3004 - accuracy: 0.3712 - f1_score: 0.2010 - val_loss: 1.3005 - val_accuracy: 0.3710 - val_f1_score: 0.2008\n",
            "Epoch 7/100\n",
            "10/10 [==============================] - 3s 281ms/step - loss: 1.3002 - accuracy: 0.3712 - f1_score: 0.2010 - val_loss: 1.3005 - val_accuracy: 0.3710 - val_f1_score: 0.2008\n",
            "Epoch 8/100\n",
            "10/10 [==============================] - 3s 277ms/step - loss: 1.3007 - accuracy: 0.3712 - f1_score: 0.2010 - val_loss: 1.3007 - val_accuracy: 0.3710 - val_f1_score: 0.2008\n",
            "Epoch 9/100\n",
            "10/10 [==============================] - 3s 284ms/step - loss: 1.3002 - accuracy: 0.3712 - f1_score: 0.2010 - val_loss: 1.3002 - val_accuracy: 0.3710 - val_f1_score: 0.2008\n",
            "Epoch 10/100\n",
            "10/10 [==============================] - 3s 341ms/step - loss: 1.3002 - accuracy: 0.3712 - f1_score: 0.2010 - val_loss: 1.3002 - val_accuracy: 0.3710 - val_f1_score: 0.2008\n",
            "Epoch 11/100\n",
            "10/10 [==============================] - 3s 261ms/step - loss: 1.2996 - accuracy: 0.3712 - f1_score: 0.2010 - val_loss: 1.2999 - val_accuracy: 0.3710 - val_f1_score: 0.2008\n",
            "Epoch 12/100\n",
            "10/10 [==============================] - 3s 272ms/step - loss: 1.2994 - accuracy: 0.3712 - f1_score: 0.2010 - val_loss: 1.2997 - val_accuracy: 0.3710 - val_f1_score: 0.2008\n",
            "Epoch 13/100\n",
            "10/10 [==============================] - 3s 274ms/step - loss: 1.2993 - accuracy: 0.3712 - f1_score: 0.2010 - val_loss: 1.2994 - val_accuracy: 0.3710 - val_f1_score: 0.2008\n",
            "Epoch 14/100\n",
            "10/10 [==============================] - 3s 288ms/step - loss: 1.2989 - accuracy: 0.3712 - f1_score: 0.2010 - val_loss: 1.2993 - val_accuracy: 0.3710 - val_f1_score: 0.2008\n",
            "Epoch 15/100\n",
            "10/10 [==============================] - 3s 319ms/step - loss: 1.2985 - accuracy: 0.3712 - f1_score: 0.2010 - val_loss: 1.2990 - val_accuracy: 0.3710 - val_f1_score: 0.2008\n",
            "Epoch 16/100\n",
            "10/10 [==============================] - 3s 283ms/step - loss: 1.2984 - accuracy: 0.3712 - f1_score: 0.2010 - val_loss: 1.2985 - val_accuracy: 0.3710 - val_f1_score: 0.2008\n",
            "Epoch 17/100\n",
            "10/10 [==============================] - 3s 273ms/step - loss: 1.2979 - accuracy: 0.3712 - f1_score: 0.2010 - val_loss: 1.2984 - val_accuracy: 0.3710 - val_f1_score: 0.2008\n",
            "Epoch 18/100\n",
            "10/10 [==============================] - 2s 252ms/step - loss: 1.2970 - accuracy: 0.3833 - f1_score: 0.2290 - val_loss: 1.2975 - val_accuracy: 0.3710 - val_f1_score: 0.2008\n",
            "Epoch 19/100\n",
            "10/10 [==============================] - 3s 279ms/step - loss: 1.2961 - accuracy: 0.3712 - f1_score: 0.2010 - val_loss: 1.2965 - val_accuracy: 0.3710 - val_f1_score: 0.2008\n",
            "Epoch 20/100\n",
            "10/10 [==============================] - 3s 279ms/step - loss: 1.2952 - accuracy: 0.3746 - f1_score: 0.3062 - val_loss: 1.2983 - val_accuracy: 0.3710 - val_f1_score: 0.2008\n",
            "Epoch 21/100\n",
            "10/10 [==============================] - 3s 268ms/step - loss: 1.2942 - accuracy: 0.4045 - f1_score: 0.2761 - val_loss: 1.2946 - val_accuracy: 0.3758 - val_f1_score: 0.2113\n",
            "Epoch 22/100\n",
            "10/10 [==============================] - 3s 254ms/step - loss: 1.2919 - accuracy: 0.3716 - f1_score: 0.2018 - val_loss: 1.2933 - val_accuracy: 0.3908 - val_f1_score: 0.2430\n",
            "Epoch 23/100\n",
            "10/10 [==============================] - 2s 252ms/step - loss: 1.2906 - accuracy: 0.4369 - f1_score: 0.3290 - val_loss: 1.2917 - val_accuracy: 0.3710 - val_f1_score: 0.2008\n",
            "Epoch 24/100\n",
            "10/10 [==============================] - 3s 283ms/step - loss: 1.2864 - accuracy: 0.3960 - f1_score: 0.2538 - val_loss: 1.2885 - val_accuracy: 0.3726 - val_f1_score: 0.2043\n",
            "Epoch 25/100\n",
            "10/10 [==============================] - 3s 284ms/step - loss: 1.2833 - accuracy: 0.4073 - f1_score: 0.2784 - val_loss: 1.2858 - val_accuracy: 0.4882 - val_f1_score: 0.3908\n",
            "Epoch 26/100\n",
            "10/10 [==============================] - 2s 243ms/step - loss: 1.2783 - accuracy: 0.4258 - f1_score: 0.3077 - val_loss: 1.2815 - val_accuracy: 0.4215 - val_f1_score: 0.2988\n",
            "Epoch 27/100\n",
            "10/10 [==============================] - 2s 245ms/step - loss: 1.2726 - accuracy: 0.4527 - f1_score: 0.3446 - val_loss: 1.2764 - val_accuracy: 0.4255 - val_f1_score: 0.3049\n",
            "Epoch 28/100\n",
            "10/10 [==============================] - 2s 242ms/step - loss: 1.2652 - accuracy: 0.4574 - f1_score: 0.3644 - val_loss: 1.2703 - val_accuracy: 0.4944 - val_f1_score: 0.3964\n",
            "Epoch 29/100\n",
            "10/10 [==============================] - 3s 282ms/step - loss: 1.2570 - accuracy: 0.4540 - f1_score: 0.3584 - val_loss: 1.2630 - val_accuracy: 0.4459 - val_f1_score: 0.3342\n",
            "Epoch 30/100\n",
            "10/10 [==============================] - 3s 271ms/step - loss: 1.2458 - accuracy: 0.4908 - f1_score: 0.4004 - val_loss: 1.2533 - val_accuracy: 0.5191 - val_f1_score: 0.4261\n",
            "Epoch 31/100\n",
            "10/10 [==============================] - 3s 273ms/step - loss: 1.2304 - accuracy: 0.5282 - f1_score: 0.4316 - val_loss: 1.2422 - val_accuracy: 0.5213 - val_f1_score: 0.4268\n",
            "Epoch 32/100\n",
            "10/10 [==============================] - 2s 243ms/step - loss: 1.2145 - accuracy: 0.5216 - f1_score: 0.4263 - val_loss: 1.2317 - val_accuracy: 0.5237 - val_f1_score: 0.4355\n",
            "Epoch 33/100\n",
            "10/10 [==============================] - 2s 243ms/step - loss: 1.1960 - accuracy: 0.5415 - f1_score: 0.4459 - val_loss: 1.2148 - val_accuracy: 0.5349 - val_f1_score: 0.4448\n",
            "Epoch 34/100\n",
            "10/10 [==============================] - 2s 237ms/step - loss: 1.1746 - accuracy: 0.5464 - f1_score: 0.4507 - val_loss: 1.1986 - val_accuracy: 0.5349 - val_f1_score: 0.4363\n",
            "Epoch 35/100\n",
            "10/10 [==============================] - 3s 270ms/step - loss: 1.1523 - accuracy: 0.5539 - f1_score: 0.4572 - val_loss: 1.1811 - val_accuracy: 0.5347 - val_f1_score: 0.4352\n",
            "Epoch 36/100\n",
            "10/10 [==============================] - 2s 235ms/step - loss: 1.1219 - accuracy: 0.5826 - f1_score: 0.4818 - val_loss: 1.1597 - val_accuracy: 0.5629 - val_f1_score: 0.4659\n",
            "Epoch 37/100\n",
            "10/10 [==============================] - 2s 252ms/step - loss: 1.0942 - accuracy: 0.5889 - f1_score: 0.4878 - val_loss: 1.1445 - val_accuracy: 0.5536 - val_f1_score: 0.4647\n",
            "Epoch 38/100\n",
            "10/10 [==============================] - 2s 241ms/step - loss: 1.0611 - accuracy: 0.6081 - f1_score: 0.5051 - val_loss: 1.1181 - val_accuracy: 0.5787 - val_f1_score: 0.4802\n",
            "Epoch 39/100\n",
            "10/10 [==============================] - 2s 241ms/step - loss: 1.0288 - accuracy: 0.6189 - f1_score: 0.5142 - val_loss: 1.1017 - val_accuracy: 0.5627 - val_f1_score: 0.4607\n",
            "Epoch 40/100\n",
            "10/10 [==============================] - 3s 267ms/step - loss: 1.0085 - accuracy: 0.5995 - f1_score: 0.4977 - val_loss: 1.0912 - val_accuracy: 0.5682 - val_f1_score: 0.4810\n",
            "Epoch 41/100\n",
            "10/10 [==============================] - 2s 248ms/step - loss: 0.9758 - accuracy: 0.6172 - f1_score: 0.5180 - val_loss: 1.0791 - val_accuracy: 0.5690 - val_f1_score: 0.4844\n",
            "Epoch 42/100\n",
            "10/10 [==============================] - 2s 253ms/step - loss: 0.9386 - accuracy: 0.6410 - f1_score: 0.5418 - val_loss: 1.0470 - val_accuracy: 0.5920 - val_f1_score: 0.5044\n",
            "Epoch 43/100\n",
            "10/10 [==============================] - 2s 244ms/step - loss: 0.9029 - accuracy: 0.6553 - f1_score: 0.5589 - val_loss: 1.0085 - val_accuracy: 0.6133 - val_f1_score: 0.5179\n",
            "Epoch 44/100\n",
            "10/10 [==============================] - 2s 246ms/step - loss: 0.8667 - accuracy: 0.6692 - f1_score: 0.5793 - val_loss: 0.9854 - val_accuracy: 0.6171 - val_f1_score: 0.5180\n",
            "Epoch 45/100\n",
            "10/10 [==============================] - 2s 253ms/step - loss: 0.8369 - accuracy: 0.6810 - f1_score: 0.5953 - val_loss: 0.9626 - val_accuracy: 0.6258 - val_f1_score: 0.5354\n",
            "Epoch 46/100\n",
            "10/10 [==============================] - 3s 266ms/step - loss: 0.7988 - accuracy: 0.7022 - f1_score: 0.6267 - val_loss: 0.9441 - val_accuracy: 0.6357 - val_f1_score: 0.5576\n",
            "Epoch 47/100\n",
            "10/10 [==============================] - 2s 232ms/step - loss: 0.7677 - accuracy: 0.7101 - f1_score: 0.6384 - val_loss: 0.9199 - val_accuracy: 0.6401 - val_f1_score: 0.5578\n",
            "Epoch 48/100\n",
            "10/10 [==============================] - 2s 245ms/step - loss: 0.7353 - accuracy: 0.7202 - f1_score: 0.6518 - val_loss: 0.9059 - val_accuracy: 0.6506 - val_f1_score: 0.5848\n",
            "Epoch 49/100\n",
            "10/10 [==============================] - 3s 257ms/step - loss: 0.7044 - accuracy: 0.7346 - f1_score: 0.6714 - val_loss: 0.8875 - val_accuracy: 0.6424 - val_f1_score: 0.5684\n",
            "Epoch 50/100\n",
            "10/10 [==============================] - 2s 220ms/step - loss: 0.6809 - accuracy: 0.7476 - f1_score: 0.6911 - val_loss: 0.8650 - val_accuracy: 0.6543 - val_f1_score: 0.5755\n",
            "Epoch 51/100\n",
            "10/10 [==============================] - 2s 226ms/step - loss: 0.6489 - accuracy: 0.7506 - f1_score: 0.6929 - val_loss: 0.8722 - val_accuracy: 0.6921 - val_f1_score: 0.6606\n",
            "Epoch 52/100\n",
            "10/10 [==============================] - 2s 228ms/step - loss: 0.6221 - accuracy: 0.7717 - f1_score: 0.7224 - val_loss: 0.8173 - val_accuracy: 0.6755 - val_f1_score: 0.6117\n",
            "Epoch 53/100\n",
            "10/10 [==============================] - 2s 237ms/step - loss: 0.5915 - accuracy: 0.7786 - f1_score: 0.7309 - val_loss: 0.8024 - val_accuracy: 0.6854 - val_f1_score: 0.6350\n",
            "Epoch 54/100\n",
            "10/10 [==============================] - 3s 258ms/step - loss: 0.5678 - accuracy: 0.7857 - f1_score: 0.7401 - val_loss: 0.7803 - val_accuracy: 0.7050 - val_f1_score: 0.6588\n",
            "Epoch 55/100\n",
            "10/10 [==============================] - 2s 237ms/step - loss: 0.5456 - accuracy: 0.7959 - f1_score: 0.7529 - val_loss: 0.7637 - val_accuracy: 0.7137 - val_f1_score: 0.6718\n",
            "Epoch 56/100\n",
            "10/10 [==============================] - 2s 238ms/step - loss: 0.5178 - accuracy: 0.8081 - f1_score: 0.7728 - val_loss: 0.7487 - val_accuracy: 0.7135 - val_f1_score: 0.6706\n",
            "Epoch 57/100\n",
            "10/10 [==============================] - 3s 290ms/step - loss: 0.4979 - accuracy: 0.8150 - f1_score: 0.7809 - val_loss: 0.7311 - val_accuracy: 0.7171 - val_f1_score: 0.6698\n",
            "Epoch 58/100\n",
            "10/10 [==============================] - 2s 230ms/step - loss: 0.4788 - accuracy: 0.8201 - f1_score: 0.7870 - val_loss: 0.7201 - val_accuracy: 0.7191 - val_f1_score: 0.6817\n",
            "Epoch 59/100\n",
            "10/10 [==============================] - 2s 227ms/step - loss: 0.4609 - accuracy: 0.8279 - f1_score: 0.7983 - val_loss: 0.7062 - val_accuracy: 0.7294 - val_f1_score: 0.6927\n",
            "Epoch 60/100\n",
            "10/10 [==============================] - 2s 219ms/step - loss: 0.4442 - accuracy: 0.8368 - f1_score: 0.8113 - val_loss: 0.6934 - val_accuracy: 0.7290 - val_f1_score: 0.6960\n",
            "Epoch 61/100\n",
            "10/10 [==============================] - 2s 235ms/step - loss: 0.4281 - accuracy: 0.8425 - f1_score: 0.8234 - val_loss: 0.6802 - val_accuracy: 0.7397 - val_f1_score: 0.7131\n",
            "Epoch 62/100\n",
            "10/10 [==============================] - 3s 259ms/step - loss: 0.4120 - accuracy: 0.8496 - f1_score: 0.8319 - val_loss: 0.6668 - val_accuracy: 0.7418 - val_f1_score: 0.7118\n",
            "Epoch 63/100\n",
            "10/10 [==============================] - 3s 266ms/step - loss: 0.3965 - accuracy: 0.8535 - f1_score: 0.8344 - val_loss: 0.6537 - val_accuracy: 0.7470 - val_f1_score: 0.7177\n",
            "Epoch 64/100\n",
            "10/10 [==============================] - 2s 251ms/step - loss: 0.3835 - accuracy: 0.8541 - f1_score: 0.8348 - val_loss: 0.6438 - val_accuracy: 0.7484 - val_f1_score: 0.7195\n",
            "Epoch 65/100\n",
            "10/10 [==============================] - 2s 221ms/step - loss: 0.3757 - accuracy: 0.8603 - f1_score: 0.8453 - val_loss: 0.6455 - val_accuracy: 0.7509 - val_f1_score: 0.7297\n",
            "Epoch 66/100\n",
            "10/10 [==============================] - 2s 235ms/step - loss: 0.3589 - accuracy: 0.8691 - f1_score: 0.8587 - val_loss: 0.6306 - val_accuracy: 0.7604 - val_f1_score: 0.7448\n",
            "Epoch 67/100\n",
            "10/10 [==============================] - 2s 236ms/step - loss: 0.3480 - accuracy: 0.8757 - f1_score: 0.8668 - val_loss: 0.6218 - val_accuracy: 0.7577 - val_f1_score: 0.7382\n",
            "Epoch 68/100\n",
            "10/10 [==============================] - 2s 257ms/step - loss: 0.3388 - accuracy: 0.8777 - f1_score: 0.8690 - val_loss: 0.6140 - val_accuracy: 0.7723 - val_f1_score: 0.7608\n",
            "Epoch 69/100\n",
            "10/10 [==============================] - 2s 253ms/step - loss: 0.3276 - accuracy: 0.8857 - f1_score: 0.8791 - val_loss: 0.6026 - val_accuracy: 0.7711 - val_f1_score: 0.7557\n",
            "Epoch 70/100\n",
            "10/10 [==============================] - 2s 240ms/step - loss: 0.3180 - accuracy: 0.8883 - f1_score: 0.8823 - val_loss: 0.5969 - val_accuracy: 0.7785 - val_f1_score: 0.7676\n",
            "Epoch 71/100\n",
            "10/10 [==============================] - 2s 229ms/step - loss: 0.3098 - accuracy: 0.8934 - f1_score: 0.8884 - val_loss: 0.5939 - val_accuracy: 0.7733 - val_f1_score: 0.7575\n",
            "Epoch 72/100\n",
            "10/10 [==============================] - 3s 260ms/step - loss: 0.3004 - accuracy: 0.8960 - f1_score: 0.8904 - val_loss: 0.5885 - val_accuracy: 0.7761 - val_f1_score: 0.7610\n",
            "Epoch 73/100\n",
            "10/10 [==============================] - 3s 256ms/step - loss: 0.2910 - accuracy: 0.9056 - f1_score: 0.9023 - val_loss: 0.5782 - val_accuracy: 0.7858 - val_f1_score: 0.7763\n",
            "Epoch 74/100\n",
            "10/10 [==============================] - 2s 213ms/step - loss: 0.2856 - accuracy: 0.9076 - f1_score: 0.9048 - val_loss: 0.5830 - val_accuracy: 0.7753 - val_f1_score: 0.7570\n",
            "Epoch 75/100\n",
            "10/10 [==============================] - 2s 205ms/step - loss: 0.2751 - accuracy: 0.9131 - f1_score: 0.9103 - val_loss: 0.5865 - val_accuracy: 0.7802 - val_f1_score: 0.7748\n",
            "Epoch 76/100\n",
            "10/10 [==============================] - 2s 221ms/step - loss: 0.2648 - accuracy: 0.9204 - f1_score: 0.9184 - val_loss: 0.5731 - val_accuracy: 0.7834 - val_f1_score: 0.7752\n",
            "Epoch 77/100\n",
            "10/10 [==============================] - 2s 251ms/step - loss: 0.2561 - accuracy: 0.9247 - f1_score: 0.9230 - val_loss: 0.5608 - val_accuracy: 0.7977 - val_f1_score: 0.7928\n",
            "Epoch 78/100\n",
            "10/10 [==============================] - 2s 225ms/step - loss: 0.2462 - accuracy: 0.9297 - f1_score: 0.9283 - val_loss: 0.5619 - val_accuracy: 0.7949 - val_f1_score: 0.7915\n",
            "Epoch 79/100\n",
            "10/10 [==============================] - 2s 240ms/step - loss: 0.2391 - accuracy: 0.9323 - f1_score: 0.9311 - val_loss: 0.5591 - val_accuracy: 0.8036 - val_f1_score: 0.8003\n",
            "Epoch 80/100\n",
            "10/10 [==============================] - 2s 223ms/step - loss: 0.2316 - accuracy: 0.9385 - f1_score: 0.9377 - val_loss: 0.5503 - val_accuracy: 0.8044 - val_f1_score: 0.8013\n",
            "Epoch 81/100\n",
            "10/10 [==============================] - 2s 242ms/step - loss: 0.2231 - accuracy: 0.9411 - f1_score: 0.9404 - val_loss: 0.5468 - val_accuracy: 0.8080 - val_f1_score: 0.8050\n",
            "Epoch 82/100\n",
            "10/10 [==============================] - 2s 234ms/step - loss: 0.2134 - accuracy: 0.9456 - f1_score: 0.9450 - val_loss: 0.5463 - val_accuracy: 0.8093 - val_f1_score: 0.8089\n",
            "Epoch 83/100\n",
            "10/10 [==============================] - 2s 235ms/step - loss: 0.2032 - accuracy: 0.9519 - f1_score: 0.9515 - val_loss: 0.5389 - val_accuracy: 0.8119 - val_f1_score: 0.8104\n",
            "Epoch 84/100\n",
            "10/10 [==============================] - 2s 213ms/step - loss: 0.1968 - accuracy: 0.9539 - f1_score: 0.9534 - val_loss: 0.5422 - val_accuracy: 0.8052 - val_f1_score: 0.8003\n",
            "Epoch 85/100\n",
            "10/10 [==============================] - 2s 251ms/step - loss: 0.1925 - accuracy: 0.9544 - f1_score: 0.9540 - val_loss: 0.5305 - val_accuracy: 0.8131 - val_f1_score: 0.8109\n",
            "Epoch 86/100\n",
            "10/10 [==============================] - 2s 249ms/step - loss: 0.1805 - accuracy: 0.9583 - f1_score: 0.9580 - val_loss: 0.5298 - val_accuracy: 0.8151 - val_f1_score: 0.8139\n",
            "Epoch 87/100\n",
            "10/10 [==============================] - 2s 242ms/step - loss: 0.1737 - accuracy: 0.9624 - f1_score: 0.9622 - val_loss: 0.5279 - val_accuracy: 0.8186 - val_f1_score: 0.8153\n",
            "Epoch 88/100\n",
            "10/10 [==============================] - 2s 213ms/step - loss: 0.1661 - accuracy: 0.9654 - f1_score: 0.9653 - val_loss: 0.5282 - val_accuracy: 0.8133 - val_f1_score: 0.8093\n",
            "Epoch 89/100\n",
            "10/10 [==============================] - 2s 218ms/step - loss: 0.1598 - accuracy: 0.9658 - f1_score: 0.9657 - val_loss: 0.5227 - val_accuracy: 0.8214 - val_f1_score: 0.8187\n",
            "Epoch 90/100\n",
            "10/10 [==============================] - 2s 235ms/step - loss: 0.1561 - accuracy: 0.9663 - f1_score: 0.9662 - val_loss: 0.5147 - val_accuracy: 0.8242 - val_f1_score: 0.8214\n",
            "Epoch 91/100\n",
            "10/10 [==============================] - 3s 269ms/step - loss: 0.1463 - accuracy: 0.9714 - f1_score: 0.9713 - val_loss: 0.5136 - val_accuracy: 0.8254 - val_f1_score: 0.8222\n",
            "Epoch 92/100\n",
            "10/10 [==============================] - 2s 222ms/step - loss: 0.1425 - accuracy: 0.9721 - f1_score: 0.9720 - val_loss: 0.5233 - val_accuracy: 0.8171 - val_f1_score: 0.8163\n",
            "Epoch 93/100\n",
            "10/10 [==============================] - 2s 209ms/step - loss: 0.1352 - accuracy: 0.9748 - f1_score: 0.9747 - val_loss: 0.5387 - val_accuracy: 0.8153 - val_f1_score: 0.8161\n",
            "Epoch 94/100\n",
            "10/10 [==============================] - 3s 262ms/step - loss: 0.1319 - accuracy: 0.9748 - f1_score: 0.9747 - val_loss: 0.5130 - val_accuracy: 0.8274 - val_f1_score: 0.8232\n",
            "Epoch 95/100\n",
            "10/10 [==============================] - 2s 223ms/step - loss: 0.1306 - accuracy: 0.9747 - f1_score: 0.9746 - val_loss: 0.5079 - val_accuracy: 0.8299 - val_f1_score: 0.8271\n",
            "Epoch 96/100\n",
            "10/10 [==============================] - 2s 205ms/step - loss: 0.1254 - accuracy: 0.9771 - f1_score: 0.9770 - val_loss: 0.5230 - val_accuracy: 0.8250 - val_f1_score: 0.8257\n",
            "Epoch 97/100\n",
            "10/10 [==============================] - 2s 233ms/step - loss: 0.1195 - accuracy: 0.9774 - f1_score: 0.9774 - val_loss: 0.5381 - val_accuracy: 0.8179 - val_f1_score: 0.8176\n",
            "Epoch 98/100\n",
            "10/10 [==============================] - 2s 253ms/step - loss: 0.1140 - accuracy: 0.9788 - f1_score: 0.9788 - val_loss: 0.5145 - val_accuracy: 0.8333 - val_f1_score: 0.8346\n",
            "======================================================================================================================================================\n",
            "Iteration 2:\n",
            "Epoch 1/100\n",
            "10/10 [==============================] - 5s 435ms/step - loss: 1.3271 - accuracy: 0.3482 - f1_score: 0.4723 - val_loss: 1.3070 - val_accuracy: 0.3711 - val_f1_score: 0.2009\n",
            "Epoch 2/100\n",
            "10/10 [==============================] - 3s 331ms/step - loss: 1.3068 - accuracy: 0.3712 - f1_score: 0.2009 - val_loss: 1.3012 - val_accuracy: 0.3711 - val_f1_score: 0.2009\n",
            "Epoch 3/100\n",
            "10/10 [==============================] - 3s 271ms/step - loss: 1.3026 - accuracy: 0.3712 - f1_score: 0.2009 - val_loss: 1.3019 - val_accuracy: 0.3711 - val_f1_score: 0.2009\n",
            "Epoch 4/100\n",
            "10/10 [==============================] - 3s 279ms/step - loss: 1.3007 - accuracy: 0.3712 - f1_score: 0.2009 - val_loss: 1.3010 - val_accuracy: 0.3711 - val_f1_score: 0.2009\n",
            "Epoch 5/100\n",
            "10/10 [==============================] - 3s 314ms/step - loss: 1.3015 - accuracy: 0.3712 - f1_score: 0.2009 - val_loss: 1.3007 - val_accuracy: 0.3711 - val_f1_score: 0.2009\n",
            "Epoch 6/100\n",
            "10/10 [==============================] - 3s 333ms/step - loss: 1.3010 - accuracy: 0.3712 - f1_score: 0.2009 - val_loss: 1.3004 - val_accuracy: 0.3711 - val_f1_score: 0.2009\n",
            "Epoch 7/100\n",
            "10/10 [==============================] - 3s 283ms/step - loss: 1.3003 - accuracy: 0.3712 - f1_score: 0.2009 - val_loss: 1.3002 - val_accuracy: 0.3711 - val_f1_score: 0.2009\n",
            "Epoch 8/100\n",
            "10/10 [==============================] - 3s 295ms/step - loss: 1.3004 - accuracy: 0.3712 - f1_score: 0.2009 - val_loss: 1.3001 - val_accuracy: 0.3711 - val_f1_score: 0.2009\n",
            "Epoch 9/100\n",
            "10/10 [==============================] - 3s 285ms/step - loss: 1.3001 - accuracy: 0.3712 - f1_score: 0.2009 - val_loss: 1.3000 - val_accuracy: 0.3711 - val_f1_score: 0.2009\n",
            "Epoch 10/100\n",
            "10/10 [==============================] - 3s 304ms/step - loss: 1.3005 - accuracy: 0.3777 - f1_score: 0.2601 - val_loss: 1.3001 - val_accuracy: 0.3711 - val_f1_score: 0.2009\n",
            "Epoch 11/100\n",
            "10/10 [==============================] - 3s 322ms/step - loss: 1.3005 - accuracy: 0.3712 - f1_score: 0.2009 - val_loss: 1.2998 - val_accuracy: 0.3711 - val_f1_score: 0.2009\n",
            "Epoch 12/100\n",
            "10/10 [==============================] - 3s 276ms/step - loss: 1.2997 - accuracy: 0.3712 - f1_score: 0.2009 - val_loss: 1.2998 - val_accuracy: 0.3711 - val_f1_score: 0.2009\n",
            "Epoch 13/100\n",
            "10/10 [==============================] - 3s 272ms/step - loss: 1.2993 - accuracy: 0.3712 - f1_score: 0.2009 - val_loss: 1.2992 - val_accuracy: 0.3711 - val_f1_score: 0.2009\n",
            "Epoch 14/100\n",
            "10/10 [==============================] - 2s 248ms/step - loss: 1.2989 - accuracy: 0.3712 - f1_score: 0.2009 - val_loss: 1.2989 - val_accuracy: 0.3711 - val_f1_score: 0.2009\n",
            "Epoch 15/100\n",
            "10/10 [==============================] - 3s 291ms/step - loss: 1.2987 - accuracy: 0.3712 - f1_score: 0.2009 - val_loss: 1.2984 - val_accuracy: 0.3711 - val_f1_score: 0.2009\n",
            "Epoch 16/100\n",
            "10/10 [==============================] - 3s 311ms/step - loss: 1.2979 - accuracy: 0.3712 - f1_score: 0.2009 - val_loss: 1.2980 - val_accuracy: 0.3711 - val_f1_score: 0.2009\n",
            "Epoch 17/100\n",
            "10/10 [==============================] - 2s 240ms/step - loss: 1.2970 - accuracy: 0.3712 - f1_score: 0.2009 - val_loss: 1.2983 - val_accuracy: 0.3711 - val_f1_score: 0.2009\n",
            "Epoch 18/100\n",
            "10/10 [==============================] - 2s 241ms/step - loss: 1.2961 - accuracy: 0.3740 - f1_score: 0.2771 - val_loss: 1.3001 - val_accuracy: 0.3315 - val_f1_score: 0.1658\n",
            "Epoch 19/100\n",
            "10/10 [==============================] - 3s 296ms/step - loss: 1.2961 - accuracy: 0.3700 - f1_score: 0.2923 - val_loss: 1.2955 - val_accuracy: 0.3711 - val_f1_score: 0.2009\n",
            "Epoch 20/100\n",
            "10/10 [==============================] - 3s 307ms/step - loss: 1.2941 - accuracy: 0.3782 - f1_score: 0.2171 - val_loss: 1.2942 - val_accuracy: 0.3711 - val_f1_score: 0.2009\n",
            "Epoch 21/100\n",
            "10/10 [==============================] - 3s 272ms/step - loss: 1.2920 - accuracy: 0.3712 - f1_score: 0.2009 - val_loss: 1.2923 - val_accuracy: 0.3713 - val_f1_score: 0.2013\n",
            "Epoch 22/100\n",
            "10/10 [==============================] - 2s 254ms/step - loss: 1.2899 - accuracy: 0.4035 - f1_score: 0.2781 - val_loss: 1.2906 - val_accuracy: 0.4602 - val_f1_score: 0.3555\n",
            "Epoch 23/100\n",
            "10/10 [==============================] - 2s 236ms/step - loss: 1.2868 - accuracy: 0.4326 - f1_score: 0.3284 - val_loss: 1.2877 - val_accuracy: 0.3731 - val_f1_score: 0.2052\n",
            "Epoch 24/100\n",
            "10/10 [==============================] - 3s 268ms/step - loss: 1.2833 - accuracy: 0.4286 - f1_score: 0.3311 - val_loss: 1.2846 - val_accuracy: 0.4945 - val_f1_score: 0.3998\n",
            "Epoch 25/100\n",
            "10/10 [==============================] - 3s 322ms/step - loss: 1.2780 - accuracy: 0.4404 - f1_score: 0.3550 - val_loss: 1.2806 - val_accuracy: 0.3830 - val_f1_score: 0.2266\n",
            "Epoch 26/100\n",
            "10/10 [==============================] - 2s 240ms/step - loss: 1.2716 - accuracy: 0.4609 - f1_score: 0.3583 - val_loss: 1.2753 - val_accuracy: 0.4089 - val_f1_score: 0.2763\n",
            "Epoch 27/100\n",
            "10/10 [==============================] - 2s 232ms/step - loss: 1.2635 - accuracy: 0.5102 - f1_score: 0.4113 - val_loss: 1.2682 - val_accuracy: 0.4968 - val_f1_score: 0.4003\n",
            "Epoch 28/100\n",
            "10/10 [==============================] - 2s 245ms/step - loss: 1.2559 - accuracy: 0.5003 - f1_score: 0.4092 - val_loss: 1.2610 - val_accuracy: 0.5095 - val_f1_score: 0.4214\n",
            "Epoch 29/100\n",
            "10/10 [==============================] - 2s 251ms/step - loss: 1.2448 - accuracy: 0.4816 - f1_score: 0.3904 - val_loss: 1.2523 - val_accuracy: 0.4685 - val_f1_score: 0.3645\n",
            "Epoch 30/100\n",
            "10/10 [==============================] - 2s 223ms/step - loss: 1.2289 - accuracy: 0.5302 - f1_score: 0.4341 - val_loss: 1.2585 - val_accuracy: 0.4168 - val_f1_score: 0.3243\n",
            "Epoch 31/100\n",
            "10/10 [==============================] - 2s 255ms/step - loss: 1.2177 - accuracy: 0.5088 - f1_score: 0.4180 - val_loss: 1.2281 - val_accuracy: 0.5299 - val_f1_score: 0.4349\n",
            "Epoch 32/100\n",
            "10/10 [==============================] - 2s 246ms/step - loss: 1.1951 - accuracy: 0.5690 - f1_score: 0.4685 - val_loss: 1.2269 - val_accuracy: 0.4721 - val_f1_score: 0.3907\n",
            "Epoch 33/100\n",
            "10/10 [==============================] - 3s 273ms/step - loss: 1.1816 - accuracy: 0.5347 - f1_score: 0.4406 - val_loss: 1.2008 - val_accuracy: 0.5362 - val_f1_score: 0.4466\n",
            "Epoch 34/100\n",
            "10/10 [==============================] - 3s 255ms/step - loss: 1.1548 - accuracy: 0.5779 - f1_score: 0.4787 - val_loss: 1.1872 - val_accuracy: 0.5265 - val_f1_score: 0.4273\n",
            "Epoch 35/100\n",
            "10/10 [==============================] - 3s 266ms/step - loss: 1.1313 - accuracy: 0.5879 - f1_score: 0.4852 - val_loss: 1.1657 - val_accuracy: 0.5586 - val_f1_score: 0.4623\n",
            "Epoch 36/100\n",
            "10/10 [==============================] - 3s 306ms/step - loss: 1.1057 - accuracy: 0.6016 - f1_score: 0.4985 - val_loss: 1.1477 - val_accuracy: 0.5669 - val_f1_score: 0.4708\n",
            "Epoch 37/100\n",
            "10/10 [==============================] - 3s 261ms/step - loss: 1.0763 - accuracy: 0.6181 - f1_score: 0.5120 - val_loss: 1.1283 - val_accuracy: 0.5715 - val_f1_score: 0.4714\n",
            "Epoch 38/100\n",
            "10/10 [==============================] - 3s 251ms/step - loss: 1.0482 - accuracy: 0.6290 - f1_score: 0.5215 - val_loss: 1.1082 - val_accuracy: 0.5784 - val_f1_score: 0.4775\n",
            "Epoch 39/100\n",
            "10/10 [==============================] - 3s 259ms/step - loss: 1.0238 - accuracy: 0.6270 - f1_score: 0.5205 - val_loss: 1.0911 - val_accuracy: 0.5778 - val_f1_score: 0.4749\n",
            "Epoch 40/100\n",
            "10/10 [==============================] - 2s 254ms/step - loss: 0.9921 - accuracy: 0.6368 - f1_score: 0.5281 - val_loss: 1.0687 - val_accuracy: 0.5929 - val_f1_score: 0.4894\n",
            "Epoch 41/100\n",
            "10/10 [==============================] - 3s 264ms/step - loss: 0.9736 - accuracy: 0.6354 - f1_score: 0.5287 - val_loss: 1.0607 - val_accuracy: 0.5754 - val_f1_score: 0.4714\n",
            "Epoch 42/100\n",
            "10/10 [==============================] - 2s 222ms/step - loss: 0.9402 - accuracy: 0.6484 - f1_score: 0.5381 - val_loss: 1.0346 - val_accuracy: 0.6063 - val_f1_score: 0.5076\n",
            "Epoch 43/100\n",
            "10/10 [==============================] - 3s 259ms/step - loss: 0.9100 - accuracy: 0.6621 - f1_score: 0.5516 - val_loss: 1.0121 - val_accuracy: 0.6081 - val_f1_score: 0.5027\n",
            "Epoch 44/100\n",
            "10/10 [==============================] - 2s 245ms/step - loss: 0.8932 - accuracy: 0.6591 - f1_score: 0.5494 - val_loss: 0.9957 - val_accuracy: 0.6170 - val_f1_score: 0.5107\n",
            "Epoch 45/100\n",
            "10/10 [==============================] - 2s 254ms/step - loss: 0.8619 - accuracy: 0.6662 - f1_score: 0.5552 - val_loss: 0.9741 - val_accuracy: 0.6238 - val_f1_score: 0.5185\n",
            "Epoch 46/100\n",
            "10/10 [==============================] - 2s 246ms/step - loss: 0.8355 - accuracy: 0.6727 - f1_score: 0.5625 - val_loss: 0.9569 - val_accuracy: 0.6283 - val_f1_score: 0.5236\n",
            "Epoch 47/100\n",
            "10/10 [==============================] - 3s 305ms/step - loss: 0.8130 - accuracy: 0.6758 - f1_score: 0.5652 - val_loss: 0.9416 - val_accuracy: 0.6343 - val_f1_score: 0.5309\n",
            "Epoch 48/100\n",
            "10/10 [==============================] - 2s 238ms/step - loss: 0.7885 - accuracy: 0.6828 - f1_score: 0.5743 - val_loss: 0.9255 - val_accuracy: 0.6321 - val_f1_score: 0.5267\n",
            "Epoch 49/100\n",
            "10/10 [==============================] - 2s 238ms/step - loss: 0.7632 - accuracy: 0.6884 - f1_score: 0.5850 - val_loss: 0.9063 - val_accuracy: 0.6424 - val_f1_score: 0.5405\n",
            "Epoch 50/100\n",
            "10/10 [==============================] - 2s 236ms/step - loss: 0.7398 - accuracy: 0.6973 - f1_score: 0.6004 - val_loss: 0.8904 - val_accuracy: 0.6398 - val_f1_score: 0.5375\n",
            "Epoch 51/100\n",
            "10/10 [==============================] - 2s 226ms/step - loss: 0.7199 - accuracy: 0.7058 - f1_score: 0.6185 - val_loss: 0.8804 - val_accuracy: 0.6469 - val_f1_score: 0.5585\n",
            "Epoch 52/100\n",
            "10/10 [==============================] - 3s 270ms/step - loss: 0.6963 - accuracy: 0.7163 - f1_score: 0.6386 - val_loss: 0.8639 - val_accuracy: 0.6580 - val_f1_score: 0.5821\n",
            "Epoch 53/100\n",
            "10/10 [==============================] - 2s 244ms/step - loss: 0.6756 - accuracy: 0.7298 - f1_score: 0.6631 - val_loss: 0.8460 - val_accuracy: 0.6578 - val_f1_score: 0.5770\n",
            "Epoch 54/100\n",
            "10/10 [==============================] - 2s 235ms/step - loss: 0.6549 - accuracy: 0.7415 - f1_score: 0.6843 - val_loss: 0.8306 - val_accuracy: 0.6596 - val_f1_score: 0.5790\n",
            "Epoch 55/100\n",
            "10/10 [==============================] - 2s 255ms/step - loss: 0.6326 - accuracy: 0.7513 - f1_score: 0.6990 - val_loss: 0.8234 - val_accuracy: 0.6651 - val_f1_score: 0.5950\n",
            "Epoch 56/100\n",
            "10/10 [==============================] - 2s 236ms/step - loss: 0.6114 - accuracy: 0.7590 - f1_score: 0.7112 - val_loss: 0.8016 - val_accuracy: 0.6824 - val_f1_score: 0.6252\n",
            "Epoch 57/100\n",
            "10/10 [==============================] - 3s 289ms/step - loss: 0.5932 - accuracy: 0.7784 - f1_score: 0.7413 - val_loss: 0.7856 - val_accuracy: 0.6818 - val_f1_score: 0.6208\n",
            "Epoch 58/100\n",
            "10/10 [==============================] - 2s 251ms/step - loss: 0.5693 - accuracy: 0.7887 - f1_score: 0.7539 - val_loss: 0.7754 - val_accuracy: 0.6818 - val_f1_score: 0.6242\n",
            "Epoch 59/100\n",
            "10/10 [==============================] - 2s 212ms/step - loss: 0.5546 - accuracy: 0.7970 - f1_score: 0.7664 - val_loss: 0.7881 - val_accuracy: 0.6826 - val_f1_score: 0.6375\n",
            "Epoch 60/100\n",
            "10/10 [==============================] - 2s 242ms/step - loss: 0.5458 - accuracy: 0.8018 - f1_score: 0.7757 - val_loss: 0.7476 - val_accuracy: 0.6897 - val_f1_score: 0.6329\n",
            "Epoch 61/100\n",
            "10/10 [==============================] - 2s 244ms/step - loss: 0.5167 - accuracy: 0.8147 - f1_score: 0.7904 - val_loss: 0.7404 - val_accuracy: 0.7166 - val_f1_score: 0.6872\n",
            "Epoch 62/100\n",
            "10/10 [==============================] - 2s 250ms/step - loss: 0.4982 - accuracy: 0.8294 - f1_score: 0.8101 - val_loss: 0.7253 - val_accuracy: 0.7166 - val_f1_score: 0.6826\n",
            "Epoch 63/100\n",
            "10/10 [==============================] - 3s 275ms/step - loss: 0.4798 - accuracy: 0.8400 - f1_score: 0.8228 - val_loss: 0.7249 - val_accuracy: 0.7323 - val_f1_score: 0.7157\n",
            "Epoch 64/100\n",
            "10/10 [==============================] - 2s 233ms/step - loss: 0.4653 - accuracy: 0.8492 - f1_score: 0.8344 - val_loss: 0.7106 - val_accuracy: 0.7259 - val_f1_score: 0.7006\n",
            "Epoch 65/100\n",
            "10/10 [==============================] - 2s 235ms/step - loss: 0.4520 - accuracy: 0.8521 - f1_score: 0.8387 - val_loss: 0.6903 - val_accuracy: 0.7234 - val_f1_score: 0.6873\n",
            "Epoch 66/100\n",
            "10/10 [==============================] - 2s 226ms/step - loss: 0.4335 - accuracy: 0.8639 - f1_score: 0.8528 - val_loss: 0.6801 - val_accuracy: 0.7370 - val_f1_score: 0.7104\n",
            "Epoch 67/100\n",
            "10/10 [==============================] - 2s 228ms/step - loss: 0.4188 - accuracy: 0.8696 - f1_score: 0.8593 - val_loss: 0.6771 - val_accuracy: 0.7481 - val_f1_score: 0.7322\n",
            "Epoch 68/100\n",
            "10/10 [==============================] - 3s 276ms/step - loss: 0.4057 - accuracy: 0.8759 - f1_score: 0.8669 - val_loss: 0.6607 - val_accuracy: 0.7461 - val_f1_score: 0.7247\n",
            "Epoch 69/100\n",
            "10/10 [==============================] - 2s 230ms/step - loss: 0.3917 - accuracy: 0.8858 - f1_score: 0.8790 - val_loss: 0.6522 - val_accuracy: 0.7428 - val_f1_score: 0.7136\n",
            "Epoch 70/100\n",
            "10/10 [==============================] - 2s 219ms/step - loss: 0.3806 - accuracy: 0.8917 - f1_score: 0.8857 - val_loss: 0.6528 - val_accuracy: 0.7366 - val_f1_score: 0.7021\n",
            "Epoch 71/100\n",
            "10/10 [==============================] - 2s 231ms/step - loss: 0.3695 - accuracy: 0.8966 - f1_score: 0.8910 - val_loss: 0.6338 - val_accuracy: 0.7558 - val_f1_score: 0.7332\n",
            "Epoch 72/100\n",
            "10/10 [==============================] - 2s 236ms/step - loss: 0.3538 - accuracy: 0.9012 - f1_score: 0.8961 - val_loss: 0.6257 - val_accuracy: 0.7624 - val_f1_score: 0.7424\n",
            "Epoch 73/100\n",
            "10/10 [==============================] - 2s 235ms/step - loss: 0.3428 - accuracy: 0.9066 - f1_score: 0.9024 - val_loss: 0.6226 - val_accuracy: 0.7634 - val_f1_score: 0.7440\n",
            "Epoch 74/100\n",
            "10/10 [==============================] - 2s 247ms/step - loss: 0.3319 - accuracy: 0.9077 - f1_score: 0.9037 - val_loss: 0.6199 - val_accuracy: 0.7707 - val_f1_score: 0.7597\n",
            "Epoch 75/100\n",
            "10/10 [==============================] - 2s 226ms/step - loss: 0.3187 - accuracy: 0.9170 - f1_score: 0.9139 - val_loss: 0.6039 - val_accuracy: 0.7778 - val_f1_score: 0.7660\n",
            "Epoch 76/100\n",
            "10/10 [==============================] - 2s 249ms/step - loss: 0.3075 - accuracy: 0.9237 - f1_score: 0.9212 - val_loss: 0.5990 - val_accuracy: 0.7737 - val_f1_score: 0.7562\n",
            "Epoch 77/100\n",
            "10/10 [==============================] - 2s 235ms/step - loss: 0.2998 - accuracy: 0.9234 - f1_score: 0.9208 - val_loss: 0.5907 - val_accuracy: 0.7808 - val_f1_score: 0.7676\n",
            "Epoch 78/100\n",
            "10/10 [==============================] - 2s 234ms/step - loss: 0.2854 - accuracy: 0.9305 - f1_score: 0.9285 - val_loss: 0.5876 - val_accuracy: 0.7905 - val_f1_score: 0.7864\n",
            "Epoch 79/100\n",
            "10/10 [==============================] - 2s 224ms/step - loss: 0.2744 - accuracy: 0.9358 - f1_score: 0.9344 - val_loss: 0.5817 - val_accuracy: 0.7939 - val_f1_score: 0.7897\n",
            "Epoch 80/100\n",
            "10/10 [==============================] - 2s 233ms/step - loss: 0.2655 - accuracy: 0.9405 - f1_score: 0.9393 - val_loss: 0.5748 - val_accuracy: 0.7976 - val_f1_score: 0.7944\n",
            "Epoch 81/100\n",
            "10/10 [==============================] - 2s 211ms/step - loss: 0.2555 - accuracy: 0.9435 - f1_score: 0.9424 - val_loss: 0.5774 - val_accuracy: 0.7966 - val_f1_score: 0.7970\n",
            "Epoch 82/100\n",
            "10/10 [==============================] - 2s 231ms/step - loss: 0.2463 - accuracy: 0.9470 - f1_score: 0.9462 - val_loss: 0.5605 - val_accuracy: 0.8026 - val_f1_score: 0.7987\n",
            "Epoch 83/100\n",
            "10/10 [==============================] - 2s 236ms/step - loss: 0.2382 - accuracy: 0.9496 - f1_score: 0.9489 - val_loss: 0.5642 - val_accuracy: 0.7974 - val_f1_score: 0.7911\n",
            "Epoch 84/100\n",
            "10/10 [==============================] - 2s 221ms/step - loss: 0.2311 - accuracy: 0.9508 - f1_score: 0.9501 - val_loss: 0.5680 - val_accuracy: 0.7968 - val_f1_score: 0.7904\n",
            "Epoch 85/100\n",
            "10/10 [==============================] - 2s 239ms/step - loss: 0.2231 - accuracy: 0.9547 - f1_score: 0.9541 - val_loss: 0.5554 - val_accuracy: 0.8085 - val_f1_score: 0.8092\n",
            "Epoch 86/100\n",
            "10/10 [==============================] - 2s 235ms/step - loss: 0.2085 - accuracy: 0.9610 - f1_score: 0.9606 - val_loss: 0.5399 - val_accuracy: 0.8127 - val_f1_score: 0.8095\n",
            "Epoch 87/100\n",
            "10/10 [==============================] - 3s 260ms/step - loss: 0.2011 - accuracy: 0.9636 - f1_score: 0.9633 - val_loss: 0.5445 - val_accuracy: 0.8055 - val_f1_score: 0.7996\n",
            "Epoch 88/100\n",
            "10/10 [==============================] - 2s 241ms/step - loss: 0.1929 - accuracy: 0.9653 - f1_score: 0.9650 - val_loss: 0.5315 - val_accuracy: 0.8166 - val_f1_score: 0.8126\n",
            "Epoch 89/100\n",
            "10/10 [==============================] - 2s 228ms/step - loss: 0.1862 - accuracy: 0.9662 - f1_score: 0.9660 - val_loss: 0.5314 - val_accuracy: 0.8194 - val_f1_score: 0.8189\n",
            "Epoch 90/100\n",
            "10/10 [==============================] - 2s 241ms/step - loss: 0.1797 - accuracy: 0.9673 - f1_score: 0.9671 - val_loss: 0.5427 - val_accuracy: 0.8174 - val_f1_score: 0.8205\n",
            "Epoch 91/100\n",
            "10/10 [==============================] - 2s 254ms/step - loss: 0.1744 - accuracy: 0.9692 - f1_score: 0.9690 - val_loss: 0.5297 - val_accuracy: 0.8208 - val_f1_score: 0.8220\n",
            "Epoch 92/100\n",
            "10/10 [==============================] - 2s 253ms/step - loss: 0.1668 - accuracy: 0.9703 - f1_score: 0.9702 - val_loss: 0.5524 - val_accuracy: 0.8133 - val_f1_score: 0.8172\n",
            "Epoch 93/100\n",
            "10/10 [==============================] - 2s 237ms/step - loss: 0.1689 - accuracy: 0.9692 - f1_score: 0.9690 - val_loss: 0.5273 - val_accuracy: 0.8222 - val_f1_score: 0.8229\n",
            "Epoch 94/100\n",
            "10/10 [==============================] - 2s 252ms/step - loss: 0.1551 - accuracy: 0.9731 - f1_score: 0.9730 - val_loss: 0.5120 - val_accuracy: 0.8295 - val_f1_score: 0.8289\n",
            "Epoch 95/100\n",
            "10/10 [==============================] - 2s 222ms/step - loss: 0.1490 - accuracy: 0.9745 - f1_score: 0.9744 - val_loss: 0.5140 - val_accuracy: 0.8226 - val_f1_score: 0.8158\n",
            "Epoch 96/100\n",
            "10/10 [==============================] - 2s 220ms/step - loss: 0.1454 - accuracy: 0.9762 - f1_score: 0.9762 - val_loss: 0.5057 - val_accuracy: 0.8285 - val_f1_score: 0.8248\n",
            "Epoch 97/100\n",
            "10/10 [==============================] - 2s 240ms/step - loss: 0.1394 - accuracy: 0.9768 - f1_score: 0.9768 - val_loss: 0.5010 - val_accuracy: 0.8323 - val_f1_score: 0.8304\n",
            "Epoch 98/100\n",
            "10/10 [==============================] - 2s 252ms/step - loss: 0.1359 - accuracy: 0.9779 - f1_score: 0.9778 - val_loss: 0.5009 - val_accuracy: 0.8307 - val_f1_score: 0.8269\n",
            "Epoch 99/100\n",
            "10/10 [==============================] - 2s 246ms/step - loss: 0.1285 - accuracy: 0.9802 - f1_score: 0.9802 - val_loss: 0.4978 - val_accuracy: 0.8323 - val_f1_score: 0.8295\n",
            "Epoch 100/100\n",
            "10/10 [==============================] - 2s 227ms/step - loss: 0.1219 - accuracy: 0.9812 - f1_score: 0.9812 - val_loss: 0.4965 - val_accuracy: 0.8335 - val_f1_score: 0.8308\n",
            "======================================================================================================================================================\n",
            "Iteration 3:\n",
            "Epoch 1/100\n",
            "10/10 [==============================] - 4s 317ms/step - loss: 1.3332 - accuracy: 0.3522 - f1_score: 0.4740 - val_loss: 1.3043 - val_accuracy: 0.3713 - val_f1_score: 0.2011\n",
            "Epoch 2/100\n",
            "10/10 [==============================] - 3s 285ms/step - loss: 1.3057 - accuracy: 0.3711 - f1_score: 0.2008 - val_loss: 1.3013 - val_accuracy: 0.3713 - val_f1_score: 0.2011\n",
            "Epoch 3/100\n",
            "10/10 [==============================] - 3s 335ms/step - loss: 1.3021 - accuracy: 0.3711 - f1_score: 0.2008 - val_loss: 1.3019 - val_accuracy: 0.3713 - val_f1_score: 0.2011\n",
            "Epoch 4/100\n",
            "10/10 [==============================] - 3s 292ms/step - loss: 1.3013 - accuracy: 0.3711 - f1_score: 0.2008 - val_loss: 1.3005 - val_accuracy: 0.3713 - val_f1_score: 0.2011\n",
            "Epoch 5/100\n",
            "10/10 [==============================] - 3s 287ms/step - loss: 1.3014 - accuracy: 0.3711 - f1_score: 0.2008 - val_loss: 1.3003 - val_accuracy: 0.3713 - val_f1_score: 0.2011\n",
            "Epoch 6/100\n",
            "10/10 [==============================] - 3s 282ms/step - loss: 1.3005 - accuracy: 0.3711 - f1_score: 0.2008 - val_loss: 1.3002 - val_accuracy: 0.3713 - val_f1_score: 0.2011\n",
            "Epoch 7/100\n",
            "10/10 [==============================] - 3s 314ms/step - loss: 1.3004 - accuracy: 0.3711 - f1_score: 0.2008 - val_loss: 1.3000 - val_accuracy: 0.3713 - val_f1_score: 0.2011\n",
            "Epoch 8/100\n",
            "10/10 [==============================] - 3s 318ms/step - loss: 1.3003 - accuracy: 0.3711 - f1_score: 0.2008 - val_loss: 1.2999 - val_accuracy: 0.3713 - val_f1_score: 0.2011\n",
            "Epoch 9/100\n",
            "10/10 [==============================] - 3s 279ms/step - loss: 1.3002 - accuracy: 0.3711 - f1_score: 0.2008 - val_loss: 1.2998 - val_accuracy: 0.3713 - val_f1_score: 0.2011\n",
            "Epoch 10/100\n",
            "10/10 [==============================] - 3s 264ms/step - loss: 1.2999 - accuracy: 0.3711 - f1_score: 0.2008 - val_loss: 1.2996 - val_accuracy: 0.3713 - val_f1_score: 0.2011\n",
            "Epoch 11/100\n",
            "10/10 [==============================] - 3s 252ms/step - loss: 1.2996 - accuracy: 0.3711 - f1_score: 0.2008 - val_loss: 1.2994 - val_accuracy: 0.3713 - val_f1_score: 0.2011\n",
            "Epoch 12/100\n",
            "10/10 [==============================] - 3s 308ms/step - loss: 1.2996 - accuracy: 0.3711 - f1_score: 0.2008 - val_loss: 1.2993 - val_accuracy: 0.3713 - val_f1_score: 0.2011\n",
            "Epoch 13/100\n",
            "10/10 [==============================] - 3s 306ms/step - loss: 1.2991 - accuracy: 0.3711 - f1_score: 0.2008 - val_loss: 1.2991 - val_accuracy: 0.3713 - val_f1_score: 0.2011\n",
            "Epoch 14/100\n",
            "10/10 [==============================] - 3s 266ms/step - loss: 1.2991 - accuracy: 0.3711 - f1_score: 0.2008 - val_loss: 1.2987 - val_accuracy: 0.3713 - val_f1_score: 0.2011\n",
            "Epoch 15/100\n",
            "10/10 [==============================] - 3s 267ms/step - loss: 1.2989 - accuracy: 0.3711 - f1_score: 0.2008 - val_loss: 1.2982 - val_accuracy: 0.3713 - val_f1_score: 0.2011\n",
            "Epoch 16/100\n",
            "10/10 [==============================] - 3s 272ms/step - loss: 1.2984 - accuracy: 0.3944 - f1_score: 0.2534 - val_loss: 1.2977 - val_accuracy: 0.3713 - val_f1_score: 0.2011\n",
            "Epoch 17/100\n",
            "10/10 [==============================] - 3s 278ms/step - loss: 1.2977 - accuracy: 0.3711 - f1_score: 0.2008 - val_loss: 1.2977 - val_accuracy: 0.3713 - val_f1_score: 0.2012\n",
            "Epoch 18/100\n",
            "10/10 [==============================] - 2s 242ms/step - loss: 1.2975 - accuracy: 0.3706 - f1_score: 0.2934 - val_loss: 1.2965 - val_accuracy: 0.3713 - val_f1_score: 0.2011\n",
            "Epoch 19/100\n",
            "10/10 [==============================] - 3s 280ms/step - loss: 1.2951 - accuracy: 0.3711 - f1_score: 0.2008 - val_loss: 1.2951 - val_accuracy: 0.3713 - val_f1_score: 0.2011\n",
            "Epoch 20/100\n",
            "10/10 [==============================] - 3s 265ms/step - loss: 1.2933 - accuracy: 0.3711 - f1_score: 0.2008 - val_loss: 1.2948 - val_accuracy: 0.5067 - val_f1_score: 0.4197\n",
            "Epoch 21/100\n",
            "10/10 [==============================] - 3s 267ms/step - loss: 1.2927 - accuracy: 0.4138 - f1_score: 0.3262 - val_loss: 1.2922 - val_accuracy: 0.3713 - val_f1_score: 0.2011\n",
            "Epoch 22/100\n",
            "10/10 [==============================] - 3s 304ms/step - loss: 1.2892 - accuracy: 0.4259 - f1_score: 0.3347 - val_loss: 1.2949 - val_accuracy: 0.3713 - val_f1_score: 0.2011\n",
            "Epoch 23/100\n",
            "10/10 [==============================] - 3s 292ms/step - loss: 1.2875 - accuracy: 0.4052 - f1_score: 0.2732 - val_loss: 1.2875 - val_accuracy: 0.4311 - val_f1_score: 0.3134\n",
            "Epoch 24/100\n",
            "10/10 [==============================] - 3s 280ms/step - loss: 1.2832 - accuracy: 0.4305 - f1_score: 0.3153 - val_loss: 1.2850 - val_accuracy: 0.4881 - val_f1_score: 0.4070\n",
            "Epoch 25/100\n",
            "10/10 [==============================] - 3s 252ms/step - loss: 1.2779 - accuracy: 0.4410 - f1_score: 0.3366 - val_loss: 1.2798 - val_accuracy: 0.3731 - val_f1_score: 0.2052\n",
            "Epoch 26/100\n",
            "10/10 [==============================] - 3s 251ms/step - loss: 1.2709 - accuracy: 0.4544 - f1_score: 0.3528 - val_loss: 1.2735 - val_accuracy: 0.5164 - val_f1_score: 0.4273\n",
            "Epoch 27/100\n",
            "10/10 [==============================] - 3s 268ms/step - loss: 1.2618 - accuracy: 0.4769 - f1_score: 0.3782 - val_loss: 1.2678 - val_accuracy: 0.4828 - val_f1_score: 0.4026\n",
            "Epoch 28/100\n",
            "10/10 [==============================] - 3s 280ms/step - loss: 1.2589 - accuracy: 0.4379 - f1_score: 0.3577 - val_loss: 1.2664 - val_accuracy: 0.3733 - val_f1_score: 0.2057\n",
            "Epoch 29/100\n",
            "10/10 [==============================] - 3s 255ms/step - loss: 1.2439 - accuracy: 0.4636 - f1_score: 0.3732 - val_loss: 1.2519 - val_accuracy: 0.4828 - val_f1_score: 0.4027\n",
            "Epoch 30/100\n",
            "10/10 [==============================] - 2s 242ms/step - loss: 1.2298 - accuracy: 0.4980 - f1_score: 0.4111 - val_loss: 1.2368 - val_accuracy: 0.5349 - val_f1_score: 0.4447\n",
            "Epoch 31/100\n",
            "10/10 [==============================] - 2s 252ms/step - loss: 1.2134 - accuracy: 0.5144 - f1_score: 0.4189 - val_loss: 1.2227 - val_accuracy: 0.5432 - val_f1_score: 0.4484\n",
            "Epoch 32/100\n",
            "10/10 [==============================] - 3s 310ms/step - loss: 1.1985 - accuracy: 0.5202 - f1_score: 0.4316 - val_loss: 1.2116 - val_accuracy: 0.4978 - val_f1_score: 0.3965\n",
            "Epoch 33/100\n",
            "10/10 [==============================] - 3s 247ms/step - loss: 1.1795 - accuracy: 0.5180 - f1_score: 0.4232 - val_loss: 1.1990 - val_accuracy: 0.5297 - val_f1_score: 0.4450\n",
            "Epoch 34/100\n",
            "10/10 [==============================] - 3s 280ms/step - loss: 1.1500 - accuracy: 0.5841 - f1_score: 0.4841 - val_loss: 1.1767 - val_accuracy: 0.5594 - val_f1_score: 0.4635\n",
            "Epoch 35/100\n",
            "10/10 [==============================] - 2s 253ms/step - loss: 1.1228 - accuracy: 0.6040 - f1_score: 0.5009 - val_loss: 1.1621 - val_accuracy: 0.5368 - val_f1_score: 0.4363\n",
            "Epoch 36/100\n",
            "10/10 [==============================] - 2s 255ms/step - loss: 1.0984 - accuracy: 0.5973 - f1_score: 0.4949 - val_loss: 1.1445 - val_accuracy: 0.5384 - val_f1_score: 0.4376\n",
            "Epoch 37/100\n",
            "10/10 [==============================] - 3s 300ms/step - loss: 1.0686 - accuracy: 0.6122 - f1_score: 0.5073 - val_loss: 1.1193 - val_accuracy: 0.5693 - val_f1_score: 0.4701\n",
            "Epoch 38/100\n",
            "10/10 [==============================] - 2s 255ms/step - loss: 1.0373 - accuracy: 0.6292 - f1_score: 0.5236 - val_loss: 1.1052 - val_accuracy: 0.5533 - val_f1_score: 0.4521\n",
            "Epoch 39/100\n",
            "10/10 [==============================] - 2s 255ms/step - loss: 1.0175 - accuracy: 0.6129 - f1_score: 0.5085 - val_loss: 1.1157 - val_accuracy: 0.5424 - val_f1_score: 0.4604\n",
            "Epoch 40/100\n",
            "10/10 [==============================] - 2s 237ms/step - loss: 0.9914 - accuracy: 0.6231 - f1_score: 0.5195 - val_loss: 1.0604 - val_accuracy: 0.5978 - val_f1_score: 0.4972\n",
            "Epoch 41/100\n",
            "10/10 [==============================] - 2s 255ms/step - loss: 0.9572 - accuracy: 0.6431 - f1_score: 0.5364 - val_loss: 1.0726 - val_accuracy: 0.5376 - val_f1_score: 0.4355\n",
            "Epoch 42/100\n",
            "10/10 [==============================] - 2s 226ms/step - loss: 0.9395 - accuracy: 0.6341 - f1_score: 0.5280 - val_loss: 1.0332 - val_accuracy: 0.5895 - val_f1_score: 0.4853\n",
            "Epoch 43/100\n",
            "10/10 [==============================] - 2s 247ms/step - loss: 0.9078 - accuracy: 0.6514 - f1_score: 0.5443 - val_loss: 1.0108 - val_accuracy: 0.6000 - val_f1_score: 0.4955\n",
            "Epoch 44/100\n",
            "10/10 [==============================] - 2s 238ms/step - loss: 0.8866 - accuracy: 0.6532 - f1_score: 0.5458 - val_loss: 0.9956 - val_accuracy: 0.6149 - val_f1_score: 0.5164\n",
            "Epoch 45/100\n",
            "10/10 [==============================] - 2s 251ms/step - loss: 0.8579 - accuracy: 0.6642 - f1_score: 0.5569 - val_loss: 0.9822 - val_accuracy: 0.6172 - val_f1_score: 0.5193\n",
            "Epoch 46/100\n",
            "10/10 [==============================] - 2s 247ms/step - loss: 0.8284 - accuracy: 0.6730 - f1_score: 0.5657 - val_loss: 0.9673 - val_accuracy: 0.6178 - val_f1_score: 0.5216\n",
            "Epoch 47/100\n",
            "10/10 [==============================] - 2s 251ms/step - loss: 0.8030 - accuracy: 0.6799 - f1_score: 0.5750 - val_loss: 0.9444 - val_accuracy: 0.6265 - val_f1_score: 0.5205\n",
            "Epoch 48/100\n",
            "10/10 [==============================] - 3s 269ms/step - loss: 0.7822 - accuracy: 0.6829 - f1_score: 0.5798 - val_loss: 0.9237 - val_accuracy: 0.6307 - val_f1_score: 0.5281\n",
            "Epoch 49/100\n",
            "10/10 [==============================] - 2s 248ms/step - loss: 0.7566 - accuracy: 0.6937 - f1_score: 0.5988 - val_loss: 0.9070 - val_accuracy: 0.6370 - val_f1_score: 0.5346\n",
            "Epoch 50/100\n",
            "10/10 [==============================] - 2s 244ms/step - loss: 0.7338 - accuracy: 0.6976 - f1_score: 0.6045 - val_loss: 0.8937 - val_accuracy: 0.6386 - val_f1_score: 0.5410\n",
            "Epoch 51/100\n",
            "10/10 [==============================] - 2s 232ms/step - loss: 0.7097 - accuracy: 0.7054 - f1_score: 0.6188 - val_loss: 0.8766 - val_accuracy: 0.6459 - val_f1_score: 0.5557\n",
            "Epoch 52/100\n",
            "10/10 [==============================] - 2s 222ms/step - loss: 0.6876 - accuracy: 0.7187 - f1_score: 0.6418 - val_loss: 0.8601 - val_accuracy: 0.6596 - val_f1_score: 0.5803\n",
            "Epoch 53/100\n",
            "10/10 [==============================] - 2s 248ms/step - loss: 0.6638 - accuracy: 0.7292 - f1_score: 0.6580 - val_loss: 0.8439 - val_accuracy: 0.6663 - val_f1_score: 0.5925\n",
            "Epoch 54/100\n",
            "10/10 [==============================] - 3s 275ms/step - loss: 0.6427 - accuracy: 0.7422 - f1_score: 0.6788 - val_loss: 0.8326 - val_accuracy: 0.6610 - val_f1_score: 0.5788\n",
            "Epoch 55/100\n",
            "10/10 [==============================] - 3s 249ms/step - loss: 0.6264 - accuracy: 0.7586 - f1_score: 0.7042 - val_loss: 0.8297 - val_accuracy: 0.6749 - val_f1_score: 0.6198\n",
            "Epoch 56/100\n",
            "10/10 [==============================] - 2s 236ms/step - loss: 0.6054 - accuracy: 0.7639 - f1_score: 0.7130 - val_loss: 0.7943 - val_accuracy: 0.6850 - val_f1_score: 0.6216\n",
            "Epoch 57/100\n",
            "10/10 [==============================] - 2s 239ms/step - loss: 0.5848 - accuracy: 0.7830 - f1_score: 0.7418 - val_loss: 0.7895 - val_accuracy: 0.6774 - val_f1_score: 0.6147\n",
            "Epoch 58/100\n",
            "10/10 [==============================] - 2s 226ms/step - loss: 0.5651 - accuracy: 0.7841 - f1_score: 0.7424 - val_loss: 0.7822 - val_accuracy: 0.7143 - val_f1_score: 0.6796\n",
            "Epoch 59/100\n",
            "10/10 [==============================] - 2s 234ms/step - loss: 0.5454 - accuracy: 0.8046 - f1_score: 0.7711 - val_loss: 0.7992 - val_accuracy: 0.6634 - val_f1_score: 0.6093\n",
            "Epoch 60/100\n",
            "10/10 [==============================] - 2s 220ms/step - loss: 0.5284 - accuracy: 0.8074 - f1_score: 0.7776 - val_loss: 0.7374 - val_accuracy: 0.7081 - val_f1_score: 0.6617\n",
            "Epoch 61/100\n",
            "10/10 [==============================] - 2s 214ms/step - loss: 0.5041 - accuracy: 0.8194 - f1_score: 0.7902 - val_loss: 0.7581 - val_accuracy: 0.7143 - val_f1_score: 0.6844\n",
            "Epoch 62/100\n",
            "10/10 [==============================] - 2s 240ms/step - loss: 0.4868 - accuracy: 0.8347 - f1_score: 0.8138 - val_loss: 0.7197 - val_accuracy: 0.7051 - val_f1_score: 0.6548\n",
            "Epoch 63/100\n",
            "10/10 [==============================] - 2s 243ms/step - loss: 0.4663 - accuracy: 0.8415 - f1_score: 0.8216 - val_loss: 0.7040 - val_accuracy: 0.7374 - val_f1_score: 0.7095\n",
            "Epoch 64/100\n",
            "10/10 [==============================] - 2s 241ms/step - loss: 0.4460 - accuracy: 0.8490 - f1_score: 0.8301 - val_loss: 0.6963 - val_accuracy: 0.7495 - val_f1_score: 0.7296\n",
            "Epoch 65/100\n",
            "10/10 [==============================] - 2s 244ms/step - loss: 0.4276 - accuracy: 0.8644 - f1_score: 0.8509 - val_loss: 0.6786 - val_accuracy: 0.7448 - val_f1_score: 0.7199\n",
            "Epoch 66/100\n",
            "10/10 [==============================] - 3s 287ms/step - loss: 0.4089 - accuracy: 0.8751 - f1_score: 0.8637 - val_loss: 0.6695 - val_accuracy: 0.7495 - val_f1_score: 0.7263\n",
            "Epoch 67/100\n",
            "10/10 [==============================] - 2s 244ms/step - loss: 0.3941 - accuracy: 0.8812 - f1_score: 0.8712 - val_loss: 0.6568 - val_accuracy: 0.7566 - val_f1_score: 0.7355\n",
            "Epoch 68/100\n",
            "10/10 [==============================] - 2s 216ms/step - loss: 0.3824 - accuracy: 0.8821 - f1_score: 0.8728 - val_loss: 0.6663 - val_accuracy: 0.7493 - val_f1_score: 0.7356\n",
            "Epoch 69/100\n",
            "10/10 [==============================] - 2s 231ms/step - loss: 0.3690 - accuracy: 0.8907 - f1_score: 0.8833 - val_loss: 0.6408 - val_accuracy: 0.7681 - val_f1_score: 0.7567\n",
            "Epoch 70/100\n",
            "10/10 [==============================] - 3s 260ms/step - loss: 0.3536 - accuracy: 0.8996 - f1_score: 0.8936 - val_loss: 0.6348 - val_accuracy: 0.7626 - val_f1_score: 0.7448\n",
            "Epoch 71/100\n",
            "10/10 [==============================] - 3s 267ms/step - loss: 0.3415 - accuracy: 0.9041 - f1_score: 0.8991 - val_loss: 0.6194 - val_accuracy: 0.7653 - val_f1_score: 0.7467\n",
            "Epoch 72/100\n",
            "10/10 [==============================] - 2s 222ms/step - loss: 0.3276 - accuracy: 0.9117 - f1_score: 0.9074 - val_loss: 0.6147 - val_accuracy: 0.7752 - val_f1_score: 0.7660\n",
            "Epoch 73/100\n",
            "10/10 [==============================] - 2s 252ms/step - loss: 0.3131 - accuracy: 0.9181 - f1_score: 0.9149 - val_loss: 0.6025 - val_accuracy: 0.7727 - val_f1_score: 0.7559\n",
            "Epoch 74/100\n",
            "10/10 [==============================] - 2s 219ms/step - loss: 0.3030 - accuracy: 0.9210 - f1_score: 0.9180 - val_loss: 0.6040 - val_accuracy: 0.7642 - val_f1_score: 0.7418\n",
            "Epoch 75/100\n",
            "10/10 [==============================] - 2s 247ms/step - loss: 0.2960 - accuracy: 0.9241 - f1_score: 0.9219 - val_loss: 0.6084 - val_accuracy: 0.7608 - val_f1_score: 0.7362\n",
            "Epoch 76/100\n",
            "10/10 [==============================] - 2s 242ms/step - loss: 0.2838 - accuracy: 0.9292 - f1_score: 0.9273 - val_loss: 0.5856 - val_accuracy: 0.7788 - val_f1_score: 0.7653\n",
            "Epoch 77/100\n",
            "10/10 [==============================] - 2s 229ms/step - loss: 0.2692 - accuracy: 0.9334 - f1_score: 0.9314 - val_loss: 0.5747 - val_accuracy: 0.7891 - val_f1_score: 0.7785\n",
            "Epoch 78/100\n",
            "10/10 [==============================] - 2s 244ms/step - loss: 0.2571 - accuracy: 0.9384 - f1_score: 0.9371 - val_loss: 0.5707 - val_accuracy: 0.7988 - val_f1_score: 0.7923\n",
            "Epoch 79/100\n",
            "10/10 [==============================] - 2s 236ms/step - loss: 0.2456 - accuracy: 0.9431 - f1_score: 0.9422 - val_loss: 0.5630 - val_accuracy: 0.8006 - val_f1_score: 0.7948\n",
            "Epoch 80/100\n",
            "10/10 [==============================] - 2s 229ms/step - loss: 0.2357 - accuracy: 0.9466 - f1_score: 0.9457 - val_loss: 0.5590 - val_accuracy: 0.8097 - val_f1_score: 0.8062\n",
            "Epoch 81/100\n",
            "10/10 [==============================] - 3s 254ms/step - loss: 0.2323 - accuracy: 0.9469 - f1_score: 0.9461 - val_loss: 0.5579 - val_accuracy: 0.8133 - val_f1_score: 0.8111\n",
            "Epoch 82/100\n",
            "10/10 [==============================] - 2s 243ms/step - loss: 0.2216 - accuracy: 0.9489 - f1_score: 0.9481 - val_loss: 0.5608 - val_accuracy: 0.8158 - val_f1_score: 0.8164\n",
            "Epoch 83/100\n",
            "10/10 [==============================] - 2s 217ms/step - loss: 0.2101 - accuracy: 0.9551 - f1_score: 0.9545 - val_loss: 0.5740 - val_accuracy: 0.8147 - val_f1_score: 0.8154\n",
            "Epoch 84/100\n",
            "10/10 [==============================] - 2s 219ms/step - loss: 0.2055 - accuracy: 0.9543 - f1_score: 0.9538 - val_loss: 0.5458 - val_accuracy: 0.8168 - val_f1_score: 0.8165\n",
            "Epoch 85/100\n",
            "10/10 [==============================] - 2s 237ms/step - loss: 0.1923 - accuracy: 0.9598 - f1_score: 0.9594 - val_loss: 0.5353 - val_accuracy: 0.8190 - val_f1_score: 0.8172\n",
            "Epoch 86/100\n",
            "10/10 [==============================] - 2s 212ms/step - loss: 0.1833 - accuracy: 0.9654 - f1_score: 0.9652 - val_loss: 0.5357 - val_accuracy: 0.8263 - val_f1_score: 0.8262\n",
            "Epoch 87/100\n",
            "10/10 [==============================] - 2s 232ms/step - loss: 0.1753 - accuracy: 0.9673 - f1_score: 0.9672 - val_loss: 0.5309 - val_accuracy: 0.8285 - val_f1_score: 0.8275\n",
            "Epoch 88/100\n",
            "10/10 [==============================] - 2s 214ms/step - loss: 0.1745 - accuracy: 0.9646 - f1_score: 0.9643 - val_loss: 0.5564 - val_accuracy: 0.8075 - val_f1_score: 0.8075\n",
            "Epoch 89/100\n",
            "10/10 [==============================] - 3s 260ms/step - loss: 0.1716 - accuracy: 0.9649 - f1_score: 0.9646 - val_loss: 0.5277 - val_accuracy: 0.8182 - val_f1_score: 0.8152\n",
            "Epoch 90/100\n",
            "10/10 [==============================] - 2s 223ms/step - loss: 0.1577 - accuracy: 0.9711 - f1_score: 0.9710 - val_loss: 0.5199 - val_accuracy: 0.8210 - val_f1_score: 0.8171\n",
            "Epoch 91/100\n",
            "10/10 [==============================] - 2s 224ms/step - loss: 0.1500 - accuracy: 0.9734 - f1_score: 0.9733 - val_loss: 0.5186 - val_accuracy: 0.8273 - val_f1_score: 0.8268\n",
            "Epoch 92/100\n",
            "10/10 [==============================] - 2s 236ms/step - loss: 0.1429 - accuracy: 0.9756 - f1_score: 0.9756 - val_loss: 0.5110 - val_accuracy: 0.8303 - val_f1_score: 0.8282\n",
            "Epoch 93/100\n",
            "10/10 [==============================] - 2s 249ms/step - loss: 0.1373 - accuracy: 0.9768 - f1_score: 0.9768 - val_loss: 0.5079 - val_accuracy: 0.8335 - val_f1_score: 0.8317\n",
            "Epoch 94/100\n",
            "10/10 [==============================] - 2s 232ms/step - loss: 0.1324 - accuracy: 0.9788 - f1_score: 0.9787 - val_loss: 0.5127 - val_accuracy: 0.8307 - val_f1_score: 0.8269\n",
            "Epoch 95/100\n",
            "10/10 [==============================] - 2s 227ms/step - loss: 0.1280 - accuracy: 0.9787 - f1_score: 0.9786 - val_loss: 0.5035 - val_accuracy: 0.8368 - val_f1_score: 0.8356\n",
            "Epoch 96/100\n",
            "10/10 [==============================] - 2s 220ms/step - loss: 0.1255 - accuracy: 0.9782 - f1_score: 0.9781 - val_loss: 0.5046 - val_accuracy: 0.8327 - val_f1_score: 0.8314\n",
            "Epoch 97/100\n",
            "10/10 [==============================] - 2s 224ms/step - loss: 0.1234 - accuracy: 0.9773 - f1_score: 0.9773 - val_loss: 0.5296 - val_accuracy: 0.8218 - val_f1_score: 0.8183\n",
            "Epoch 98/100\n",
            "10/10 [==============================] - 2s 226ms/step - loss: 0.1175 - accuracy: 0.9803 - f1_score: 0.9802 - val_loss: 0.5003 - val_accuracy: 0.8368 - val_f1_score: 0.8355\n",
            "Epoch 99/100\n",
            "10/10 [==============================] - 2s 248ms/step - loss: 0.1107 - accuracy: 0.9831 - f1_score: 0.9830 - val_loss: 0.4972 - val_accuracy: 0.8394 - val_f1_score: 0.8387\n",
            "Epoch 100/100\n",
            "10/10 [==============================] - 3s 272ms/step - loss: 0.1064 - accuracy: 0.9837 - f1_score: 0.9836 - val_loss: 0.4950 - val_accuracy: 0.8406 - val_f1_score: 0.8390\n",
            "CPU times: user 4min 28s, sys: 35.9 s, total: 5min 4s\n",
            "Wall time: 12min 56s\n"
          ]
        }
      ],
      "source": [
        "%%time\n",
        "folds = StratifiedKFold(3, shuffle=True, random_state=seed).split(\n",
        "    X_train, y_train.argmax(1))\n",
        "\n",
        "set_seed(seed)\n",
        "scores = []\n",
        "\n",
        "\n",
        "for i, (train, valid) in enumerate(folds):\n",
        "    print(f'{\"=\"*150}\\nIteration {1+i}:')\n",
        "    model = get_cnn()\n",
        "    early_stop = EarlyStopping(patience=3)\n",
        "    checkpoint = ModelCheckpoint(\n",
        "        f'model_fold{1+i}.h5', save_best_only=True)\n",
        "    model.fit(X_train[train], y_train[train], validation_data=(\n",
        "        X_train[valid], y_train[valid]), epochs=100, batch_size=1024, callbacks=[early_stop, checkpoint])"
      ]
    },
    {
      "cell_type": "markdown",
      "metadata": {
        "id": "qT9tI2luVM8S"
      },
      "source": [
        "Loading The saved Model"
      ]
    },
    {
      "cell_type": "code",
      "execution_count": null,
      "metadata": {
        "colab": {
          "base_uri": "https://localhost:8080/"
        },
        "id": "9LXMk5hAOy76",
        "outputId": "3669304d-9f6f-4f48-9b99-127c6f08e0ef"
      },
      "outputs": [
        {
          "name": "stdout",
          "output_type": "stream",
          "text": [
            "Model: model_fold1.h5\n",
            "119/119 [==============================] - 1s 4ms/step - loss: 0.4919 - accuracy: 0.8361 - f1_score: 0.8333\n",
            "[0.4918968677520752, 0.8360612392425537, 0.8333252668380737]\n",
            "Model: model_fold2.h5\n",
            "119/119 [==============================] - 1s 4ms/step - loss: 0.5115 - accuracy: 0.8339 - f1_score: 0.8317\n",
            "[0.5115085244178772, 0.8339493274688721, 0.8317253589630127]\n",
            "Model: model_fold3.h5\n",
            "119/119 [==============================] - 1s 4ms/step - loss: 0.4804 - accuracy: 0.8453 - f1_score: 0.8434\n",
            "[0.48043105006217957, 0.8453009724617004, 0.8433851003646851]\n"
          ]
        }
      ],
      "source": [
        "import glob\n",
        "from tensorflow.keras.models import load_model\n",
        "\n",
        "for model_path in sorted(glob.glob('model*')):\n",
        "    print(f'Model: {model_path.split(\"/\")[-1]}')\n",
        "    model = load_model(model_path)\n",
        "    print(model.evaluate(X_test, y_test))"
      ]
    },
    {
      "cell_type": "code",
      "execution_count": null,
      "metadata": {
        "colab": {
          "base_uri": "https://localhost:8080/"
        },
        "id": "MsuxUcbaOy53",
        "outputId": "c3d30cc4-94b7-4b6b-9a78-4a35584673d2"
      },
      "outputs": [
        {
          "name": "stdout",
          "output_type": "stream",
          "text": [
            "119/119 [==============================] - 0s 3ms/step\n",
            "119/119 [==============================] - 1s 5ms/step - loss: 0.4804 - accuracy: 0.8453 - f1_score: 0.8434\n"
          ]
        },
        {
          "data": {
            "text/plain": [
              "[0.48043105006217957, 0.8453009724617004, 0.8433851003646851]"
            ]
          },
          "execution_count": 30,
          "metadata": {},
          "output_type": "execute_result"
        }
      ],
      "source": [
        "model = load_model('model_fold3.h5')\n",
        "cnn_y = model.predict(X_test).argmax(1)\n",
        "model.evaluate(X_test, y_test)"
      ]
    },
    {
      "cell_type": "markdown",
      "metadata": {
        "id": "PgX5sjghVb2S"
      },
      "source": [
        "## Results\n",
        "\n",
        "Here we check the results of the models using:\n",
        "\n",
        "- Accuracy\n",
        "- F1 score\n",
        "- Classification report\n",
        "- Confusion matrix"
      ]
    },
    {
      "cell_type": "code",
      "execution_count": null,
      "metadata": {
        "id": "H15u-ZnXOy3s"
      },
      "outputs": [],
      "source": [
        "from sklearn.metrics import confusion_matrix, classification_report\n",
        "from matplotlib import pyplot as plt\n",
        "from matplotlib.font_manager import FontProperties\n",
        "import seaborn as sns\n",
        "\n",
        "class_names = ['happy', 'sadness', 'anger', 'fear']\n",
        "y_test = y_test.argmax(1)\n",
        "\n",
        "\n",
        "def plot_confusion_matrix(y_true, y_pred, fig_name=''):\n",
        "    cm = confusion_matrix(y_true, y_pred)\n",
        "    plt.figure(figsize=(10, 10))\n",
        "    sns.set(font_scale=1.7)\n",
        "    ax = sns.heatmap(cm, annot=True, fmt='g', cmap='mako_r', cbar=False)\n",
        "\n",
        "    prop = FontProperties(fname='kalpurush.ttf', size=20)\n",
        "    ax.set_xticklabels(class_names, fontproperties=prop)\n",
        "    ax.tick_params(axis='x', rotation=90)\n",
        "\n",
        "    ax.set_yticklabels(class_names, fontproperties=prop)\n",
        "    ax.tick_params(axis='y', rotation=0)\n",
        "\n",
        "    ax.set_xlabel('Predicted Label')\n",
        "    ax.set_ylabel('True Label')\n",
        "    if fig_name:\n",
        "        plt.savefig(f'cmat_{fig_name}', dpi=100, bbox_inches='tight')"
      ]
    },
    {
      "cell_type": "markdown",
      "metadata": {
        "id": "qqGeeWjvWVOX"
      },
      "source": [
        "Logistic Regression Result"
      ]
    },
    {
      "cell_type": "code",
      "execution_count": null,
      "metadata": {
        "colab": {
          "base_uri": "https://localhost:8080/"
        },
        "id": "hExvc_PZOy1X",
        "outputId": "6f52916b-5183-457f-f288-80be6017cf56"
      },
      "outputs": [
        {
          "name": "stdout",
          "output_type": "stream",
          "text": [
            "              precision    recall  f1-score   support\n",
            "\n",
            "           0     0.0000    0.0000    0.0000       593\n",
            "           1     0.0000    0.0000    0.0000       526\n",
            "           2     0.3714    0.9957    0.5410      1398\n",
            "           3     0.1667    0.0016    0.0032      1243\n",
            "\n",
            "    accuracy                         0.3707      3760\n",
            "   macro avg     0.1345    0.2493    0.1360      3760\n",
            "weighted avg     0.1932    0.3707    0.2022      3760\n",
            "\n"
          ]
        }
      ],
      "source": [
        "print(classification_report(y_test, log_reg_y, digits=4))"
      ]
    },
    {
      "cell_type": "markdown",
      "metadata": {
        "id": "CFwIG3F0WaUO"
      },
      "source": [
        "KNN Result"
      ]
    },
    {
      "cell_type": "code",
      "execution_count": null,
      "metadata": {
        "colab": {
          "base_uri": "https://localhost:8080/"
        },
        "id": "GbJ-8eStOyyt",
        "outputId": "6674a7bc-8c23-49ce-d687-8319f471074f"
      },
      "outputs": [
        {
          "name": "stdout",
          "output_type": "stream",
          "text": [
            "              precision    recall  f1-score   support\n",
            "\n",
            "           0     0.1647    0.1872    0.1752       593\n",
            "           1     0.1298    0.0837    0.1017       526\n",
            "           2     0.3908    0.4392    0.4136      1398\n",
            "           3     0.3308    0.3130    0.3216      1243\n",
            "\n",
            "    accuracy                         0.3080      3760\n",
            "   macro avg     0.2540    0.2557    0.2530      3760\n",
            "weighted avg     0.2988    0.3080    0.3020      3760\n",
            "\n"
          ]
        }
      ],
      "source": [
        "print(classification_report(y_test, knn_y, digits=4))"
      ]
    },
    {
      "cell_type": "markdown",
      "metadata": {
        "id": "2GfSkm79WeXq"
      },
      "source": [
        "SVM Result"
      ]
    },
    {
      "cell_type": "code",
      "execution_count": null,
      "metadata": {
        "id": "XI2xDMr6OyuJ",
        "colab": {
          "base_uri": "https://localhost:8080/"
        },
        "outputId": "88d55af3-9218-4167-d1a1-03be17f6dcbd"
      },
      "outputs": [
        {
          "output_type": "stream",
          "name": "stdout",
          "text": [
            "              precision    recall  f1-score   support\n",
            "\n",
            "           0     0.0000    0.0000    0.0000       599\n",
            "           1     0.3750    0.0057    0.0112       530\n",
            "           2     0.3992    0.5405    0.4592      1406\n",
            "           3     0.3520    0.5267    0.4220      1253\n",
            "\n",
            "    accuracy                         0.3757      3788\n",
            "   macro avg     0.2815    0.2682    0.2231      3788\n",
            "weighted avg     0.3171    0.3757    0.3116      3788\n",
            "\n"
          ]
        }
      ],
      "source": [
        "print(classification_report(y_test, svc_y, digits=4))"
      ]
    },
    {
      "cell_type": "markdown",
      "metadata": {
        "id": "QxbnfrOdWiKE"
      },
      "source": [
        "XGB"
      ]
    },
    {
      "cell_type": "code",
      "execution_count": null,
      "metadata": {
        "id": "iFk7BlB_Mc6e",
        "colab": {
          "base_uri": "https://localhost:8080/"
        },
        "outputId": "a5cb5b85-589b-45aa-95a9-0a3dc66c3705"
      },
      "outputs": [
        {
          "output_type": "stream",
          "name": "stdout",
          "text": [
            "              precision    recall  f1-score   support\n",
            "\n",
            "           0     1.0000    0.0267    0.0520       599\n",
            "           1     1.0000    0.0453    0.0866       530\n",
            "           2     0.3893    0.8791    0.5396      1406\n",
            "           3     0.4066    0.1860    0.2552      1253\n",
            "\n",
            "    accuracy                         0.3984      3788\n",
            "   macro avg     0.6990    0.2843    0.2334      3788\n",
            "weighted avg     0.5770    0.3984    0.3051      3788\n",
            "\n"
          ]
        }
      ],
      "source": [
        "print(classification_report(y_test, xgbc_y, digits=4))"
      ]
    },
    {
      "cell_type": "markdown",
      "metadata": {
        "id": "pD9qEM8iWlg2"
      },
      "source": [
        "Adaboost"
      ]
    },
    {
      "cell_type": "code",
      "execution_count": null,
      "metadata": {
        "id": "GOfKKF3cMc4F",
        "colab": {
          "base_uri": "https://localhost:8080/"
        },
        "outputId": "a388e2fb-a710-4280-9ccc-dddb72f4cd10"
      },
      "outputs": [
        {
          "output_type": "stream",
          "name": "stdout",
          "text": [
            "              precision    recall  f1-score   support\n",
            "\n",
            "           0     0.7826    0.0601    0.1116       599\n",
            "           1     0.8611    0.0585    0.1095       530\n",
            "           2     0.4027    0.8065    0.5372      1406\n",
            "           3     0.4056    0.2881    0.3369      1253\n",
            "\n",
            "    accuracy                         0.4124      3788\n",
            "   macro avg     0.6130    0.3033    0.2738      3788\n",
            "weighted avg     0.5279    0.4124    0.3438      3788\n",
            "\n"
          ]
        }
      ],
      "source": [
        "print(classification_report(y_test, adb_y, digits=4))"
      ]
    },
    {
      "cell_type": "markdown",
      "metadata": {
        "id": "bCX00ChQWqV0"
      },
      "source": [
        "CNN"
      ]
    },
    {
      "cell_type": "code",
      "execution_count": null,
      "metadata": {
        "colab": {
          "base_uri": "https://localhost:8080/"
        },
        "id": "k_W3R5M5Mc1y",
        "outputId": "141fa1dc-cb3d-4165-d758-d31c99ccb3c1"
      },
      "outputs": [
        {
          "name": "stdout",
          "output_type": "stream",
          "text": [
            "              precision    recall  f1-score   support\n",
            "\n",
            "           0     0.7253    0.7095    0.7173       599\n",
            "           1     0.7615    0.6566    0.7052       530\n",
            "           2     0.9203    0.9203    0.9203      1406\n",
            "           3     0.8476    0.9058    0.8758      1253\n",
            "\n",
            "    accuracy                         0.8453      3788\n",
            "   macro avg     0.8137    0.7981    0.8046      3788\n",
            "weighted avg     0.8432    0.8453    0.8434      3788\n",
            "\n"
          ]
        }
      ],
      "source": [
        "print(classification_report(y_test, cnn_y, digits=4))"
      ]
    },
    {
      "cell_type": "code",
      "execution_count": null,
      "metadata": {
        "colab": {
          "base_uri": "https://localhost:8080/"
        },
        "id": "RxBOuDDDKlXl",
        "outputId": "743fa3c1-5f80-4924-b6c2-a6840986d96e"
      },
      "outputs": [
        {
          "name": "stdout",
          "output_type": "stream",
          "text": [
            "Model: \"sequential_7\"\n",
            "_________________________________________________________________\n",
            " Layer (type)                Output Shape              Param #   \n",
            "=================================================================\n",
            " embedding_7 (Embedding)     (None, 1200, 100)         3997200   \n",
            "                                                                 \n",
            " conv1d_7 (Conv1D)           (None, 1200, 128)         38528     \n",
            "                                                                 \n",
            " global_average_pooling1d_7   (None, 128)              0         \n",
            " (GlobalAveragePooling1D)                                        \n",
            "                                                                 \n",
            " dense_7 (Dense)             (None, 4)                 516       \n",
            "                                                                 \n",
            "=================================================================\n",
            "Total params: 4,036,244\n",
            "Trainable params: 4,036,244\n",
            "Non-trainable params: 0\n",
            "_________________________________________________________________\n"
          ]
        }
      ],
      "source": [
        "model.summary()"
      ]
    },
    {
      "cell_type": "code",
      "execution_count": null,
      "metadata": {
        "colab": {
          "base_uri": "https://localhost:8080/",
          "height": 593
        },
        "id": "67CmKC_eMczJ",
        "outputId": "2483f9b0-27d2-4cb1-b835-a6e2a5643b22"
      },
      "outputs": [
        {
          "data": {
            "text/plain": [
              "<matplotlib.axes._subplots.AxesSubplot at 0x7f39bc2a4eb0>"
            ]
          },
          "execution_count": 42,
          "metadata": {},
          "output_type": "execute_result"
        },
        {
          "data": {
            "image/png": "[encoded data removed]",
            "text/plain": [
              "<Figure size 720x684 with 2 Axes>"
            ]
          },
          "metadata": {},
          "output_type": "display_data"
        }
      ],
      "source": [
        "import matplotlib.pyplot as plt\n",
        "from sklearn.metrics import confusion_matrix\n",
        "from sklearn.metrics import plot_confusion_matrix\n",
        "import seaborn as sns\n",
        "mat=confusion_matrix(y_test,cnn_y)\n",
        "#ax= plt.subplot()\n",
        "plt.figure(figsize=(10, 9.5))\n",
        "sns.heatmap(mat, annot=True, fmt = 'd')"
      ]
    },
    {
      "cell_type": "code",
      "execution_count": null,
      "metadata": {
        "id": "ZdAWuBv7GtQ5"
      },
      "outputs": [],
      "source": [
        "category = pd.get_dummies(df.Emotion)\n",
        "df_new = pd.concat([df, category], axis=1)"
      ]
    },
    {
      "cell_type": "code",
      "execution_count": null,
      "metadata": {
        "id": "CFvJDJdkGydw"
      },
      "outputs": [],
      "source": [
        "x = df_new['Text'].values\n",
        "y = df_new[['happy', 'sadness', 'anger', 'fear']].values"
      ]
    },
    {
      "cell_type": "code",
      "execution_count": null,
      "metadata": {
        "colab": {
          "base_uri": "https://localhost:8080/"
        },
        "id": "U2HRA33fqKv7",
        "outputId": "424f4683-7667-4985-98dc-df706f48f641"
      },
      "outputs": [
        {
          "output_type": "execute_result",
          "data": {
            "text/plain": [
              "array(['didnt feel humiliated',\n",
              "       'can from feeling hopeless damned hopeful just from being around someone who cares and awake',\n",
              "       'grabbing minute post feel greedy wrong', ...,\n",
              "       'vincent was irritated but not dismay',\n",
              "       'kendallhume turned back face the dismayed coup',\n",
              "       'dismayed but not surpris'], dtype=object)"
            ]
          },
          "metadata": {},
          "execution_count": 13
        }
      ],
      "source": [
        "x"
      ]
    },
    {
      "cell_type": "code",
      "execution_count": null,
      "metadata": {
        "colab": {
          "base_uri": "https://localhost:8080/"
        },
        "id": "RtF27gTGpyvR",
        "outputId": "f663a6ed-8783-4028-bf9d-21a15355fc9d"
      },
      "outputs": [
        {
          "output_type": "stream",
          "name": "stdout",
          "text": [
            "[[0 1 0 0]\n",
            " [0 1 0 0]\n",
            " [0 0 1 0]\n",
            " ...\n",
            " [0 0 0 1]\n",
            " [0 0 0 1]\n",
            " [0 0 0 1]]\n"
          ]
        }
      ],
      "source": [
        "print(y)"
      ]
    },
    {
      "cell_type": "code",
      "execution_count": null,
      "metadata": {
        "id": "YM8kjIASGzU4"
      },
      "outputs": [],
      "source": [
        "from sklearn.model_selection import train_test_split\n",
        "x_train, x_test, y_train, y_test = train_test_split(x, y, test_size=0.1, random_state=42)"
      ]
    },
    {
      "cell_type": "code",
      "execution_count": null,
      "metadata": {
        "id": "PrR-dCv5G3Ug"
      },
      "outputs": [],
      "source": [
        "x_train, x_val, y_train, y_val = train_test_split(x_train, y_train, test_size=0.2, random_state=42)"
      ]
    },
    {
      "cell_type": "code",
      "execution_count": null,
      "metadata": {
        "colab": {
          "base_uri": "https://localhost:8080/"
        },
        "id": "85Y7x9UoHFT3",
        "outputId": "a3af2862-8afb-497e-cfdf-538431d8488d"
      },
      "outputs": [
        {
          "output_type": "execute_result",
          "data": {
            "text/plain": [
              "(13532,)"
            ]
          },
          "metadata": {},
          "execution_count": 17
        }
      ],
      "source": [
        "x_train.shape"
      ]
    },
    {
      "cell_type": "code",
      "execution_count": null,
      "metadata": {
        "colab": {
          "base_uri": "https://localhost:8080/"
        },
        "id": "vHJAQzmdqQcq",
        "outputId": "dd30962d-0d67-4825-8c43-1b0e9717fc76"
      },
      "outputs": [
        {
          "output_type": "execute_result",
          "data": {
            "text/plain": [
              "(13532, 4)"
            ]
          },
          "metadata": {},
          "execution_count": 18
        }
      ],
      "source": [
        "y_train.shape"
      ]
    },
    {
      "cell_type": "code",
      "execution_count": null,
      "metadata": {
        "colab": {
          "base_uri": "https://localhost:8080/"
        },
        "id": "e9Ee6Ia6HJAX",
        "outputId": "273e09eb-b0ea-4b7c-b207-3316f6df812c"
      },
      "outputs": [
        {
          "data": {
            "text/plain": [
              "(2145,)"
            ]
          },
          "execution_count": 26,
          "metadata": {},
          "output_type": "execute_result"
        }
      ],
      "source": [
        "x_test.shape"
      ]
    },
    {
      "cell_type": "code",
      "execution_count": null,
      "metadata": {
        "colab": {
          "base_uri": "https://localhost:8080/"
        },
        "id": "UR1M5zWAqUso",
        "outputId": "09e09264-6043-47de-932d-d23eccb7d698"
      },
      "outputs": [
        {
          "data": {
            "text/plain": [
              "(2145, 6)"
            ]
          },
          "execution_count": 27,
          "metadata": {},
          "output_type": "execute_result"
        }
      ],
      "source": [
        "y_test.shape"
      ]
    },
    {
      "cell_type": "code",
      "execution_count": null,
      "metadata": {
        "colab": {
          "base_uri": "https://localhost:8080/"
        },
        "id": "YUmyAt6RHJjg",
        "outputId": "fa4e58cd-5c47-46c1-86c7-fbaaa0a73eba"
      },
      "outputs": [
        {
          "data": {
            "text/plain": [
              "(3861,)"
            ]
          },
          "execution_count": 29,
          "metadata": {},
          "output_type": "execute_result"
        }
      ],
      "source": [
        "x_val.shape"
      ]
    },
    {
      "cell_type": "code",
      "execution_count": null,
      "metadata": {
        "id": "YA_VPKKRHQOB"
      },
      "outputs": [],
      "source": [
        "from tensorflow.keras.preprocessing.text import Tokenizer\n",
        "from tensorflow.keras.preprocessing.sequence import pad_sequences\n",
        " \n",
        "tokenizer = Tokenizer(num_words=2000, oov_token='x')\n",
        "tokenizer.fit_on_texts(x_train) \n",
        "tokenizer.fit_on_texts(x_val)\n",
        " \n",
        "sekuens_train = tokenizer.texts_to_sequences(x_train)\n",
        "sekuens_test = tokenizer.texts_to_sequences(x_val)\n",
        "x_test = tokenizer.texts_to_sequences(x_test)\n",
        " \n",
        "padded_train = pad_sequences(sekuens_train) \n",
        "padded_test = pad_sequences(sekuens_test)\n",
        "x_test = pad_sequences(x_test)"
      ]
    },
    {
      "cell_type": "code",
      "execution_count": null,
      "metadata": {
        "id": "RmR_Q24hHT8Y"
      },
      "outputs": [],
      "source": [
        "import tensorflow as tf\n",
        "#Adding Dropout \n",
        "from tensorflow.keras.layers import Dropout\n",
        "model = tf.keras.Sequential([\n",
        "    tf.keras.layers.Embedding(input_dim=2000, output_dim=16),\n",
        "    tf.keras.layers.Dropout(0.5),\n",
        "    tf.keras.layers.LSTM(128, return_sequences=False),\n",
        "    tf.keras.layers.Dropout(0.5),\n",
        "    tf.keras.layers.Dense(128, activation='relu'),\n",
        "    tf.keras.layers.Dense(64, activation='relu'),\n",
        "    tf.keras.layers.Dense(6, activation='sigmoid')\n",
        "])\n",
        "model.compile(loss='categorical_crossentropy',optimizer='adam',metrics=['accuracy'])"
      ]
    },
    {
      "cell_type": "markdown",
      "source": [
        "#updated"
      ],
      "metadata": {
        "id": "YuzstfIS6PTW"
      }
    },
    {
      "cell_type": "code",
      "source": [
        "import tensorflow as tf\n",
        "#Adding Dropout \n",
        "from tensorflow.keras.layers import Dropout\n",
        "model = tf.keras.Sequential([\n",
        "    tf.keras.layers.Embedding(input_dim=2000, output_dim=16),\n",
        "    tf.keras.layers.Dropout(0.5),\n",
        "    tf.keras.layers.LSTM(128, return_sequences=False),\n",
        "    tf.keras.layers.Dropout(0.5),\n",
        "    tf.keras.layers.Dense(128, activation='relu'),\n",
        "    tf.keras.layers.Dense(64, activation='relu'),\n",
        "    tf.keras.layers.Dense(4, activation='sigmoid')\n",
        "])\n",
        "model.compile(loss='categorical_crossentropy',optimizer='adam',metrics=['accuracy'])"
      ],
      "metadata": {
        "id": "ha77wvF16Fo0"
      },
      "execution_count": null,
      "outputs": []
    },
    {
      "cell_type": "code",
      "execution_count": null,
      "metadata": {
        "colab": {
          "base_uri": "https://localhost:8080/"
        },
        "id": "T6ICC1S5HZ_R",
        "outputId": "385cd891-fe70-4f03-abc3-5ca7dc6cfae4"
      },
      "outputs": [
        {
          "output_type": "stream",
          "name": "stdout",
          "text": [
            "Model: \"sequential\"\n",
            "_________________________________________________________________\n",
            " Layer (type)                Output Shape              Param #   \n",
            "=================================================================\n",
            " embedding (Embedding)       (None, None, 16)          32000     \n",
            "                                                                 \n",
            " dropout (Dropout)           (None, None, 16)          0         \n",
            "                                                                 \n",
            " lstm (LSTM)                 (None, 128)               74240     \n",
            "                                                                 \n",
            " dropout_1 (Dropout)         (None, 128)               0         \n",
            "                                                                 \n",
            " dense (Dense)               (None, 128)               16512     \n",
            "                                                                 \n",
            " dense_1 (Dense)             (None, 64)                8256      \n",
            "                                                                 \n",
            " dense_2 (Dense)             (None, 4)                 260       \n",
            "                                                                 \n",
            "=================================================================\n",
            "Total params: 131,268\n",
            "Trainable params: 131,268\n",
            "Non-trainable params: 0\n",
            "_________________________________________________________________\n"
          ]
        }
      ],
      "source": [
        "model.summary()\n"
      ]
    },
    {
      "cell_type": "code",
      "execution_count": null,
      "metadata": {
        "colab": {
          "base_uri": "https://localhost:8080/"
        },
        "id": "HxequP88Eqln",
        "outputId": "3818c32f-cff6-4bbc-9e98-2648836c54fe"
      },
      "outputs": [
        {
          "data": {
            "text/plain": [
              "(3863, 6)"
            ]
          },
          "execution_count": 44,
          "metadata": {},
          "output_type": "execute_result"
        }
      ],
      "source": [
        "y_val.shape"
      ]
    },
    {
      "cell_type": "code",
      "execution_count": null,
      "metadata": {
        "id": "Pwg7Ci8kHfxQ",
        "colab": {
          "base_uri": "https://localhost:8080/"
        },
        "outputId": "20c345bb-4d7a-4f4f-c0c2-0d1da6e3338f"
      },
      "outputs": [
        {
          "output_type": "stream",
          "name": "stdout",
          "text": [
            "Epoch 1/30\n",
            "423/423 [==============================] - 33s 73ms/step - loss: 1.1806 - accuracy: 0.4056 - val_loss: 0.8799 - val_accuracy: 0.5322\n",
            "Epoch 2/30\n",
            "423/423 [==============================] - 28s 67ms/step - loss: 0.7950 - accuracy: 0.6373 - val_loss: 0.5540 - val_accuracy: 0.7612\n",
            "Epoch 3/30\n",
            "423/423 [==============================] - 30s 72ms/step - loss: 0.5697 - accuracy: 0.7694 - val_loss: 0.4535 - val_accuracy: 0.8549\n",
            "Epoch 4/30\n",
            "423/423 [==============================] - 29s 70ms/step - loss: 0.4792 - accuracy: 0.8277 - val_loss: 0.3815 - val_accuracy: 0.8800\n",
            "Epoch 5/30\n",
            "423/423 [==============================] - 30s 70ms/step - loss: 0.4071 - accuracy: 0.8613 - val_loss: 0.3143 - val_accuracy: 0.8998\n",
            "Epoch 6/30\n",
            "423/423 [==============================] - 29s 69ms/step - loss: 0.3401 - accuracy: 0.8836 - val_loss: 0.2603 - val_accuracy: 0.9137\n",
            "Epoch 7/30\n",
            "423/423 [==============================] - 29s 68ms/step - loss: 0.2987 - accuracy: 0.9011 - val_loss: 0.2354 - val_accuracy: 0.9220\n",
            "Epoch 8/30\n",
            "423/423 [==============================] - 29s 68ms/step - loss: 0.2749 - accuracy: 0.9056 - val_loss: 0.2148 - val_accuracy: 0.9243\n",
            "Epoch 9/30\n",
            "423/423 [==============================] - 30s 71ms/step - loss: 0.2461 - accuracy: 0.9164 - val_loss: 0.2136 - val_accuracy: 0.9276\n",
            "Epoch 10/30\n",
            "423/423 [==============================] - 29s 68ms/step - loss: 0.2181 - accuracy: 0.9248 - val_loss: 0.1982 - val_accuracy: 0.9300\n",
            "Epoch 11/30\n",
            "423/423 [==============================] - 29s 68ms/step - loss: 0.2135 - accuracy: 0.9257 - val_loss: 0.2005 - val_accuracy: 0.9300\n",
            "Epoch 12/30\n",
            "423/423 [==============================] - 29s 68ms/step - loss: 0.1972 - accuracy: 0.9321 - val_loss: 0.1944 - val_accuracy: 0.9311\n",
            "Epoch 13/30\n",
            "423/423 [==============================] - 29s 67ms/step - loss: 0.1814 - accuracy: 0.9356 - val_loss: 0.1795 - val_accuracy: 0.9338\n",
            "Epoch 14/30\n",
            "423/423 [==============================] - 30s 71ms/step - loss: 0.1847 - accuracy: 0.9359 - val_loss: 0.1759 - val_accuracy: 0.9344\n",
            "Epoch 15/30\n",
            "423/423 [==============================] - 29s 68ms/step - loss: 0.1732 - accuracy: 0.9392 - val_loss: 0.1941 - val_accuracy: 0.9332\n",
            "Epoch 16/30\n",
            "423/423 [==============================] - 29s 68ms/step - loss: 0.1633 - accuracy: 0.9454 - val_loss: 0.1823 - val_accuracy: 0.9371\n",
            "Epoch 17/30\n",
            "423/423 [==============================] - 29s 68ms/step - loss: 0.1567 - accuracy: 0.9471 - val_loss: 0.1682 - val_accuracy: 0.9368\n",
            "Epoch 18/30\n",
            "423/423 [==============================] - 30s 71ms/step - loss: 0.1518 - accuracy: 0.9465 - val_loss: 0.1677 - val_accuracy: 0.9385\n",
            "Epoch 19/30\n",
            "423/423 [==============================] - 29s 68ms/step - loss: 0.1425 - accuracy: 0.9500 - val_loss: 0.1731 - val_accuracy: 0.9385\n",
            "Epoch 20/30\n",
            "423/423 [==============================] - 29s 68ms/step - loss: 0.1438 - accuracy: 0.9490 - val_loss: 0.1728 - val_accuracy: 0.9388\n",
            "Epoch 21/30\n",
            "423/423 [==============================] - 29s 68ms/step - loss: 0.1349 - accuracy: 0.9507 - val_loss: 0.1986 - val_accuracy: 0.9371\n",
            "Epoch 22/30\n",
            "423/423 [==============================] - 30s 70ms/step - loss: 0.1371 - accuracy: 0.9515 - val_loss: 0.1681 - val_accuracy: 0.9382\n",
            "Epoch 23/30\n",
            "423/423 [==============================] - 29s 69ms/step - loss: 0.1303 - accuracy: 0.9552 - val_loss: 0.1911 - val_accuracy: 0.9379\n",
            "Epoch 24/30\n",
            "423/423 [==============================] - 29s 68ms/step - loss: 0.1221 - accuracy: 0.9561 - val_loss: 0.1707 - val_accuracy: 0.9430\n",
            "Epoch 25/30\n",
            "423/423 [==============================] - 29s 69ms/step - loss: 0.1211 - accuracy: 0.9578 - val_loss: 0.1702 - val_accuracy: 0.9385\n",
            "Epoch 26/30\n",
            "423/423 [==============================] - 29s 68ms/step - loss: 0.1228 - accuracy: 0.9568 - val_loss: 0.1653 - val_accuracy: 0.9394\n",
            "Epoch 27/30\n",
            "423/423 [==============================] - 30s 72ms/step - loss: 0.1088 - accuracy: 0.9625 - val_loss: 0.1628 - val_accuracy: 0.9444\n",
            "Epoch 28/30\n",
            "423/423 [==============================] - 29s 70ms/step - loss: 0.1107 - accuracy: 0.9614 - val_loss: 0.1877 - val_accuracy: 0.9379\n",
            "Epoch 29/30\n",
            "423/423 [==============================] - 29s 68ms/step - loss: 0.1093 - accuracy: 0.9617 - val_loss: 0.1743 - val_accuracy: 0.9376\n",
            "Epoch 30/30\n",
            "423/423 [==============================] - 29s 68ms/step - loss: 0.1140 - accuracy: 0.9605 - val_loss: 0.1763 - val_accuracy: 0.9444\n"
          ]
        }
      ],
      "source": [
        "num_epochs = 30\n",
        "history = model.fit(padded_train, y_train, epochs=num_epochs, batch_size=32,\n",
        "                    validation_data=(padded_test, y_val))"
      ]
    },
    {
      "cell_type": "code",
      "execution_count": null,
      "metadata": {
        "id": "E2NcciAIHgtA"
      },
      "outputs": [],
      "source": [
        "from tensorflow.keras.models import load_model\n",
        "\n",
        "model.save(\"/content/drive/MyDrive/431/LSTM/lstm.h5\")\n",
        "json_string = tokenizer.to_json()"
      ]
    },
    {
      "cell_type": "code",
      "execution_count": null,
      "metadata": {
        "colab": {
          "base_uri": "https://localhost:8080/"
        },
        "id": "2xsmfAOyHrfg",
        "outputId": "9f638e9e-47c2-48fc-9cbd-b2f6b3301117"
      },
      "outputs": [
        {
          "output_type": "stream",
          "name": "stdout",
          "text": [
            "Training Accuracy: 0.9651197195053101\n",
            "Test Accuracy: 0.9319148659706116\n"
          ]
        }
      ],
      "source": [
        "# evaluate the model\n",
        "_, train_acc = model.evaluate(padded_train, y_train, verbose=0)\n",
        "_, test_acc = model.evaluate(x_test, y_test, verbose=0)\n",
        "print(\"Training Accuracy:\",train_acc)\n",
        "print(\"Test Accuracy:\",test_acc)"
      ]
    },
    {
      "cell_type": "code",
      "execution_count": null,
      "metadata": {
        "colab": {
          "base_uri": "https://localhost:8080/",
          "height": 281
        },
        "id": "PyRtOE0qHuSP",
        "outputId": "a9641d69-f82e-4dbe-88e0-a1440679fdce"
      },
      "outputs": [
        {
          "output_type": "display_data",
          "data": {
            "text/plain": [
              "<Figure size 432x288 with 1 Axes>"
            ],
            "image/png": "[encoded data removed]"
          },
          "metadata": {
            "needs_background": "light"
          }
        }
      ],
      "source": [
        "import matplotlib as mpl\n",
        "import matplotlib.pyplot as pyplot\n",
        "\n",
        "# plot loss during training\n",
        "#pyplot.subplot(211)\n",
        "pyplot.title('Loss')\n",
        "pyplot.plot(history.history['loss'], label='train')\n",
        "pyplot.plot(history.history['val_loss'], label='test')\n",
        "pyplot.legend()\n",
        "pyplot.grid()"
      ]
    },
    {
      "cell_type": "code",
      "execution_count": null,
      "metadata": {
        "colab": {
          "base_uri": "https://localhost:8080/",
          "height": 281
        },
        "id": "uRdP47FAHxi3",
        "outputId": "534d478c-5199-4a5b-e061-4dc462cf85f6"
      },
      "outputs": [
        {
          "output_type": "display_data",
          "data": {
            "text/plain": [
              "<Figure size 432x288 with 1 Axes>"
            ],
            "image/png": "[encoded data removed]"
          },
          "metadata": {
            "needs_background": "light"
          }
        }
      ],
      "source": [
        "# plot accuracy during training\n",
        "#pyplot.subplot(212)\n",
        "pyplot.title('Accuracy')\n",
        "pyplot.plot(history.history['accuracy'], label='train')\n",
        "pyplot.plot(history.history['val_accuracy'], label='test')\n",
        "pyplot.legend()\n",
        "pyplot.grid()\n"
      ]
    },
    {
      "cell_type": "code",
      "execution_count": null,
      "metadata": {
        "id": "BVypYNx-Hzhn"
      },
      "outputs": [],
      "source": [
        "predictions=model.predict(x_test,steps=len(x_test), verbose=0)"
      ]
    },
    {
      "cell_type": "code",
      "execution_count": null,
      "metadata": {
        "id": "uSlVebFOIMVn"
      },
      "outputs": [],
      "source": [
        "import numpy as np\n",
        "#classes_x=np.argmax(predict_x,axis=1)\n",
        "y_pred = np.argmax(predictions, axis=-1)\n",
        "y_true=np.argmax(y_test, axis=-1)"
      ]
    },
    {
      "cell_type": "code",
      "execution_count": null,
      "metadata": {
        "colab": {
          "base_uri": "https://localhost:8080/",
          "height": 581
        },
        "id": "wF9xwYqv2VLi",
        "outputId": "903f9466-e894-46fa-8450-1df5bf4af12b"
      },
      "outputs": [
        {
          "output_type": "execute_result",
          "data": {
            "text/plain": [
              "<matplotlib.axes._subplots.AxesSubplot at 0x7f30f3ee5490>"
            ]
          },
          "metadata": {},
          "execution_count": 34
        },
        {
          "output_type": "display_data",
          "data": {
            "text/plain": [
              "<Figure size 720x684 with 2 Axes>"
            ],
            "image/png": "[encoded data removed]"
          },
          "metadata": {
            "needs_background": "light"
          }
        }
      ],
      "source": [
        "import matplotlib.pyplot as plt\n",
        "from sklearn.metrics import confusion_matrix\n",
        "from sklearn.metrics import plot_confusion_matrix\n",
        "import seaborn as sns\n",
        "mat=confusion_matrix(y_true,y_pred)\n",
        "#ax= plt.subplot()\n",
        "plt.figure(figsize=(10, 9.5))\n",
        "sns.heatmap(mat, annot=True, fmt = 'd')"
      ]
    },
    {
      "cell_type": "code",
      "execution_count": null,
      "metadata": {
        "colab": {
          "base_uri": "https://localhost:8080/"
        },
        "id": "vsY46rBbDB5g",
        "outputId": "c64bd541-8ef8-4392-d710-82811b73efaa"
      },
      "outputs": [
        {
          "output_type": "stream",
          "name": "stdout",
          "text": [
            "              precision    recall  f1-score   support\n",
            "\n",
            "           0       0.97      0.96      0.96       725\n",
            "           1       0.94      0.95      0.95       627\n",
            "           2       0.88      0.92      0.90       290\n",
            "           3       0.94      0.87      0.90       238\n",
            "\n",
            "    accuracy                           0.94      1880\n",
            "   macro avg       0.93      0.93      0.93      1880\n",
            "weighted avg       0.94      0.94      0.94      1880\n",
            "\n"
          ]
        }
      ],
      "source": [
        "from sklearn.metrics import classification_report\n",
        "target_names = ['0', '1', '2','3']\n",
        "print(classification_report(y_true, y_pred, target_names=target_names))"
      ]
    },
    {
      "cell_type": "code",
      "execution_count": null,
      "metadata": {
        "colab": {
          "base_uri": "https://localhost:8080/"
        },
        "id": "bblJKIe7ITLn",
        "outputId": "e6156483-5a4e-41b9-c21a-f1793ba949f5"
      },
      "outputs": [
        {
          "output_type": "execute_result",
          "data": {
            "text/plain": [
              "0.9393617021276596"
            ]
          },
          "metadata": {},
          "execution_count": 36
        }
      ],
      "source": [
        "from sklearn.metrics import accuracy_score\n",
        "accuracy_score(y_true,y_pred)"
      ]
    },
    {
      "cell_type": "code",
      "execution_count": null,
      "metadata": {
        "id": "Lnhn5K5dRApa"
      },
      "outputs": [],
      "source": []
    }
  ],
  "metadata": {
    "colab": {
      "provenance": []
    },
    "gpuClass": "standard",
    "kernelspec": {
      "display_name": "Python 3",
      "name": "python3"
    },
    "language_info": {
      "name": "python"
    }
  },
  "nbformat": 4,
  "nbformat_minor": 0
}