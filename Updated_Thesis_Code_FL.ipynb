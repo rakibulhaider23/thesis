{
  "cells": [
    {
      "cell_type": "code",
      "execution_count": null,
      "id": "9e20503c",
      "metadata": {
        "_cell_guid": "b1076dfc-b9ad-4769-8c92-a6c4dae69d19",
        "_uuid": "8f2839f25d086af736a60e9eeb907d3b93b6e0e5",
        "execution": {
          "iopub.execute_input": "2022-04-30T18:04:11.344703Z",
          "iopub.status.busy": "2022-04-30T18:04:11.343983Z",
          "iopub.status.idle": "2022-04-30T18:04:33.539328Z",
          "shell.execute_reply": "2022-04-30T18:04:33.538423Z"
        },
        "papermill": {
          "duration": 22.215015,
          "end_time": "2022-04-30T18:04:33.541753",
          "exception": false,
          "start_time": "2022-04-30T18:04:11.326738",
          "status": "completed"
        },
        "tags": [],
        "id": "9e20503c",
        "outputId": "6e56ad21-ac3f-4ca8-8c48-85c9c92f1e02"
      },
      "outputs": [
        {
          "name": "stdout",
          "output_type": "stream",
          "text": [
            "Collecting flwr[simulation]\r\n",
            "  Downloading flwr-0.18.0-py3-none-any.whl (106 kB)\r\n",
            "\u001b[2K     \u001b[90m━━━━━━━━━━━━━━━━━━━━━━━━━━━━━━━━━━━━━\u001b[0m \u001b[32m106.2/106.2 KB\u001b[0m \u001b[31m548.3 kB/s\u001b[0m eta \u001b[36m0:00:00\u001b[0m\r\n",
            "\u001b[?25hRequirement already satisfied: grpcio<=1.43.0,>=1.27.2 in /opt/conda/lib/python3.7/site-packages (from flwr[simulation]) (1.43.0)\r\n",
            "Requirement already satisfied: protobuf<4.0.0,>=3.12.1 in /opt/conda/lib/python3.7/site-packages (from flwr[simulation]) (3.19.4)\r\n",
            "Requirement already satisfied: numpy<2.0.0,>=1.19.0 in /opt/conda/lib/python3.7/site-packages (from flwr[simulation]) (1.21.6)\r\n",
            "Collecting importlib-metadata<2.0.0,>=1.4.0\r\n",
            "  Downloading importlib_metadata-1.7.0-py2.py3-none-any.whl (31 kB)\r\n",
            "Collecting google<3.0.0,>=2.0.3\r\n",
            "  Downloading google-2.0.3-py2.py3-none-any.whl (45 kB)\r\n",
            "\u001b[2K     \u001b[90m━━━━━━━━━━━━━━━━━━━━━━━━━━━━━━━━━━━━━━━━\u001b[0m \u001b[32m45.8/45.8 KB\u001b[0m \u001b[31m1.8 MB/s\u001b[0m eta \u001b[36m0:00:00\u001b[0m\r\n",
            "\u001b[?25hRequirement already satisfied: ray[default]<2.0.0,>=1.9.2 in /opt/conda/lib/python3.7/site-packages (from flwr[simulation]) (1.12.0)\r\n",
            "Requirement already satisfied: beautifulsoup4 in /opt/conda/lib/python3.7/site-packages (from google<3.0.0,>=2.0.3->flwr[simulation]) (4.10.0)\r\n",
            "Requirement already satisfied: six>=1.5.2 in /opt/conda/lib/python3.7/site-packages (from grpcio<=1.43.0,>=1.27.2->flwr[simulation]) (1.16.0)\r\n",
            "Requirement already satisfied: zipp>=0.5 in /opt/conda/lib/python3.7/site-packages (from importlib-metadata<2.0.0,>=1.4.0->flwr[simulation]) (3.7.0)\r\n",
            "Requirement already satisfied: aiosignal in /opt/conda/lib/python3.7/site-packages (from ray[default]<2.0.0,>=1.9.2->flwr[simulation]) (1.2.0)\r\n",
            "Requirement already satisfied: filelock in /opt/conda/lib/python3.7/site-packages (from ray[default]<2.0.0,>=1.9.2->flwr[simulation]) (3.6.0)\r\n",
            "Requirement already satisfied: click>=7.0 in /opt/conda/lib/python3.7/site-packages (from ray[default]<2.0.0,>=1.9.2->flwr[simulation]) (8.0.4)\r\n",
            "Requirement already satisfied: virtualenv in /opt/conda/lib/python3.7/site-packages (from ray[default]<2.0.0,>=1.9.2->flwr[simulation]) (20.13.3)\r\n",
            "Requirement already satisfied: attrs in /opt/conda/lib/python3.7/site-packages (from ray[default]<2.0.0,>=1.9.2->flwr[simulation]) (21.4.0)\r\n",
            "Requirement already satisfied: frozenlist in /opt/conda/lib/python3.7/site-packages (from ray[default]<2.0.0,>=1.9.2->flwr[simulation]) (1.3.0)\r\n",
            "Requirement already satisfied: requests in /opt/conda/lib/python3.7/site-packages (from ray[default]<2.0.0,>=1.9.2->flwr[simulation]) (2.27.1)\r\n",
            "Requirement already satisfied: pyyaml in /opt/conda/lib/python3.7/site-packages (from ray[default]<2.0.0,>=1.9.2->flwr[simulation]) (6.0)\r\n",
            "Requirement already satisfied: msgpack<2.0.0,>=1.0.0 in /opt/conda/lib/python3.7/site-packages (from ray[default]<2.0.0,>=1.9.2->flwr[simulation]) (1.0.3)\r\n",
            "Requirement already satisfied: jsonschema in /opt/conda/lib/python3.7/site-packages (from ray[default]<2.0.0,>=1.9.2->flwr[simulation]) (4.4.0)\r\n",
            "Collecting opencensus\r\n",
            "  Downloading opencensus-0.9.0-py2.py3-none-any.whl (128 kB)\r\n",
            "\u001b[2K     \u001b[90m━━━━━━━━━━━━━━━━━━━━━━━━━━━━━━━━━━━━━━━\u001b[0m \u001b[32m128.1/128.1 KB\u001b[0m \u001b[31m1.3 MB/s\u001b[0m eta \u001b[36m0:00:00\u001b[0m\r\n",
            "\u001b[?25hRequirement already satisfied: smart-open in /opt/conda/lib/python3.7/site-packages (from ray[default]<2.0.0,>=1.9.2->flwr[simulation]) (5.2.1)\r\n",
            "Collecting py-spy>=0.2.0\r\n",
            "  Downloading py_spy-0.3.11-py2.py3-none-manylinux_2_5_x86_64.manylinux1_x86_64.whl (3.0 MB)\r\n",
            "\u001b[2K     \u001b[90m━━━━━━━━━━━━━━━━━━━━━━━━━━━━━━━━━━━━━━━━\u001b[0m \u001b[32m3.0/3.0 MB\u001b[0m \u001b[31m9.3 MB/s\u001b[0m eta \u001b[36m0:00:00\u001b[0m\r\n",
            "\u001b[?25hRequirement already satisfied: aiohttp>=3.7 in /opt/conda/lib/python3.7/site-packages (from ray[default]<2.0.0,>=1.9.2->flwr[simulation]) (3.8.1)\r\n",
            "Requirement already satisfied: prometheus-client<0.14.0,>=0.7.1 in /opt/conda/lib/python3.7/site-packages (from ray[default]<2.0.0,>=1.9.2->flwr[simulation]) (0.13.1)\r\n",
            "Collecting aiohttp-cors\r\n",
            "  Downloading aiohttp_cors-0.7.0-py3-none-any.whl (27 kB)\r\n",
            "Collecting colorful\r\n",
            "  Downloading colorful-0.5.4-py2.py3-none-any.whl (201 kB)\r\n",
            "\u001b[2K     \u001b[90m━━━━━━━━━━━━━━━━━━━━━━━━━━━━━━━━━━━━━━\u001b[0m \u001b[32m202.0/202.0 KB\u001b[0m \u001b[31m16.2 MB/s\u001b[0m eta \u001b[36m0:00:00\u001b[0m\r\n",
            "\u001b[?25hCollecting gpustat>=1.0.0b1\r\n",
            "  Downloading gpustat-1.0.0b1.tar.gz (82 kB)\r\n",
            "\u001b[2K     \u001b[90m━━━━━━━━━━━━━━━━━━━━━━━━━━━━━━━━━━━━━━━━\u001b[0m \u001b[32m82.1/82.1 KB\u001b[0m \u001b[31m7.0 MB/s\u001b[0m eta \u001b[36m0:00:00\u001b[0m\r\n",
            "\u001b[?25h  Preparing metadata (setup.py) ... \u001b[?25l-\b \bdone\r\n",
            "\u001b[?25hRequirement already satisfied: multidict<7.0,>=4.5 in /opt/conda/lib/python3.7/site-packages (from aiohttp>=3.7->ray[default]<2.0.0,>=1.9.2->flwr[simulation]) (6.0.2)\r\n",
            "Requirement already satisfied: charset-normalizer<3.0,>=2.0 in /opt/conda/lib/python3.7/site-packages (from aiohttp>=3.7->ray[default]<2.0.0,>=1.9.2->flwr[simulation]) (2.0.12)\r\n",
            "Requirement already satisfied: async-timeout<5.0,>=4.0.0a3 in /opt/conda/lib/python3.7/site-packages (from aiohttp>=3.7->ray[default]<2.0.0,>=1.9.2->flwr[simulation]) (4.0.2)\r\n",
            "Requirement already satisfied: asynctest==0.13.0 in /opt/conda/lib/python3.7/site-packages (from aiohttp>=3.7->ray[default]<2.0.0,>=1.9.2->flwr[simulation]) (0.13.0)\r\n",
            "Requirement already satisfied: yarl<2.0,>=1.0 in /opt/conda/lib/python3.7/site-packages (from aiohttp>=3.7->ray[default]<2.0.0,>=1.9.2->flwr[simulation]) (1.7.2)\r\n",
            "Requirement already satisfied: typing-extensions>=3.7.4 in /opt/conda/lib/python3.7/site-packages (from aiohttp>=3.7->ray[default]<2.0.0,>=1.9.2->flwr[simulation]) (4.2.0)\r\n",
            "Collecting nvidia-ml-py3>=7.352.0\r\n",
            "  Downloading nvidia-ml-py3-7.352.0.tar.gz (19 kB)\r\n",
            "  Preparing metadata (setup.py) ... \u001b[?25l-\b \bdone\r\n",
            "\u001b[?25hRequirement already satisfied: psutil in /opt/conda/lib/python3.7/site-packages (from gpustat>=1.0.0b1->ray[default]<2.0.0,>=1.9.2->flwr[simulation]) (5.9.0)\r\n",
            "Collecting blessed>=1.17.1\r\n",
            "  Downloading blessed-1.19.1-py2.py3-none-any.whl (58 kB)\r\n",
            "\u001b[2K     \u001b[90m━━━━━━━━━━━━━━━━━━━━━━━━━━━━━━━━━━━━━━━━\u001b[0m \u001b[32m58.0/58.0 KB\u001b[0m \u001b[31m4.6 MB/s\u001b[0m eta \u001b[36m0:00:00\u001b[0m\r\n",
            "\u001b[?25hRequirement already satisfied: soupsieve>1.2 in /opt/conda/lib/python3.7/site-packages (from beautifulsoup4->google<3.0.0,>=2.0.3->flwr[simulation]) (2.3.1)\r\n",
            "Requirement already satisfied: importlib-resources>=1.4.0 in /opt/conda/lib/python3.7/site-packages (from jsonschema->ray[default]<2.0.0,>=1.9.2->flwr[simulation]) (5.4.0)\r\n",
            "Requirement already satisfied: pyrsistent!=0.17.0,!=0.17.1,!=0.17.2,>=0.14.0 in /opt/conda/lib/python3.7/site-packages (from jsonschema->ray[default]<2.0.0,>=1.9.2->flwr[simulation]) (0.18.1)\r\n",
            "Requirement already satisfied: google-api-core<3.0.0,>=1.0.0 in /opt/conda/lib/python3.7/site-packages (from opencensus->ray[default]<2.0.0,>=1.9.2->flwr[simulation]) (1.31.5)\r\n",
            "Collecting opencensus-context>=0.1.2\r\n",
            "  Downloading opencensus_context-0.1.2-py2.py3-none-any.whl (4.4 kB)\r\n",
            "Requirement already satisfied: urllib3<1.27,>=1.21.1 in /opt/conda/lib/python3.7/site-packages (from requests->ray[default]<2.0.0,>=1.9.2->flwr[simulation]) (1.26.8)\r\n",
            "Requirement already satisfied: certifi>=2017.4.17 in /opt/conda/lib/python3.7/site-packages (from requests->ray[default]<2.0.0,>=1.9.2->flwr[simulation]) (2021.10.8)\r\n",
            "Requirement already satisfied: idna<4,>=2.5 in /opt/conda/lib/python3.7/site-packages (from requests->ray[default]<2.0.0,>=1.9.2->flwr[simulation]) (3.3)\r\n",
            "Requirement already satisfied: distlib<1,>=0.3.1 in /opt/conda/lib/python3.7/site-packages (from virtualenv->ray[default]<2.0.0,>=1.9.2->flwr[simulation]) (0.3.4)\r\n",
            "Requirement already satisfied: platformdirs<3,>=2 in /opt/conda/lib/python3.7/site-packages (from virtualenv->ray[default]<2.0.0,>=1.9.2->flwr[simulation]) (2.5.1)\r\n",
            "Requirement already satisfied: wcwidth>=0.1.4 in /opt/conda/lib/python3.7/site-packages (from blessed>=1.17.1->gpustat>=1.0.0b1->ray[default]<2.0.0,>=1.9.2->flwr[simulation]) (0.2.5)\r\n",
            "Requirement already satisfied: packaging>=14.3 in /opt/conda/lib/python3.7/site-packages (from google-api-core<3.0.0,>=1.0.0->opencensus->ray[default]<2.0.0,>=1.9.2->flwr[simulation]) (21.3)\r\n",
            "Requirement already satisfied: setuptools>=40.3.0 in /opt/conda/lib/python3.7/site-packages (from google-api-core<3.0.0,>=1.0.0->opencensus->ray[default]<2.0.0,>=1.9.2->flwr[simulation]) (59.8.0)\r\n",
            "Requirement already satisfied: google-auth<2.0dev,>=1.25.0 in /opt/conda/lib/python3.7/site-packages (from google-api-core<3.0.0,>=1.0.0->opencensus->ray[default]<2.0.0,>=1.9.2->flwr[simulation]) (1.35.0)\r\n",
            "Requirement already satisfied: pytz in /opt/conda/lib/python3.7/site-packages (from google-api-core<3.0.0,>=1.0.0->opencensus->ray[default]<2.0.0,>=1.9.2->flwr[simulation]) (2021.3)\r\n",
            "Requirement already satisfied: googleapis-common-protos<2.0dev,>=1.6.0 in /opt/conda/lib/python3.7/site-packages (from google-api-core<3.0.0,>=1.0.0->opencensus->ray[default]<2.0.0,>=1.9.2->flwr[simulation]) (1.54.0)\r\n",
            "Requirement already satisfied: rsa<5,>=3.1.4 in /opt/conda/lib/python3.7/site-packages (from google-auth<2.0dev,>=1.25.0->google-api-core<3.0.0,>=1.0.0->opencensus->ray[default]<2.0.0,>=1.9.2->flwr[simulation]) (4.8)\r\n",
            "Requirement already satisfied: cachetools<5.0,>=2.0.0 in /opt/conda/lib/python3.7/site-packages (from google-auth<2.0dev,>=1.25.0->google-api-core<3.0.0,>=1.0.0->opencensus->ray[default]<2.0.0,>=1.9.2->flwr[simulation]) (4.2.4)\r\n",
            "Requirement already satisfied: pyasn1-modules>=0.2.1 in /opt/conda/lib/python3.7/site-packages (from google-auth<2.0dev,>=1.25.0->google-api-core<3.0.0,>=1.0.0->opencensus->ray[default]<2.0.0,>=1.9.2->flwr[simulation]) (0.2.7)\r\n",
            "Requirement already satisfied: pyparsing!=3.0.5,>=2.0.2 in /opt/conda/lib/python3.7/site-packages (from packaging>=14.3->google-api-core<3.0.0,>=1.0.0->opencensus->ray[default]<2.0.0,>=1.9.2->flwr[simulation]) (3.0.7)\r\n",
            "Requirement already satisfied: pyasn1<0.5.0,>=0.4.6 in /opt/conda/lib/python3.7/site-packages (from pyasn1-modules>=0.2.1->google-auth<2.0dev,>=1.25.0->google-api-core<3.0.0,>=1.0.0->opencensus->ray[default]<2.0.0,>=1.9.2->flwr[simulation]) (0.4.8)\r\n",
            "Building wheels for collected packages: gpustat, nvidia-ml-py3\r\n",
            "  Building wheel for gpustat (setup.py) ... \u001b[?25l-\b \b\\\b \b|\b \bdone\r\n",
            "\u001b[?25h  Created wheel for gpustat: filename=gpustat-1.0.0b1-py3-none-any.whl size=15979 sha256=0118860ed10409b8ab7d983c07f0fd0c661e02ef629d3cd4baaa53b9fe38e814\r\n",
            "  Stored in directory: /root/.cache/pip/wheels/1a/16/e2/3e2437fba4c4b6a97a97bd96fce5d14e66cff5c4966fb1cc8c\r\n",
            "  Building wheel for nvidia-ml-py3 (setup.py) ... \u001b[?25l-\b \b\\\b \bdone\r\n",
            "\u001b[?25h  Created wheel for nvidia-ml-py3: filename=nvidia_ml_py3-7.352.0-py3-none-any.whl size=19190 sha256=23e5fd324d370ff0fc2748d615a17c8b01b30239b94267f720f3881c2f73bfa5\r\n",
            "  Stored in directory: /root/.cache/pip/wheels/df/99/da/c34f202dc8fd1dffd35e0ecf1a7d7f8374ca05fbcbaf974b83\r\n",
            "Successfully built gpustat nvidia-ml-py3\r\n",
            "Installing collected packages: py-spy, opencensus-context, nvidia-ml-py3, colorful, importlib-metadata, blessed, gpustat, google, flwr, aiohttp-cors, opencensus\r\n",
            "  Attempting uninstall: importlib-metadata\r\n",
            "    Found existing installation: importlib-metadata 4.11.3\r\n",
            "    Uninstalling importlib-metadata-4.11.3:\r\n",
            "      Successfully uninstalled importlib-metadata-4.11.3\r\n",
            "\u001b[31mERROR: pip's dependency resolver does not currently take into account all the packages that are installed. This behaviour is the source of the following dependency conflicts.\r\n",
            "markdown 3.3.6 requires importlib-metadata>=4.4; python_version < \"3.10\", but you have importlib-metadata 1.7.0 which is incompatible.\r\n",
            "keyring 23.5.0 requires importlib-metadata>=3.6, but you have importlib-metadata 1.7.0 which is incompatible.\r\n",
            "ibis-framework 2.1.1 requires importlib-metadata<5,>=4; python_version < \"3.8\", but you have importlib-metadata 1.7.0 which is incompatible.\r\n",
            "gym 0.23.1 requires importlib-metadata>=4.10.0; python_version < \"3.10\", but you have importlib-metadata 1.7.0 which is incompatible.\r\n",
            "flask 2.1.1 requires importlib-metadata>=3.6.0; python_version < \"3.10\", but you have importlib-metadata 1.7.0 which is incompatible.\u001b[0m\u001b[31m\r\n",
            "\u001b[0mSuccessfully installed aiohttp-cors-0.7.0 blessed-1.19.1 colorful-0.5.4 flwr-0.18.0 google-2.0.3 gpustat-1.0.0b1 importlib-metadata-1.7.0 nvidia-ml-py3-7.352.0 opencensus-0.9.0 opencensus-context-0.1.2 py-spy-0.3.11\r\n",
            "\u001b[33mWARNING: Running pip as the 'root' user can result in broken permissions and conflicting behaviour with the system package manager. It is recommended to use a virtual environment instead: https://pip.pypa.io/warnings/venv\u001b[0m\u001b[33m\r\n",
            "\u001b[0m"
          ]
        }
      ],
      "source": [
        "!pip install -U flwr[\"simulation\"]"
      ]
    },
    {
      "cell_type": "code",
      "execution_count": null,
      "id": "aa587b4d",
      "metadata": {
        "execution": {
          "iopub.execute_input": "2022-04-30T18:04:33.622825Z",
          "iopub.status.busy": "2022-04-30T18:04:33.621910Z",
          "iopub.status.idle": "2022-04-30T18:04:39.755639Z",
          "shell.execute_reply": "2022-04-30T18:04:39.754565Z"
        },
        "papermill": {
          "duration": 6.176002,
          "end_time": "2022-04-30T18:04:39.758013",
          "exception": false,
          "start_time": "2022-04-30T18:04:33.582011",
          "status": "completed"
        },
        "tags": [],
        "id": "aa587b4d"
      },
      "outputs": [],
      "source": [
        "import os\n",
        "import math\n",
        "\n",
        "# Make TensorFlow logs less verbose\n",
        "os.environ[\"TF_CPP_MIN_LOG_LEVEL\"] = \"3\"\n",
        "\n",
        "import flwr as fl\n",
        "import tensorflow as tf"
      ]
    },
    {
      "cell_type": "code",
      "execution_count": null,
      "id": "16fb6f50",
      "metadata": {
        "execution": {
          "iopub.execute_input": "2022-04-30T18:04:39.837063Z",
          "iopub.status.busy": "2022-04-30T18:04:39.836757Z",
          "iopub.status.idle": "2022-04-30T18:04:39.845492Z",
          "shell.execute_reply": "2022-04-30T18:04:39.844615Z"
        },
        "papermill": {
          "duration": 0.050025,
          "end_time": "2022-04-30T18:04:39.847553",
          "exception": false,
          "start_time": "2022-04-30T18:04:39.797528",
          "status": "completed"
        },
        "tags": [],
        "id": "16fb6f50"
      },
      "outputs": [],
      "source": [
        "class FlowerClient(fl.client.NumPyClient):\n",
        "    def __init__(self, model, x_train, y_train, x_val, y_val) -> None:\n",
        "        self.model = model\n",
        "        self.x_train, self.y_train = x_train, y_train\n",
        "        self.x_val, self.y_val = x_val, y_val\n",
        "\n",
        "    def get_parameters(self):\n",
        "        return self.model.get_weights()\n",
        "\n",
        "    def fit(self, parameters, config):\n",
        "        self.model.set_weights(parameters)\n",
        "        self.model.fit(self.x_train, self.y_train, epochs=1, verbose=2)\n",
        "        return self.model.get_weights(), len(self.x_train), {}\n",
        "\n",
        "    def evaluate(self, parameters, config):\n",
        "        self.model.set_weights(parameters)\n",
        "        loss, acc = self.model.evaluate(self.x_val, self.y_val, verbose=2)\n",
        "        return loss, len(self.x_val), {\"accuracy\": acc}"
      ]
    },
    {
      "cell_type": "code",
      "execution_count": null,
      "id": "b186cd8f",
      "metadata": {
        "execution": {
          "iopub.execute_input": "2022-04-30T18:04:39.924126Z",
          "iopub.status.busy": "2022-04-30T18:04:39.923599Z",
          "iopub.status.idle": "2022-04-30T18:04:40.021340Z",
          "shell.execute_reply": "2022-04-30T18:04:40.020399Z"
        },
        "papermill": {
          "duration": 0.138877,
          "end_time": "2022-04-30T18:04:40.023699",
          "exception": false,
          "start_time": "2022-04-30T18:04:39.884822",
          "status": "completed"
        },
        "tags": [],
        "id": "b186cd8f"
      },
      "outputs": [],
      "source": [
        "import pandas as pd\n",
        "df=pd.read_csv('../input/emotion-final-2/Emotion_final csv.csv')"
      ]
    },
    {
      "cell_type": "code",
      "execution_count": null,
      "id": "c8b7cbc1",
      "metadata": {
        "execution": {
          "iopub.execute_input": "2022-04-30T18:04:40.100144Z",
          "iopub.status.busy": "2022-04-30T18:04:40.099847Z",
          "iopub.status.idle": "2022-04-30T18:04:40.116745Z",
          "shell.execute_reply": "2022-04-30T18:04:40.116153Z"
        },
        "papermill": {
          "duration": 0.057106,
          "end_time": "2022-04-30T18:04:40.118666",
          "exception": false,
          "start_time": "2022-04-30T18:04:40.061560",
          "status": "completed"
        },
        "tags": [],
        "id": "c8b7cbc1",
        "outputId": "f73ee7c9-9009-417a-c3ea-5c72abc954f1"
      },
      "outputs": [
        {
          "data": {
            "text/html": [
              "<div>\n",
              "<style scoped>\n",
              "    .dataframe tbody tr th:only-of-type {\n",
              "        vertical-align: middle;\n",
              "    }\n",
              "\n",
              "    .dataframe tbody tr th {\n",
              "        vertical-align: top;\n",
              "    }\n",
              "\n",
              "    .dataframe thead th {\n",
              "        text-align: right;\n",
              "    }\n",
              "</style>\n",
              "<table border=\"1\" class=\"dataframe\">\n",
              "  <thead>\n",
              "    <tr style=\"text-align: right;\">\n",
              "      <th></th>\n",
              "      <th>Text</th>\n",
              "      <th>Emotion</th>\n",
              "    </tr>\n",
              "  </thead>\n",
              "  <tbody>\n",
              "    <tr>\n",
              "      <th>0</th>\n",
              "      <td>i didnt feel humiliated</td>\n",
              "      <td>sadness</td>\n",
              "    </tr>\n",
              "    <tr>\n",
              "      <th>1</th>\n",
              "      <td>i can go from feeling so hopeless to so damned...</td>\n",
              "      <td>sadness</td>\n",
              "    </tr>\n",
              "    <tr>\n",
              "      <th>2</th>\n",
              "      <td>im grabbing a minute to post i feel greedy wrong</td>\n",
              "      <td>anger</td>\n",
              "    </tr>\n",
              "    <tr>\n",
              "      <th>3</th>\n",
              "      <td>i am ever feeling nostalgic about the fireplac...</td>\n",
              "      <td>love</td>\n",
              "    </tr>\n",
              "    <tr>\n",
              "      <th>4</th>\n",
              "      <td>i am feeling grouchy</td>\n",
              "      <td>anger</td>\n",
              "    </tr>\n",
              "  </tbody>\n",
              "</table>\n",
              "</div>"
            ],
            "text/plain": [
              "                                                Text  Emotion\n",
              "0                            i didnt feel humiliated  sadness\n",
              "1  i can go from feeling so hopeless to so damned...  sadness\n",
              "2   im grabbing a minute to post i feel greedy wrong    anger\n",
              "3  i am ever feeling nostalgic about the fireplac...     love\n",
              "4                               i am feeling grouchy    anger"
            ]
          },
          "execution_count": 5,
          "metadata": {},
          "output_type": "execute_result"
        }
      ],
      "source": [
        "df.head()"
      ]
    },
    {
      "cell_type": "code",
      "execution_count": null,
      "id": "7ba8e862",
      "metadata": {
        "execution": {
          "iopub.execute_input": "2022-04-30T18:04:40.196739Z",
          "iopub.status.busy": "2022-04-30T18:04:40.196260Z",
          "iopub.status.idle": "2022-04-30T18:04:40.225316Z",
          "shell.execute_reply": "2022-04-30T18:04:40.224463Z"
        },
        "papermill": {
          "duration": 0.07078,
          "end_time": "2022-04-30T18:04:40.227478",
          "exception": false,
          "start_time": "2022-04-30T18:04:40.156698",
          "status": "completed"
        },
        "tags": [],
        "id": "7ba8e862",
        "outputId": "5d585688-25ff-4aac-88f2-1fcf08ea79b1"
      },
      "outputs": [
        {
          "data": {
            "text/html": [
              "<div>\n",
              "<style scoped>\n",
              "    .dataframe tbody tr th:only-of-type {\n",
              "        vertical-align: middle;\n",
              "    }\n",
              "\n",
              "    .dataframe tbody tr th {\n",
              "        vertical-align: top;\n",
              "    }\n",
              "\n",
              "    .dataframe thead th {\n",
              "        text-align: right;\n",
              "    }\n",
              "</style>\n",
              "<table border=\"1\" class=\"dataframe\">\n",
              "  <thead>\n",
              "    <tr style=\"text-align: right;\">\n",
              "      <th></th>\n",
              "      <th>Text</th>\n",
              "      <th>anger</th>\n",
              "      <th>fear</th>\n",
              "      <th>happy</th>\n",
              "      <th>love</th>\n",
              "      <th>sadness</th>\n",
              "      <th>surprise</th>\n",
              "    </tr>\n",
              "  </thead>\n",
              "  <tbody>\n",
              "    <tr>\n",
              "      <th>0</th>\n",
              "      <td>i didnt feel humiliated</td>\n",
              "      <td>0</td>\n",
              "      <td>0</td>\n",
              "      <td>0</td>\n",
              "      <td>0</td>\n",
              "      <td>1</td>\n",
              "      <td>0</td>\n",
              "    </tr>\n",
              "    <tr>\n",
              "      <th>1</th>\n",
              "      <td>i can go from feeling so hopeless to so damned...</td>\n",
              "      <td>0</td>\n",
              "      <td>0</td>\n",
              "      <td>0</td>\n",
              "      <td>0</td>\n",
              "      <td>1</td>\n",
              "      <td>0</td>\n",
              "    </tr>\n",
              "    <tr>\n",
              "      <th>2</th>\n",
              "      <td>im grabbing a minute to post i feel greedy wrong</td>\n",
              "      <td>1</td>\n",
              "      <td>0</td>\n",
              "      <td>0</td>\n",
              "      <td>0</td>\n",
              "      <td>0</td>\n",
              "      <td>0</td>\n",
              "    </tr>\n",
              "    <tr>\n",
              "      <th>3</th>\n",
              "      <td>i am ever feeling nostalgic about the fireplac...</td>\n",
              "      <td>0</td>\n",
              "      <td>0</td>\n",
              "      <td>0</td>\n",
              "      <td>1</td>\n",
              "      <td>0</td>\n",
              "      <td>0</td>\n",
              "    </tr>\n",
              "    <tr>\n",
              "      <th>4</th>\n",
              "      <td>i am feeling grouchy</td>\n",
              "      <td>1</td>\n",
              "      <td>0</td>\n",
              "      <td>0</td>\n",
              "      <td>0</td>\n",
              "      <td>0</td>\n",
              "      <td>0</td>\n",
              "    </tr>\n",
              "    <tr>\n",
              "      <th>...</th>\n",
              "      <td>...</td>\n",
              "      <td>...</td>\n",
              "      <td>...</td>\n",
              "      <td>...</td>\n",
              "      <td>...</td>\n",
              "      <td>...</td>\n",
              "      <td>...</td>\n",
              "    </tr>\n",
              "    <tr>\n",
              "      <th>21454</th>\n",
              "      <td>Melissa stared at her friend in dism</td>\n",
              "      <td>0</td>\n",
              "      <td>1</td>\n",
              "      <td>0</td>\n",
              "      <td>0</td>\n",
              "      <td>0</td>\n",
              "      <td>0</td>\n",
              "    </tr>\n",
              "    <tr>\n",
              "      <th>21455</th>\n",
              "      <td>Successive state elections have seen the gover...</td>\n",
              "      <td>0</td>\n",
              "      <td>1</td>\n",
              "      <td>0</td>\n",
              "      <td>0</td>\n",
              "      <td>0</td>\n",
              "      <td>0</td>\n",
              "    </tr>\n",
              "    <tr>\n",
              "      <th>21456</th>\n",
              "      <td>Vincent was irritated but not dismay</td>\n",
              "      <td>0</td>\n",
              "      <td>1</td>\n",
              "      <td>0</td>\n",
              "      <td>0</td>\n",
              "      <td>0</td>\n",
              "      <td>0</td>\n",
              "    </tr>\n",
              "    <tr>\n",
              "      <th>21457</th>\n",
              "      <td>Kendall-Hume turned back to face the dismayed ...</td>\n",
              "      <td>0</td>\n",
              "      <td>1</td>\n",
              "      <td>0</td>\n",
              "      <td>0</td>\n",
              "      <td>0</td>\n",
              "      <td>0</td>\n",
              "    </tr>\n",
              "    <tr>\n",
              "      <th>21458</th>\n",
              "      <td>I am dismayed , but not surpris</td>\n",
              "      <td>0</td>\n",
              "      <td>1</td>\n",
              "      <td>0</td>\n",
              "      <td>0</td>\n",
              "      <td>0</td>\n",
              "      <td>0</td>\n",
              "    </tr>\n",
              "  </tbody>\n",
              "</table>\n",
              "<p>21459 rows × 7 columns</p>\n",
              "</div>"
            ],
            "text/plain": [
              "                                                    Text  anger  fear  happy  \\\n",
              "0                                i didnt feel humiliated      0     0      0   \n",
              "1      i can go from feeling so hopeless to so damned...      0     0      0   \n",
              "2       im grabbing a minute to post i feel greedy wrong      1     0      0   \n",
              "3      i am ever feeling nostalgic about the fireplac...      0     0      0   \n",
              "4                                   i am feeling grouchy      1     0      0   \n",
              "...                                                  ...    ...   ...    ...   \n",
              "21454               Melissa stared at her friend in dism      0     1      0   \n",
              "21455  Successive state elections have seen the gover...      0     1      0   \n",
              "21456               Vincent was irritated but not dismay      0     1      0   \n",
              "21457  Kendall-Hume turned back to face the dismayed ...      0     1      0   \n",
              "21458                    I am dismayed , but not surpris      0     1      0   \n",
              "\n",
              "       love  sadness  surprise  \n",
              "0         0        1         0  \n",
              "1         0        1         0  \n",
              "2         0        0         0  \n",
              "3         1        0         0  \n",
              "4         0        0         0  \n",
              "...     ...      ...       ...  \n",
              "21454     0        0         0  \n",
              "21455     0        0         0  \n",
              "21456     0        0         0  \n",
              "21457     0        0         0  \n",
              "21458     0        0         0  \n",
              "\n",
              "[21459 rows x 7 columns]"
            ]
          },
          "execution_count": 6,
          "metadata": {},
          "output_type": "execute_result"
        }
      ],
      "source": [
        "category = pd.get_dummies(df.Emotion)\n",
        "df_new = pd.concat([df, category], axis=1)\n",
        "df_new = df_new.drop(columns='Emotion')\n",
        "df_new"
      ]
    },
    {
      "cell_type": "code",
      "execution_count": null,
      "id": "130ed145",
      "metadata": {
        "execution": {
          "iopub.execute_input": "2022-04-30T18:04:40.306867Z",
          "iopub.status.busy": "2022-04-30T18:04:40.306169Z",
          "iopub.status.idle": "2022-04-30T18:04:40.311753Z",
          "shell.execute_reply": "2022-04-30T18:04:40.311103Z"
        },
        "papermill": {
          "duration": 0.048005,
          "end_time": "2022-04-30T18:04:40.313699",
          "exception": false,
          "start_time": "2022-04-30T18:04:40.265694",
          "status": "completed"
        },
        "tags": [],
        "id": "130ed145"
      },
      "outputs": [],
      "source": [
        "text = df_new['Text'].values\n",
        "label = df_new[['anger', 'fear', 'happy', 'love', 'sadness', 'surprise']].values"
      ]
    },
    {
      "cell_type": "code",
      "execution_count": null,
      "id": "107375e6",
      "metadata": {
        "execution": {
          "iopub.execute_input": "2022-04-30T18:04:40.393776Z",
          "iopub.status.busy": "2022-04-30T18:04:40.393485Z",
          "iopub.status.idle": "2022-04-30T18:04:41.131581Z",
          "shell.execute_reply": "2022-04-30T18:04:41.130619Z"
        },
        "papermill": {
          "duration": 0.78206,
          "end_time": "2022-04-30T18:04:41.134263",
          "exception": false,
          "start_time": "2022-04-30T18:04:40.352203",
          "status": "completed"
        },
        "tags": [],
        "id": "107375e6"
      },
      "outputs": [],
      "source": [
        "from sklearn.model_selection import train_test_split\n",
        "text_train, text_test, label_train, label_test = train_test_split(text, label, test_size=0.2, random_state=42)"
      ]
    },
    {
      "cell_type": "code",
      "execution_count": null,
      "id": "cc28db41",
      "metadata": {
        "execution": {
          "iopub.execute_input": "2022-04-30T18:04:41.216018Z",
          "iopub.status.busy": "2022-04-30T18:04:41.215720Z",
          "iopub.status.idle": "2022-04-30T18:04:43.381335Z",
          "shell.execute_reply": "2022-04-30T18:04:43.380116Z"
        },
        "papermill": {
          "duration": 2.209995,
          "end_time": "2022-04-30T18:04:43.383869",
          "exception": false,
          "start_time": "2022-04-30T18:04:41.173874",
          "status": "completed"
        },
        "tags": [],
        "id": "cc28db41"
      },
      "outputs": [],
      "source": [
        "from tensorflow.keras.preprocessing.text import Tokenizer\n",
        "from tensorflow.keras.preprocessing.sequence import pad_sequences\n",
        " \n",
        "tokenizer = Tokenizer(num_words=2000, oov_token='x')\n",
        "tokenizer.fit_on_texts(text_train) \n",
        "tokenizer.fit_on_texts(text_test)\n",
        " \n",
        "sekuens_train = tokenizer.texts_to_sequences(text_train)\n",
        "sekuens_test = tokenizer.texts_to_sequences(text_test)\n",
        " \n",
        "padded_train = pad_sequences(sekuens_train) \n",
        "padded_test = pad_sequences(sekuens_test)"
      ]
    },
    {
      "cell_type": "code",
      "execution_count": null,
      "id": "b0602618",
      "metadata": {
        "execution": {
          "iopub.execute_input": "2022-04-30T18:04:43.463443Z",
          "iopub.status.busy": "2022-04-30T18:04:43.463156Z",
          "iopub.status.idle": "2022-04-30T18:04:43.473557Z",
          "shell.execute_reply": "2022-04-30T18:04:43.472592Z"
        },
        "papermill": {
          "duration": 0.052347,
          "end_time": "2022-04-30T18:04:43.475493",
          "exception": false,
          "start_time": "2022-04-30T18:04:43.423146",
          "status": "completed"
        },
        "tags": [],
        "id": "b0602618"
      },
      "outputs": [],
      "source": [
        "def client_fn(cid: str) -> fl.client.Client:\n",
        "    # Create model\n",
        "    model = tf.keras.models.Sequential(\n",
        "        [\n",
        "    tf.keras.layers.Embedding(input_dim=2000, output_dim=16),\n",
        "    tf.keras.layers.LSTM(64),\n",
        "    tf.keras.layers.Dense(128, activation='relu'),\n",
        "    tf.keras.layers.Dense(64, activation='relu'),\n",
        "    tf.keras.layers.Dense(6, activation='softmax')\n",
        "        ]\n",
        "    )\n",
        "    model.compile(loss='categorical_crossentropy',optimizer='adam',metrics=['accuracy'])\n",
        "\n",
        "    # Load data partition (divide MNIST into NUM_CLIENTS distinct partitions)\n",
        "    #(x_train, y_train), _ = tf.keras.datasets.mnist.load_data()\n",
        "    partition_size = math.floor(len(padded_train) / NUM_CLIENTS)\n",
        "    idx_from, idx_to = int(cid) * partition_size, (int(cid) + 1) * partition_size\n",
        "    x_train_cid = padded_train[idx_from:idx_to] / 255.0\n",
        "    y_train_cid = label_train[idx_from:idx_to]\n",
        "\n",
        "    # Use 10% of the client's training data for validation\n",
        "    split_idx = math.floor(len(padded_train) * 0.9)\n",
        "    x_train_cid, y_train_cid = x_train_cid[:split_idx], y_train_cid[:split_idx]\n",
        "    x_val_cid, y_val_cid = x_train_cid[split_idx:], y_train_cid[split_idx:]\n",
        "\n",
        "    # Create and return client\n",
        "    return FlowerClient(model, x_train_cid, y_train_cid, x_val_cid, y_val_cid)"
      ]
    },
    {
      "cell_type": "code",
      "execution_count": null,
      "id": "e40ad877",
      "metadata": {
        "execution": {
          "iopub.execute_input": "2022-04-30T18:04:43.555228Z",
          "iopub.status.busy": "2022-04-30T18:04:43.554921Z",
          "iopub.status.idle": "2022-04-30T18:04:54.529579Z",
          "shell.execute_reply": "2022-04-30T18:04:54.528449Z"
        },
        "papermill": {
          "duration": 11.01623,
          "end_time": "2022-04-30T18:04:54.531839",
          "exception": false,
          "start_time": "2022-04-30T18:04:43.515609",
          "status": "completed"
        },
        "tags": [],
        "id": "e40ad877",
        "outputId": "dee2877b-2118-486e-89af-5b99498c041e"
      },
      "outputs": [
        {
          "name": "stdout",
          "output_type": "stream",
          "text": [
            "Requirement already satisfied: flwr[simulation] in /opt/conda/lib/python3.7/site-packages (0.18.0)\r\n",
            "Requirement already satisfied: protobuf<4.0.0,>=3.12.1 in /opt/conda/lib/python3.7/site-packages (from flwr[simulation]) (3.19.4)\r\n",
            "Requirement already satisfied: importlib-metadata<2.0.0,>=1.4.0 in /opt/conda/lib/python3.7/site-packages (from flwr[simulation]) (1.7.0)\r\n",
            "Requirement already satisfied: google<3.0.0,>=2.0.3 in /opt/conda/lib/python3.7/site-packages (from flwr[simulation]) (2.0.3)\r\n",
            "Requirement already satisfied: numpy<2.0.0,>=1.19.0 in /opt/conda/lib/python3.7/site-packages (from flwr[simulation]) (1.21.6)\r\n",
            "Requirement already satisfied: grpcio<=1.43.0,>=1.27.2 in /opt/conda/lib/python3.7/site-packages (from flwr[simulation]) (1.43.0)\r\n",
            "Requirement already satisfied: ray[default]<2.0.0,>=1.9.2 in /opt/conda/lib/python3.7/site-packages (from flwr[simulation]) (1.12.0)\r\n",
            "Requirement already satisfied: beautifulsoup4 in /opt/conda/lib/python3.7/site-packages (from google<3.0.0,>=2.0.3->flwr[simulation]) (4.10.0)\r\n",
            "Requirement already satisfied: six>=1.5.2 in /opt/conda/lib/python3.7/site-packages (from grpcio<=1.43.0,>=1.27.2->flwr[simulation]) (1.16.0)\r\n",
            "Requirement already satisfied: zipp>=0.5 in /opt/conda/lib/python3.7/site-packages (from importlib-metadata<2.0.0,>=1.4.0->flwr[simulation]) (3.7.0)\r\n",
            "Requirement already satisfied: virtualenv in /opt/conda/lib/python3.7/site-packages (from ray[default]<2.0.0,>=1.9.2->flwr[simulation]) (20.13.3)\r\n",
            "Requirement already satisfied: pyyaml in /opt/conda/lib/python3.7/site-packages (from ray[default]<2.0.0,>=1.9.2->flwr[simulation]) (6.0)\r\n",
            "Requirement already satisfied: aiosignal in /opt/conda/lib/python3.7/site-packages (from ray[default]<2.0.0,>=1.9.2->flwr[simulation]) (1.2.0)\r\n",
            "Requirement already satisfied: requests in /opt/conda/lib/python3.7/site-packages (from ray[default]<2.0.0,>=1.9.2->flwr[simulation]) (2.27.1)\r\n",
            "Requirement already satisfied: click>=7.0 in /opt/conda/lib/python3.7/site-packages (from ray[default]<2.0.0,>=1.9.2->flwr[simulation]) (8.0.4)\r\n",
            "Requirement already satisfied: attrs in /opt/conda/lib/python3.7/site-packages (from ray[default]<2.0.0,>=1.9.2->flwr[simulation]) (21.4.0)\r\n",
            "Requirement already satisfied: frozenlist in /opt/conda/lib/python3.7/site-packages (from ray[default]<2.0.0,>=1.9.2->flwr[simulation]) (1.3.0)\r\n",
            "Requirement already satisfied: msgpack<2.0.0,>=1.0.0 in /opt/conda/lib/python3.7/site-packages (from ray[default]<2.0.0,>=1.9.2->flwr[simulation]) (1.0.3)\r\n",
            "Requirement already satisfied: jsonschema in /opt/conda/lib/python3.7/site-packages (from ray[default]<2.0.0,>=1.9.2->flwr[simulation]) (4.4.0)\r\n",
            "Requirement already satisfied: filelock in /opt/conda/lib/python3.7/site-packages (from ray[default]<2.0.0,>=1.9.2->flwr[simulation]) (3.6.0)\r\n",
            "Requirement already satisfied: prometheus-client<0.14.0,>=0.7.1 in /opt/conda/lib/python3.7/site-packages (from ray[default]<2.0.0,>=1.9.2->flwr[simulation]) (0.13.1)\r\n",
            "Requirement already satisfied: gpustat>=1.0.0b1 in /opt/conda/lib/python3.7/site-packages (from ray[default]<2.0.0,>=1.9.2->flwr[simulation]) (1.0.0b1)\r\n",
            "Requirement already satisfied: aiohttp>=3.7 in /opt/conda/lib/python3.7/site-packages (from ray[default]<2.0.0,>=1.9.2->flwr[simulation]) (3.8.1)\r\n",
            "Requirement already satisfied: py-spy>=0.2.0 in /opt/conda/lib/python3.7/site-packages (from ray[default]<2.0.0,>=1.9.2->flwr[simulation]) (0.3.11)\r\n",
            "Requirement already satisfied: smart-open in /opt/conda/lib/python3.7/site-packages (from ray[default]<2.0.0,>=1.9.2->flwr[simulation]) (5.2.1)\r\n",
            "Requirement already satisfied: aiohttp-cors in /opt/conda/lib/python3.7/site-packages (from ray[default]<2.0.0,>=1.9.2->flwr[simulation]) (0.7.0)\r\n",
            "Requirement already satisfied: colorful in /opt/conda/lib/python3.7/site-packages (from ray[default]<2.0.0,>=1.9.2->flwr[simulation]) (0.5.4)\r\n",
            "Requirement already satisfied: opencensus in /opt/conda/lib/python3.7/site-packages (from ray[default]<2.0.0,>=1.9.2->flwr[simulation]) (0.9.0)\r\n",
            "Requirement already satisfied: charset-normalizer<3.0,>=2.0 in /opt/conda/lib/python3.7/site-packages (from aiohttp>=3.7->ray[default]<2.0.0,>=1.9.2->flwr[simulation]) (2.0.12)\r\n",
            "Requirement already satisfied: typing-extensions>=3.7.4 in /opt/conda/lib/python3.7/site-packages (from aiohttp>=3.7->ray[default]<2.0.0,>=1.9.2->flwr[simulation]) (4.2.0)\r\n",
            "Requirement already satisfied: multidict<7.0,>=4.5 in /opt/conda/lib/python3.7/site-packages (from aiohttp>=3.7->ray[default]<2.0.0,>=1.9.2->flwr[simulation]) (6.0.2)\r\n",
            "Requirement already satisfied: async-timeout<5.0,>=4.0.0a3 in /opt/conda/lib/python3.7/site-packages (from aiohttp>=3.7->ray[default]<2.0.0,>=1.9.2->flwr[simulation]) (4.0.2)\r\n",
            "Requirement already satisfied: asynctest==0.13.0 in /opt/conda/lib/python3.7/site-packages (from aiohttp>=3.7->ray[default]<2.0.0,>=1.9.2->flwr[simulation]) (0.13.0)\r\n",
            "Requirement already satisfied: yarl<2.0,>=1.0 in /opt/conda/lib/python3.7/site-packages (from aiohttp>=3.7->ray[default]<2.0.0,>=1.9.2->flwr[simulation]) (1.7.2)\r\n",
            "Requirement already satisfied: nvidia-ml-py3>=7.352.0 in /opt/conda/lib/python3.7/site-packages (from gpustat>=1.0.0b1->ray[default]<2.0.0,>=1.9.2->flwr[simulation]) (7.352.0)\r\n",
            "Requirement already satisfied: psutil in /opt/conda/lib/python3.7/site-packages (from gpustat>=1.0.0b1->ray[default]<2.0.0,>=1.9.2->flwr[simulation]) (5.9.0)\r\n",
            "Requirement already satisfied: blessed>=1.17.1 in /opt/conda/lib/python3.7/site-packages (from gpustat>=1.0.0b1->ray[default]<2.0.0,>=1.9.2->flwr[simulation]) (1.19.1)\r\n",
            "Requirement already satisfied: soupsieve>1.2 in /opt/conda/lib/python3.7/site-packages (from beautifulsoup4->google<3.0.0,>=2.0.3->flwr[simulation]) (2.3.1)\r\n",
            "Requirement already satisfied: importlib-resources>=1.4.0 in /opt/conda/lib/python3.7/site-packages (from jsonschema->ray[default]<2.0.0,>=1.9.2->flwr[simulation]) (5.4.0)\r\n",
            "Requirement already satisfied: pyrsistent!=0.17.0,!=0.17.1,!=0.17.2,>=0.14.0 in /opt/conda/lib/python3.7/site-packages (from jsonschema->ray[default]<2.0.0,>=1.9.2->flwr[simulation]) (0.18.1)\r\n",
            "Requirement already satisfied: google-api-core<3.0.0,>=1.0.0 in /opt/conda/lib/python3.7/site-packages (from opencensus->ray[default]<2.0.0,>=1.9.2->flwr[simulation]) (1.31.5)\r\n",
            "Requirement already satisfied: opencensus-context>=0.1.2 in /opt/conda/lib/python3.7/site-packages (from opencensus->ray[default]<2.0.0,>=1.9.2->flwr[simulation]) (0.1.2)\r\n",
            "Requirement already satisfied: urllib3<1.27,>=1.21.1 in /opt/conda/lib/python3.7/site-packages (from requests->ray[default]<2.0.0,>=1.9.2->flwr[simulation]) (1.26.8)\r\n",
            "Requirement already satisfied: idna<4,>=2.5 in /opt/conda/lib/python3.7/site-packages (from requests->ray[default]<2.0.0,>=1.9.2->flwr[simulation]) (3.3)\r\n",
            "Requirement already satisfied: certifi>=2017.4.17 in /opt/conda/lib/python3.7/site-packages (from requests->ray[default]<2.0.0,>=1.9.2->flwr[simulation]) (2021.10.8)\r\n",
            "Requirement already satisfied: distlib<1,>=0.3.1 in /opt/conda/lib/python3.7/site-packages (from virtualenv->ray[default]<2.0.0,>=1.9.2->flwr[simulation]) (0.3.4)\r\n",
            "Requirement already satisfied: platformdirs<3,>=2 in /opt/conda/lib/python3.7/site-packages (from virtualenv->ray[default]<2.0.0,>=1.9.2->flwr[simulation]) (2.5.1)\r\n",
            "Requirement already satisfied: wcwidth>=0.1.4 in /opt/conda/lib/python3.7/site-packages (from blessed>=1.17.1->gpustat>=1.0.0b1->ray[default]<2.0.0,>=1.9.2->flwr[simulation]) (0.2.5)\r\n",
            "Requirement already satisfied: googleapis-common-protos<2.0dev,>=1.6.0 in /opt/conda/lib/python3.7/site-packages (from google-api-core<3.0.0,>=1.0.0->opencensus->ray[default]<2.0.0,>=1.9.2->flwr[simulation]) (1.54.0)\r\n",
            "Requirement already satisfied: packaging>=14.3 in /opt/conda/lib/python3.7/site-packages (from google-api-core<3.0.0,>=1.0.0->opencensus->ray[default]<2.0.0,>=1.9.2->flwr[simulation]) (21.3)\r\n",
            "Requirement already satisfied: google-auth<2.0dev,>=1.25.0 in /opt/conda/lib/python3.7/site-packages (from google-api-core<3.0.0,>=1.0.0->opencensus->ray[default]<2.0.0,>=1.9.2->flwr[simulation]) (1.35.0)\r\n",
            "Requirement already satisfied: setuptools>=40.3.0 in /opt/conda/lib/python3.7/site-packages (from google-api-core<3.0.0,>=1.0.0->opencensus->ray[default]<2.0.0,>=1.9.2->flwr[simulation]) (59.8.0)\r\n",
            "Requirement already satisfied: pytz in /opt/conda/lib/python3.7/site-packages (from google-api-core<3.0.0,>=1.0.0->opencensus->ray[default]<2.0.0,>=1.9.2->flwr[simulation]) (2021.3)\r\n",
            "Requirement already satisfied: pyasn1-modules>=0.2.1 in /opt/conda/lib/python3.7/site-packages (from google-auth<2.0dev,>=1.25.0->google-api-core<3.0.0,>=1.0.0->opencensus->ray[default]<2.0.0,>=1.9.2->flwr[simulation]) (0.2.7)\r\n",
            "Requirement already satisfied: cachetools<5.0,>=2.0.0 in /opt/conda/lib/python3.7/site-packages (from google-auth<2.0dev,>=1.25.0->google-api-core<3.0.0,>=1.0.0->opencensus->ray[default]<2.0.0,>=1.9.2->flwr[simulation]) (4.2.4)\r\n",
            "Requirement already satisfied: rsa<5,>=3.1.4 in /opt/conda/lib/python3.7/site-packages (from google-auth<2.0dev,>=1.25.0->google-api-core<3.0.0,>=1.0.0->opencensus->ray[default]<2.0.0,>=1.9.2->flwr[simulation]) (4.8)\r\n",
            "Requirement already satisfied: pyparsing!=3.0.5,>=2.0.2 in /opt/conda/lib/python3.7/site-packages (from packaging>=14.3->google-api-core<3.0.0,>=1.0.0->opencensus->ray[default]<2.0.0,>=1.9.2->flwr[simulation]) (3.0.7)\r\n",
            "Requirement already satisfied: pyasn1<0.5.0,>=0.4.6 in /opt/conda/lib/python3.7/site-packages (from pyasn1-modules>=0.2.1->google-auth<2.0dev,>=1.25.0->google-api-core<3.0.0,>=1.0.0->opencensus->ray[default]<2.0.0,>=1.9.2->flwr[simulation]) (0.4.8)\r\n",
            "\u001b[33mWARNING: Running pip as the 'root' user can result in broken permissions and conflicting behaviour with the system package manager. It is recommended to use a virtual environment instead: https://pip.pypa.io/warnings/venv\u001b[0m\u001b[33m\r\n",
            "\u001b[0mNote: you may need to restart the kernel to use updated packages.\n"
          ]
        }
      ],
      "source": [
        "pip install -U flwr[\"simulation\"]"
      ]
    },
    {
      "cell_type": "code",
      "execution_count": null,
      "id": "32b42ad4",
      "metadata": {
        "execution": {
          "iopub.execute_input": "2022-04-30T18:04:54.622552Z",
          "iopub.status.busy": "2022-04-30T18:04:54.622251Z",
          "iopub.status.idle": "2022-04-30T18:11:02.716709Z",
          "shell.execute_reply": "2022-04-30T18:11:02.715953Z"
        },
        "papermill": {
          "duration": 368.142043,
          "end_time": "2022-04-30T18:11:02.718833",
          "exception": false,
          "start_time": "2022-04-30T18:04:54.576790",
          "status": "completed"
        },
        "tags": [],
        "id": "32b42ad4",
        "outputId": "e3582523-c0c1-448b-9a8e-0b444b098fbb"
      },
      "outputs": [
        {
          "name": "stderr",
          "output_type": "stream",
          "text": [
            "INFO flower 2022-04-30 18:04:58,834 | app.py:147 | Ray initialized with resources: {'node:172.19.2.2': 1.0, 'object_store_memory': 4913953996.0, 'CPU': 4.0, 'memory': 9827907995.0}\n",
            "INFO flower 2022-04-30 18:04:58,837 | app.py:156 | Starting Flower simulation running: {'num_rounds': 5}\n",
            "INFO flower 2022-04-30 18:04:58,838 | server.py:128 | Initializing global parameters\n",
            "INFO flower 2022-04-30 18:04:58,839 | server.py:327 | Requesting initial parameters from one random client\n",
            "INFO flower 2022-04-30 18:05:01,819 | server.py:330 | Received initial parameters from one random client\n",
            "INFO flower 2022-04-30 18:05:01,820 | server.py:130 | Evaluating initial parameters\n",
            "INFO flower 2022-04-30 18:05:01,822 | server.py:143 | FL starting\n",
            "DEBUG flower 2022-04-30 18:05:01,823 | server.py:269 | fit_round: strategy sampled 50 clients (out of 100)\n"
          ]
        },
        {
          "name": "stdout",
          "output_type": "stream",
          "text": [
            "\u001b[2m\u001b[36m(launch_and_fit pid=190)\u001b[0m 6/6 - 4s - loss: 1.7795 - accuracy: 0.3099\n",
            "\u001b[2m\u001b[36m(launch_and_fit pid=191)\u001b[0m 6/6 - 5s - loss: 1.7806 - accuracy: 0.2982\n",
            "\u001b[2m\u001b[36m(launch_and_fit pid=189)\u001b[0m 6/6 - 5s - loss: 1.7790 - accuracy: 0.3333\n",
            "\u001b[2m\u001b[36m(launch_and_fit pid=192)\u001b[0m 6/6 - 6s - loss: 1.7781 - accuracy: 0.3450\n",
            "\u001b[2m\u001b[36m(launch_and_fit pid=190)\u001b[0m 6/6 - 5s - loss: 1.7784 - accuracy: 0.3216\n",
            "\u001b[2m\u001b[36m(launch_and_fit pid=191)\u001b[0m 6/6 - 5s - loss: 1.7796 - accuracy: 0.3099\n",
            "\u001b[2m\u001b[36m(launch_and_fit pid=192)\u001b[0m 6/6 - 5s - loss: 1.7823 - accuracy: 0.2749\n",
            "\u001b[2m\u001b[36m(launch_and_fit pid=189)\u001b[0m 6/6 - 6s - loss: 1.7784 - accuracy: 0.3158\n",
            "\u001b[2m\u001b[36m(launch_and_fit pid=190)\u001b[0m 6/6 - 5s - loss: 1.7808 - accuracy: 0.3216\n",
            "\u001b[2m\u001b[36m(launch_and_fit pid=191)\u001b[0m 6/6 - 4s - loss: 1.7795 - accuracy: 0.2924\n",
            "\u001b[2m\u001b[36m(launch_and_fit pid=192)\u001b[0m 6/6 - 5s - loss: 1.7821 - accuracy: 0.3099\n",
            "\u001b[2m\u001b[36m(launch_and_fit pid=189)\u001b[0m 6/6 - 5s - loss: 1.7794 - accuracy: 0.2807\n",
            "\u001b[2m\u001b[36m(launch_and_fit pid=190)\u001b[0m 6/6 - 6s - loss: 1.7803 - accuracy: 0.3275\n",
            "\u001b[2m\u001b[36m(launch_and_fit pid=191)\u001b[0m 6/6 - 4s - loss: 1.7789 - accuracy: 0.2982\n",
            "\u001b[2m\u001b[36m(launch_and_fit pid=192)\u001b[0m 6/6 - 4s - loss: 1.7815 - accuracy: 0.3158\n",
            "\u001b[2m\u001b[36m(launch_and_fit pid=189)\u001b[0m 6/6 - 4s - loss: 1.7814 - accuracy: 0.2807\n",
            "\u001b[2m\u001b[36m(launch_and_fit pid=190)\u001b[0m 6/6 - 5s - loss: 1.7786 - accuracy: 0.2632\n",
            "\u001b[2m\u001b[36m(launch_and_fit pid=191)\u001b[0m 6/6 - 5s - loss: 1.7808 - accuracy: 0.2749\n",
            "\u001b[2m\u001b[36m(launch_and_fit pid=192)\u001b[0m 6/6 - 5s - loss: 1.7818 - accuracy: 0.3275\n",
            "\u001b[2m\u001b[36m(launch_and_fit pid=189)\u001b[0m 6/6 - 5s - loss: 1.7755 - accuracy: 0.3567\n",
            "\u001b[2m\u001b[36m(launch_and_fit pid=190)\u001b[0m 6/6 - 5s - loss: 1.7781 - accuracy: 0.3099\n",
            "\u001b[2m\u001b[36m(launch_and_fit pid=191)\u001b[0m 6/6 - 5s - loss: 1.7794 - accuracy: 0.2865\n",
            "\u001b[2m\u001b[36m(launch_and_fit pid=192)\u001b[0m 6/6 - 4s - loss: 1.7814 - accuracy: 0.2982\n",
            "\u001b[2m\u001b[36m(launch_and_fit pid=189)\u001b[0m 6/6 - 5s - loss: 1.7853 - accuracy: 0.2456\n",
            "\u001b[2m\u001b[36m(launch_and_fit pid=190)\u001b[0m 6/6 - 5s - loss: 1.7802 - accuracy: 0.2865\n",
            "\u001b[2m\u001b[36m(launch_and_fit pid=191)\u001b[0m 6/6 - 5s - loss: 1.7800 - accuracy: 0.3041\n",
            "\u001b[2m\u001b[36m(launch_and_fit pid=192)\u001b[0m 6/6 - 5s - loss: 1.7743 - accuracy: 0.4035\n",
            "\u001b[2m\u001b[36m(launch_and_fit pid=189)\u001b[0m 6/6 - 4s - loss: 1.7784 - accuracy: 0.2865\n",
            "\u001b[2m\u001b[36m(launch_and_fit pid=191)\u001b[0m 6/6 - 5s - loss: 1.7804 - accuracy: 0.3333\n",
            "\u001b[2m\u001b[36m(launch_and_fit pid=190)\u001b[0m 6/6 - 6s - loss: 1.7813 - accuracy: 0.2982\n",
            "\u001b[2m\u001b[36m(launch_and_fit pid=192)\u001b[0m 6/6 - 5s - loss: 1.7794 - accuracy: 0.3158\n",
            "\u001b[2m\u001b[36m(launch_and_fit pid=189)\u001b[0m 6/6 - 5s - loss: 1.7805 - accuracy: 0.2632\n",
            "\u001b[2m\u001b[36m(launch_and_fit pid=191)\u001b[0m 6/6 - 5s - loss: 1.7774 - accuracy: 0.2982\n",
            "\u001b[2m\u001b[36m(launch_and_fit pid=190)\u001b[0m 6/6 - 5s - loss: 1.7814 - accuracy: 0.3041\n",
            "\u001b[2m\u001b[36m(launch_and_fit pid=192)\u001b[0m 6/6 - 4s - loss: 1.7789 - accuracy: 0.3158\n",
            "\u001b[2m\u001b[36m(launch_and_fit pid=189)\u001b[0m 6/6 - 5s - loss: 1.7770 - accuracy: 0.3216\n",
            "\u001b[2m\u001b[36m(launch_and_fit pid=190)\u001b[0m 6/6 - 5s - loss: 1.7814 - accuracy: 0.2749\n",
            "\u001b[2m\u001b[36m(launch_and_fit pid=191)\u001b[0m 6/6 - 5s - loss: 1.7826 - accuracy: 0.3158\n",
            "\u001b[2m\u001b[36m(launch_and_fit pid=192)\u001b[0m 6/6 - 5s - loss: 1.7855 - accuracy: 0.2632\n",
            "\u001b[2m\u001b[36m(launch_and_fit pid=189)\u001b[0m 6/6 - 5s - loss: 1.7800 - accuracy: 0.3158\n",
            "\u001b[2m\u001b[36m(launch_and_fit pid=191)\u001b[0m 6/6 - 4s - loss: 1.7783 - accuracy: 0.3216\n",
            "\u001b[2m\u001b[36m(launch_and_fit pid=190)\u001b[0m 6/6 - 5s - loss: 1.7749 - accuracy: 0.3918\n",
            "\u001b[2m\u001b[36m(launch_and_fit pid=192)\u001b[0m 6/6 - 5s - loss: 1.7831 - accuracy: 0.2807\n",
            "\u001b[2m\u001b[36m(launch_and_fit pid=189)\u001b[0m 6/6 - 4s - loss: 1.7803 - accuracy: 0.3333\n",
            "\u001b[2m\u001b[36m(launch_and_fit pid=191)\u001b[0m 6/6 - 4s - loss: 1.7800 - accuracy: 0.3158\n",
            "\u001b[2m\u001b[36m(launch_and_fit pid=190)\u001b[0m 6/6 - 4s - loss: 1.7787 - accuracy: 0.2632\n",
            "\u001b[2m\u001b[36m(launch_and_fit pid=189)\u001b[0m 6/6 - 4s - loss: 1.7833 - accuracy: 0.2515\n",
            "\u001b[2m\u001b[36m(launch_and_fit pid=192)\u001b[0m 6/6 - 5s - loss: 1.7842 - accuracy: 0.3216\n",
            "\u001b[2m\u001b[36m(launch_and_fit pid=191)\u001b[0m 6/6 - 4s - loss: 1.7825 - accuracy: 0.2749\n"
          ]
        },
        {
          "name": "stderr",
          "output_type": "stream",
          "text": [
            "DEBUG flower 2022-04-30 18:06:13,941 | server.py:281 | fit_round received 50 results and 0 failures\n"
          ]
        },
        {
          "name": "stdout",
          "output_type": "stream",
          "text": [
            "\u001b[2m\u001b[36m(launch_and_fit pid=190)\u001b[0m 6/6 - 3s - loss: 1.7837 - accuracy: 0.2865\n"
          ]
        },
        {
          "name": "stderr",
          "output_type": "stream",
          "text": [
            "DEBUG flower 2022-04-30 18:06:14,401 | server.py:215 | evaluate_round: strategy sampled 25 clients (out of 100)\n",
            "\u001b[2m\u001b[36m(launch_and_evaluate pid=191)\u001b[0m /opt/conda/lib/python3.7/site-packages/keras/utils/generic_utils.py:977: RuntimeWarning: divide by zero encountered in log10\n",
            "\u001b[2m\u001b[36m(launch_and_evaluate pid=191)\u001b[0m   numdigits = int(np.log10(self.target)) + 1\n",
            "\u001b[2m\u001b[36m(launch_and_evaluate pid=189)\u001b[0m /opt/conda/lib/python3.7/site-packages/keras/utils/generic_utils.py:977: RuntimeWarning: divide by zero encountered in log10\n",
            "\u001b[2m\u001b[36m(launch_and_evaluate pid=189)\u001b[0m   numdigits = int(np.log10(self.target)) + 1\n",
            "\u001b[2m\u001b[36m(launch_and_evaluate pid=190)\u001b[0m /opt/conda/lib/python3.7/site-packages/keras/utils/generic_utils.py:977: RuntimeWarning: divide by zero encountered in log10\n",
            "\u001b[2m\u001b[36m(launch_and_evaluate pid=190)\u001b[0m   numdigits = int(np.log10(self.target)) + 1\n",
            "\u001b[2m\u001b[36m(launch_and_evaluate pid=192)\u001b[0m /opt/conda/lib/python3.7/site-packages/keras/utils/generic_utils.py:977: RuntimeWarning: divide by zero encountered in log10\n",
            "\u001b[2m\u001b[36m(launch_and_evaluate pid=192)\u001b[0m   numdigits = int(np.log10(self.target)) + 1\n",
            "DEBUG flower 2022-04-30 18:06:18,101 | server.py:227 | evaluate_round received 0 results and 25 failures\n",
            "DEBUG flower 2022-04-30 18:06:18,102 | server.py:269 | fit_round: strategy sampled 50 clients (out of 100)\n"
          ]
        },
        {
          "name": "stdout",
          "output_type": "stream",
          "text": [
            "\u001b[2m\u001b[36m(launch_and_fit pid=191)\u001b[0m 6/6 - 4s - loss: 1.7060 - accuracy: 0.3392\n",
            "\u001b[2m\u001b[36m(launch_and_fit pid=190)\u001b[0m 6/6 - 5s - loss: 1.7272 - accuracy: 0.3041\n",
            "\u001b[2m\u001b[36m(launch_and_fit pid=189)\u001b[0m 6/6 - 6s - loss: 1.7081 - accuracy: 0.2924\n",
            "\u001b[2m\u001b[36m(launch_and_fit pid=192)\u001b[0m 6/6 - 6s - loss: 1.7345 - accuracy: 0.2982\n",
            "\u001b[2m\u001b[36m(launch_and_fit pid=191)\u001b[0m 6/6 - 5s - loss: 1.7141 - accuracy: 0.3275\n",
            "\u001b[2m\u001b[36m(launch_and_fit pid=189)\u001b[0m 6/6 - 5s - loss: 1.7210 - accuracy: 0.3041\n",
            "\u001b[2m\u001b[36m(launch_and_fit pid=190)\u001b[0m 6/6 - 6s - loss: 1.7298 - accuracy: 0.3509\n",
            "\u001b[2m\u001b[36m(launch_and_fit pid=192)\u001b[0m 6/6 - 5s - loss: 1.7256 - accuracy: 0.3099\n",
            "\u001b[2m\u001b[36m(launch_and_fit pid=191)\u001b[0m 6/6 - 4s - loss: 1.7002 - accuracy: 0.3392\n",
            "\u001b[2m\u001b[36m(launch_and_fit pid=189)\u001b[0m 6/6 - 5s - loss: 1.7068 - accuracy: 0.3392\n",
            "\u001b[2m\u001b[36m(launch_and_fit pid=190)\u001b[0m 6/6 - 5s - loss: 1.7222 - accuracy: 0.3216\n",
            "\u001b[2m\u001b[36m(launch_and_fit pid=192)\u001b[0m 6/6 - 5s - loss: 1.6928 - accuracy: 0.3275\n",
            "\u001b[2m\u001b[36m(launch_and_fit pid=191)\u001b[0m 6/6 - 4s - loss: 1.7180 - accuracy: 0.3041\n",
            "\u001b[2m\u001b[36m(launch_and_fit pid=189)\u001b[0m 6/6 - 4s - loss: 1.7173 - accuracy: 0.3275\n",
            "\u001b[2m\u001b[36m(launch_and_fit pid=190)\u001b[0m 6/6 - 5s - loss: 1.7089 - accuracy: 0.3450\n",
            "\u001b[2m\u001b[36m(launch_and_fit pid=192)\u001b[0m 6/6 - 5s - loss: 1.7141 - accuracy: 0.3626\n",
            "\u001b[2m\u001b[36m(launch_and_fit pid=191)\u001b[0m 6/6 - 4s - loss: 1.7220 - accuracy: 0.3041\n",
            "\u001b[2m\u001b[36m(launch_and_fit pid=189)\u001b[0m 6/6 - 4s - loss: 1.7166 - accuracy: 0.3392\n",
            "\u001b[2m\u001b[36m(launch_and_fit pid=191)\u001b[0m 6/6 - 5s - loss: 1.7184 - accuracy: 0.3743\n",
            "\u001b[2m\u001b[36m(launch_and_fit pid=190)\u001b[0m 6/6 - 6s - loss: 1.7119 - accuracy: 0.3333\n",
            "\u001b[2m\u001b[36m(launch_and_fit pid=192)\u001b[0m 6/6 - 6s - loss: 1.7248 - accuracy: 0.3392\n",
            "\u001b[2m\u001b[36m(launch_and_fit pid=189)\u001b[0m 6/6 - 5s - loss: 1.7216 - accuracy: 0.2749\n",
            "\u001b[2m\u001b[36m(launch_and_fit pid=191)\u001b[0m 6/6 - 5s - loss: 1.7136 - accuracy: 0.3275\n",
            "\u001b[2m\u001b[36m(launch_and_fit pid=190)\u001b[0m 6/6 - 5s - loss: 1.7208 - accuracy: 0.2924\n",
            "\u001b[2m\u001b[36m(launch_and_fit pid=192)\u001b[0m 6/6 - 5s - loss: 1.6995 - accuracy: 0.3918\n",
            "\u001b[2m\u001b[36m(launch_and_fit pid=189)\u001b[0m 6/6 - 4s - loss: 1.7025 - accuracy: 0.3450\n",
            "\u001b[2m\u001b[36m(launch_and_fit pid=192)\u001b[0m 6/6 - 4s - loss: 1.7090 - accuracy: 0.3450\n",
            "\u001b[2m\u001b[36m(launch_and_fit pid=191)\u001b[0m 6/6 - 5s - loss: 1.7297 - accuracy: 0.3216\n",
            "\u001b[2m\u001b[36m(launch_and_fit pid=190)\u001b[0m 6/6 - 5s - loss: 1.7189 - accuracy: 0.3392\n",
            "\u001b[2m\u001b[36m(launch_and_fit pid=189)\u001b[0m 6/6 - 4s - loss: 1.7209 - accuracy: 0.3626\n",
            "\u001b[2m\u001b[36m(launch_and_fit pid=192)\u001b[0m 6/6 - 5s - loss: 1.7314 - accuracy: 0.2807\n",
            "\u001b[2m\u001b[36m(launch_and_fit pid=191)\u001b[0m 6/6 - 5s - loss: 1.7228 - accuracy: 0.2632\n",
            "\u001b[2m\u001b[36m(launch_and_fit pid=190)\u001b[0m 6/6 - 6s - loss: 1.7137 - accuracy: 0.3216\n",
            "\u001b[2m\u001b[36m(launch_and_fit pid=189)\u001b[0m 6/6 - 5s - loss: 1.7055 - accuracy: 0.3567\n",
            "\u001b[2m\u001b[36m(launch_and_fit pid=192)\u001b[0m 6/6 - 5s - loss: 1.7287 - accuracy: 0.2865\n",
            "\u001b[2m\u001b[36m(launch_and_fit pid=190)\u001b[0m 6/6 - 4s - loss: 1.7019 - accuracy: 0.3801\n",
            "\u001b[2m\u001b[36m(launch_and_fit pid=191)\u001b[0m 6/6 - 5s - loss: 1.7150 - accuracy: 0.3099\n",
            "\u001b[2m\u001b[36m(launch_and_fit pid=189)\u001b[0m 6/6 - 5s - loss: 1.7242 - accuracy: 0.3333\n",
            "\u001b[2m\u001b[36m(launch_and_fit pid=192)\u001b[0m 6/6 - 4s - loss: 1.7228 - accuracy: 0.3099\n",
            "\u001b[2m\u001b[36m(launch_and_fit pid=190)\u001b[0m 6/6 - 4s - loss: 1.7177 - accuracy: 0.3801\n",
            "\u001b[2m\u001b[36m(launch_and_fit pid=191)\u001b[0m 6/6 - 4s - loss: 1.7301 - accuracy: 0.2924\n",
            "\u001b[2m\u001b[36m(launch_and_fit pid=189)\u001b[0m 6/6 - 4s - loss: 1.7200 - accuracy: 0.3275\n",
            "\u001b[2m\u001b[36m(launch_and_fit pid=192)\u001b[0m 6/6 - 4s - loss: 1.7238 - accuracy: 0.3275\n",
            "\u001b[2m\u001b[36m(launch_and_fit pid=191)\u001b[0m 6/6 - 5s - loss: 1.7176 - accuracy: 0.3450\n",
            "\u001b[2m\u001b[36m(launch_and_fit pid=190)\u001b[0m 6/6 - 5s - loss: 1.7031 - accuracy: 0.2865\n",
            "\u001b[2m\u001b[36m(launch_and_fit pid=189)\u001b[0m 6/6 - 5s - loss: 1.7190 - accuracy: 0.3450\n",
            "\u001b[2m\u001b[36m(launch_and_fit pid=192)\u001b[0m 6/6 - 4s - loss: 1.7383 - accuracy: 0.2924\n",
            "\u001b[2m\u001b[36m(launch_and_fit pid=190)\u001b[0m 6/6 - 4s - loss: 1.7264 - accuracy: 0.3392\n"
          ]
        },
        {
          "name": "stderr",
          "output_type": "stream",
          "text": [
            "DEBUG flower 2022-04-30 18:07:26,445 | server.py:281 | fit_round received 50 results and 0 failures\n"
          ]
        },
        {
          "name": "stdout",
          "output_type": "stream",
          "text": [
            "\u001b[2m\u001b[36m(launch_and_fit pid=191)\u001b[0m 6/6 - 4s - loss: 1.7123 - accuracy: 0.3333\n"
          ]
        },
        {
          "name": "stderr",
          "output_type": "stream",
          "text": [
            "DEBUG flower 2022-04-30 18:07:26,600 | server.py:215 | evaluate_round: strategy sampled 25 clients (out of 100)\n"
          ]
        },
        {
          "name": "stdout",
          "output_type": "stream",
          "text": [
            "\u001b[2m\u001b[36m(launch_and_fit pid=189)\u001b[0m 6/6 - 4s - loss: 1.6900 - accuracy: 0.3450\n"
          ]
        },
        {
          "name": "stderr",
          "output_type": "stream",
          "text": [
            "DEBUG flower 2022-04-30 18:07:30,200 | server.py:227 | evaluate_round received 0 results and 25 failures\n",
            "DEBUG flower 2022-04-30 18:07:30,205 | server.py:269 | fit_round: strategy sampled 50 clients (out of 100)\n"
          ]
        },
        {
          "name": "stdout",
          "output_type": "stream",
          "text": [
            "\u001b[2m\u001b[36m(launch_and_fit pid=192)\u001b[0m 6/6 - 4s - loss: 1.6085 - accuracy: 0.3626\n",
            "\u001b[2m\u001b[36m(launch_and_fit pid=189)\u001b[0m 6/6 - 5s - loss: 1.5763 - accuracy: 0.3626\n",
            "\u001b[2m\u001b[36m(launch_and_fit pid=190)\u001b[0m 6/6 - 5s - loss: 1.6435 - accuracy: 0.3216\n",
            "\u001b[2m\u001b[36m(launch_and_fit pid=191)\u001b[0m 6/6 - 5s - loss: 1.5962 - accuracy: 0.3041\n",
            "\u001b[2m\u001b[36m(launch_and_fit pid=192)\u001b[0m 6/6 - 5s - loss: 1.5490 - accuracy: 0.3684\n",
            "\u001b[2m\u001b[36m(launch_and_fit pid=189)\u001b[0m 6/6 - 5s - loss: 1.5882 - accuracy: 0.4094\n",
            "\u001b[2m\u001b[36m(launch_and_fit pid=191)\u001b[0m 6/6 - 4s - loss: 1.6000 - accuracy: 0.3275\n",
            "\u001b[2m\u001b[36m(launch_and_fit pid=190)\u001b[0m 6/6 - 5s - loss: 1.6377 - accuracy: 0.3275\n",
            "\u001b[2m\u001b[36m(launch_and_fit pid=192)\u001b[0m 6/6 - 4s - loss: 1.6323 - accuracy: 0.3450\n",
            "\u001b[2m\u001b[36m(launch_and_fit pid=191)\u001b[0m 6/6 - 4s - loss: 1.6326 - accuracy: 0.3392\n",
            "\u001b[2m\u001b[36m(launch_and_fit pid=189)\u001b[0m 6/6 - 5s - loss: 1.6692 - accuracy: 0.2573\n",
            "\u001b[2m\u001b[36m(launch_and_fit pid=190)\u001b[0m 6/6 - 5s - loss: 1.6339 - accuracy: 0.2632\n",
            "\u001b[2m\u001b[36m(launch_and_fit pid=192)\u001b[0m 6/6 - 5s - loss: 1.6216 - accuracy: 0.3158\n",
            "\u001b[2m\u001b[36m(launch_and_fit pid=191)\u001b[0m 6/6 - 5s - loss: 1.6425 - accuracy: 0.2807\n",
            "\u001b[2m\u001b[36m(launch_and_fit pid=189)\u001b[0m 6/6 - 5s - loss: 1.6429 - accuracy: 0.3041\n",
            "\u001b[2m\u001b[36m(launch_and_fit pid=190)\u001b[0m 6/6 - 5s - loss: 1.6106 - accuracy: 0.3626\n",
            "\u001b[2m\u001b[36m(launch_and_fit pid=192)\u001b[0m 6/6 - 5s - loss: 1.6456 - accuracy: 0.3509\n",
            "\u001b[2m\u001b[36m(launch_and_fit pid=191)\u001b[0m 6/6 - 4s - loss: 1.6365 - accuracy: 0.2573\n",
            "\u001b[2m\u001b[36m(launch_and_fit pid=189)\u001b[0m 6/6 - 4s - loss: 1.6477 - accuracy: 0.3567\n",
            "\u001b[2m\u001b[36m(launch_and_fit pid=190)\u001b[0m 6/6 - 5s - loss: 1.6047 - accuracy: 0.3801\n",
            "\u001b[2m\u001b[36m(launch_and_fit pid=192)\u001b[0m 6/6 - 5s - loss: 1.6907 - accuracy: 0.3041\n",
            "\u001b[2m\u001b[36m(launch_and_fit pid=191)\u001b[0m 6/6 - 5s - loss: 1.6295 - accuracy: 0.3450\n",
            "\u001b[2m\u001b[36m(launch_and_fit pid=189)\u001b[0m 6/6 - 4s - loss: 1.6111 - accuracy: 0.3626\n",
            "\u001b[2m\u001b[36m(launch_and_fit pid=190)\u001b[0m 6/6 - 4s - loss: 1.6321 - accuracy: 0.3099\n",
            "\u001b[2m\u001b[36m(launch_and_fit pid=191)\u001b[0m 6/6 - 5s - loss: 1.5923 - accuracy: 0.3099\n",
            "\u001b[2m\u001b[36m(launch_and_fit pid=192)\u001b[0m 6/6 - 6s - loss: 1.6224 - accuracy: 0.3684\n",
            "\u001b[2m\u001b[36m(launch_and_fit pid=189)\u001b[0m 6/6 - 6s - loss: 1.5833 - accuracy: 0.3743\n",
            "\u001b[2m\u001b[36m(launch_and_fit pid=190)\u001b[0m 6/6 - 5s - loss: 1.6872 - accuracy: 0.2924\n",
            "\u001b[2m\u001b[36m(launch_and_fit pid=191)\u001b[0m 6/6 - 4s - loss: 1.6178 - accuracy: 0.3041\n",
            "\u001b[2m\u001b[36m(launch_and_fit pid=192)\u001b[0m 6/6 - 4s - loss: 1.6394 - accuracy: 0.2807\n",
            "\u001b[2m\u001b[36m(launch_and_fit pid=190)\u001b[0m 6/6 - 5s - loss: 1.5486 - accuracy: 0.3392\n",
            "\u001b[2m\u001b[36m(launch_and_fit pid=189)\u001b[0m 6/6 - 5s - loss: 1.6064 - accuracy: 0.3450\n",
            "\u001b[2m\u001b[36m(launch_and_fit pid=192)\u001b[0m 6/6 - 5s - loss: 1.6330 - accuracy: 0.3626\n",
            "\u001b[2m\u001b[36m(launch_and_fit pid=191)\u001b[0m 6/6 - 6s - loss: 1.6875 - accuracy: 0.2865\n",
            "\u001b[2m\u001b[36m(launch_and_fit pid=189)\u001b[0m 6/6 - 4s - loss: 1.5751 - accuracy: 0.3626\n",
            "\u001b[2m\u001b[36m(launch_and_fit pid=190)\u001b[0m 6/6 - 5s - loss: 1.6786 - accuracy: 0.2456\n",
            "\u001b[2m\u001b[36m(launch_and_fit pid=189)\u001b[0m 6/6 - 4s - loss: 1.5864 - accuracy: 0.3275\n",
            "\u001b[2m\u001b[36m(launch_and_fit pid=191)\u001b[0m 6/6 - 4s - loss: 1.6158 - accuracy: 0.3509\n",
            "\u001b[2m\u001b[36m(launch_and_fit pid=192)\u001b[0m 6/6 - 4s - loss: 1.6037 - accuracy: 0.3216\n",
            "\u001b[2m\u001b[36m(launch_and_fit pid=190)\u001b[0m 6/6 - 5s - loss: 1.6006 - accuracy: 0.3509\n",
            "\u001b[2m\u001b[36m(launch_and_fit pid=191)\u001b[0m 6/6 - 4s - loss: 1.5800 - accuracy: 0.3392\n",
            "\u001b[2m\u001b[36m(launch_and_fit pid=192)\u001b[0m 6/6 - 4s - loss: 1.6178 - accuracy: 0.2749\n",
            "\u001b[2m\u001b[36m(launch_and_fit pid=189)\u001b[0m 6/6 - 5s - loss: 1.6838 - accuracy: 0.2924\n",
            "\u001b[2m\u001b[36m(launch_and_fit pid=190)\u001b[0m 6/6 - 5s - loss: 1.5876 - accuracy: 0.3333\n",
            "\u001b[2m\u001b[36m(launch_and_fit pid=191)\u001b[0m 6/6 - 5s - loss: 1.6301 - accuracy: 0.3392\n",
            "\u001b[2m\u001b[36m(launch_and_fit pid=192)\u001b[0m 6/6 - 5s - loss: 1.6096 - accuracy: 0.2632\n",
            "\u001b[2m\u001b[36m(launch_and_fit pid=189)\u001b[0m 6/6 - 4s - loss: 1.6506 - accuracy: 0.3275\n",
            "\u001b[2m\u001b[36m(launch_and_fit pid=190)\u001b[0m 6/6 - 5s - loss: 1.5740 - accuracy: 0.3684\n",
            "\u001b[2m\u001b[36m(launch_and_fit pid=191)\u001b[0m 6/6 - 3s - loss: 1.6796 - accuracy: 0.2924\n"
          ]
        },
        {
          "name": "stderr",
          "output_type": "stream",
          "text": [
            "DEBUG flower 2022-04-30 18:08:37,801 | server.py:281 | fit_round received 50 results and 0 failures\n",
            "DEBUG flower 2022-04-30 18:08:37,957 | server.py:215 | evaluate_round: strategy sampled 25 clients (out of 100)\n"
          ]
        },
        {
          "name": "stdout",
          "output_type": "stream",
          "text": [
            "\u001b[2m\u001b[36m(launch_and_fit pid=192)\u001b[0m 6/6 - 3s - loss: 1.5666 - accuracy: 0.2749\n"
          ]
        },
        {
          "name": "stderr",
          "output_type": "stream",
          "text": [
            "DEBUG flower 2022-04-30 18:08:41,452 | server.py:227 | evaluate_round received 0 results and 25 failures\n",
            "DEBUG flower 2022-04-30 18:08:41,453 | server.py:269 | fit_round: strategy sampled 50 clients (out of 100)\n"
          ]
        },
        {
          "name": "stdout",
          "output_type": "stream",
          "text": [
            "\u001b[2m\u001b[36m(launch_and_fit pid=192)\u001b[0m 6/6 - 5s - loss: 1.6088 - accuracy: 0.3216\n",
            "\u001b[2m\u001b[36m(launch_and_fit pid=190)\u001b[0m 6/6 - 6s - loss: 1.6080 - accuracy: 0.3567\n",
            "\u001b[2m\u001b[36m(launch_and_fit pid=189)\u001b[0m 6/6 - 6s - loss: 1.5519 - accuracy: 0.2982\n",
            "\u001b[2m\u001b[36m(launch_and_fit pid=191)\u001b[0m 6/6 - 6s - loss: 1.5818 - accuracy: 0.3450\n",
            "\u001b[2m\u001b[36m(launch_and_fit pid=192)\u001b[0m 6/6 - 5s - loss: 1.6306 - accuracy: 0.3099\n",
            "\u001b[2m\u001b[36m(launch_and_fit pid=190)\u001b[0m 6/6 - 5s - loss: 1.5747 - accuracy: 0.3626\n",
            "\u001b[2m\u001b[36m(launch_and_fit pid=191)\u001b[0m 6/6 - 5s - loss: 1.5808 - accuracy: 0.2865\n",
            "\u001b[2m\u001b[36m(launch_and_fit pid=189)\u001b[0m 6/6 - 5s - loss: 1.6375 - accuracy: 0.2982\n",
            "\u001b[2m\u001b[36m(launch_and_fit pid=192)\u001b[0m 6/6 - 4s - loss: 1.5896 - accuracy: 0.3684\n",
            "\u001b[2m\u001b[36m(launch_and_fit pid=190)\u001b[0m 6/6 - 4s - loss: 1.6153 - accuracy: 0.3333\n",
            "\u001b[2m\u001b[36m(launch_and_fit pid=191)\u001b[0m 6/6 - 5s - loss: 1.5885 - accuracy: 0.3626\n",
            "\u001b[2m\u001b[36m(launch_and_fit pid=189)\u001b[0m 6/6 - 5s - loss: 1.5631 - accuracy: 0.3333\n",
            "\u001b[2m\u001b[36m(launch_and_fit pid=192)\u001b[0m 6/6 - 5s - loss: 1.6054 - accuracy: 0.3450\n",
            "\u001b[2m\u001b[36m(launch_and_fit pid=190)\u001b[0m 6/6 - 4s - loss: 1.6643 - accuracy: 0.2807\n",
            "\u001b[2m\u001b[36m(launch_and_fit pid=191)\u001b[0m 6/6 - 4s - loss: 1.5330 - accuracy: 0.3684\n",
            "\u001b[2m\u001b[36m(launch_and_fit pid=189)\u001b[0m 6/6 - 5s - loss: 1.6084 - accuracy: 0.3275\n",
            "\u001b[2m\u001b[36m(launch_and_fit pid=192)\u001b[0m 6/6 - 4s - loss: 1.6625 - accuracy: 0.2924\n",
            "\u001b[2m\u001b[36m(launch_and_fit pid=190)\u001b[0m 6/6 - 5s - loss: 1.5802 - accuracy: 0.3918\n",
            "\u001b[2m\u001b[36m(launch_and_fit pid=191)\u001b[0m 6/6 - 5s - loss: 1.6957 - accuracy: 0.2807\n",
            "\u001b[2m\u001b[36m(launch_and_fit pid=189)\u001b[0m 6/6 - 5s - loss: 1.6384 - accuracy: 0.2982\n",
            "\u001b[2m\u001b[36m(launch_and_fit pid=192)\u001b[0m 6/6 - 4s - loss: 1.5784 - accuracy: 0.3509\n",
            "\u001b[2m\u001b[36m(launch_and_fit pid=191)\u001b[0m 6/6 - 5s - loss: 1.6118 - accuracy: 0.3275\n",
            "\u001b[2m\u001b[36m(launch_and_fit pid=190)\u001b[0m 6/6 - 5s - loss: 1.5456 - accuracy: 0.4094\n",
            "\u001b[2m\u001b[36m(launch_and_fit pid=189)\u001b[0m 6/6 - 5s - loss: 1.6015 - accuracy: 0.3275\n",
            "\u001b[2m\u001b[36m(launch_and_fit pid=192)\u001b[0m 6/6 - 5s - loss: 1.5168 - accuracy: 0.3158\n",
            "\u001b[2m\u001b[36m(launch_and_fit pid=191)\u001b[0m 6/6 - 4s - loss: 1.6603 - accuracy: 0.2398\n",
            "\u001b[2m\u001b[36m(launch_and_fit pid=190)\u001b[0m 6/6 - 4s - loss: 1.6870 - accuracy: 0.2865\n",
            "\u001b[2m\u001b[36m(launch_and_fit pid=189)\u001b[0m 6/6 - 5s - loss: 1.6295 - accuracy: 0.3626\n",
            "\u001b[2m\u001b[36m(launch_and_fit pid=192)\u001b[0m 6/6 - 5s - loss: 1.6194 - accuracy: 0.2924\n",
            "\u001b[2m\u001b[36m(launch_and_fit pid=191)\u001b[0m 6/6 - 4s - loss: 1.5833 - accuracy: 0.3216\n",
            "\u001b[2m\u001b[36m(launch_and_fit pid=190)\u001b[0m 6/6 - 4s - loss: 1.5652 - accuracy: 0.2982\n",
            "\u001b[2m\u001b[36m(launch_and_fit pid=189)\u001b[0m 6/6 - 4s - loss: 1.6140 - accuracy: 0.3392\n",
            "\u001b[2m\u001b[36m(launch_and_fit pid=192)\u001b[0m 6/6 - 5s - loss: 1.6499 - accuracy: 0.3567\n",
            "\u001b[2m\u001b[36m(launch_and_fit pid=191)\u001b[0m 6/6 - 4s - loss: 1.5694 - accuracy: 0.3743\n",
            "\u001b[2m\u001b[36m(launch_and_fit pid=190)\u001b[0m 6/6 - 5s - loss: 1.6342 - accuracy: 0.2924\n",
            "\u001b[2m\u001b[36m(launch_and_fit pid=189)\u001b[0m 6/6 - 5s - loss: 1.6523 - accuracy: 0.2807\n",
            "\u001b[2m\u001b[36m(launch_and_fit pid=192)\u001b[0m 6/6 - 5s - loss: 1.5223 - accuracy: 0.3450\n",
            "\u001b[2m\u001b[36m(launch_and_fit pid=191)\u001b[0m 6/6 - 4s - loss: 1.5790 - accuracy: 0.3275\n",
            "\u001b[2m\u001b[36m(launch_and_fit pid=190)\u001b[0m 6/6 - 4s - loss: 1.6375 - accuracy: 0.2515\n",
            "\u001b[2m\u001b[36m(launch_and_fit pid=189)\u001b[0m 6/6 - 4s - loss: 1.6767 - accuracy: 0.3216\n",
            "\u001b[2m\u001b[36m(launch_and_fit pid=192)\u001b[0m 6/6 - 5s - loss: 1.6532 - accuracy: 0.2924\n",
            "\u001b[2m\u001b[36m(launch_and_fit pid=191)\u001b[0m 6/6 - 4s - loss: 1.5124 - accuracy: 0.3275\n",
            "\u001b[2m\u001b[36m(launch_and_fit pid=190)\u001b[0m 6/6 - 4s - loss: 1.5870 - accuracy: 0.2632\n",
            "\u001b[2m\u001b[36m(launch_and_fit pid=189)\u001b[0m 6/6 - 4s - loss: 1.6745 - accuracy: 0.2456\n",
            "\u001b[2m\u001b[36m(launch_and_fit pid=192)\u001b[0m 6/6 - 5s - loss: 1.5819 - accuracy: 0.3743\n",
            "\u001b[2m\u001b[36m(launch_and_fit pid=191)\u001b[0m 6/6 - 5s - loss: 1.6005 - accuracy: 0.3567\n",
            "\u001b[2m\u001b[36m(launch_and_fit pid=190)\u001b[0m 6/6 - 5s - loss: 1.6001 - accuracy: 0.3626\n",
            "\u001b[2m\u001b[36m(launch_and_fit pid=189)\u001b[0m 6/6 - 5s - loss: 1.6549 - accuracy: 0.2807\n",
            "\u001b[2m\u001b[36m(launch_and_fit pid=192)\u001b[0m 6/6 - 4s - loss: 1.5903 - accuracy: 0.3801\n"
          ]
        },
        {
          "name": "stderr",
          "output_type": "stream",
          "text": [
            "DEBUG flower 2022-04-30 18:09:48,843 | server.py:281 | fit_round received 50 results and 0 failures\n",
            "DEBUG flower 2022-04-30 18:09:49,009 | server.py:215 | evaluate_round: strategy sampled 25 clients (out of 100)\n"
          ]
        },
        {
          "name": "stdout",
          "output_type": "stream",
          "text": [
            "\u001b[2m\u001b[36m(launch_and_fit pid=191)\u001b[0m 6/6 - 3s - loss: 1.6108 - accuracy: 0.3158\n"
          ]
        },
        {
          "name": "stderr",
          "output_type": "stream",
          "text": [
            "DEBUG flower 2022-04-30 18:09:52,471 | server.py:227 | evaluate_round received 0 results and 25 failures\n",
            "DEBUG flower 2022-04-30 18:09:52,473 | server.py:269 | fit_round: strategy sampled 50 clients (out of 100)\n"
          ]
        },
        {
          "name": "stdout",
          "output_type": "stream",
          "text": [
            "\u001b[2m\u001b[36m(launch_and_fit pid=191)\u001b[0m 6/6 - 4s - loss: 1.6920 - accuracy: 0.3041\n",
            "\u001b[2m\u001b[36m(launch_and_fit pid=189)\u001b[0m 6/6 - 4s - loss: 1.6082 - accuracy: 0.3450\n",
            "\u001b[2m\u001b[36m(launch_and_fit pid=190)\u001b[0m 6/6 - 5s - loss: 1.5902 - accuracy: 0.3392\n",
            "\u001b[2m\u001b[36m(launch_and_fit pid=192)\u001b[0m 6/6 - 5s - loss: 1.5908 - accuracy: 0.2865\n",
            "\u001b[2m\u001b[36m(launch_and_fit pid=191)\u001b[0m 6/6 - 4s - loss: 1.6292 - accuracy: 0.3041\n",
            "\u001b[2m\u001b[36m(launch_and_fit pid=189)\u001b[0m 6/6 - 5s - loss: 1.6657 - accuracy: 0.3450\n",
            "\u001b[2m\u001b[36m(launch_and_fit pid=190)\u001b[0m 6/6 - 5s - loss: 1.6138 - accuracy: 0.3041\n",
            "\u001b[2m\u001b[36m(launch_and_fit pid=192)\u001b[0m 6/6 - 5s - loss: 1.6693 - accuracy: 0.2924\n",
            "\u001b[2m\u001b[36m(launch_and_fit pid=191)\u001b[0m 6/6 - 5s - loss: 1.6329 - accuracy: 0.3567\n",
            "\u001b[2m\u001b[36m(launch_and_fit pid=190)\u001b[0m 6/6 - 4s - loss: 1.6205 - accuracy: 0.2865\n",
            "\u001b[2m\u001b[36m(launch_and_fit pid=192)\u001b[0m 6/6 - 4s - loss: 1.5859 - accuracy: 0.2573\n",
            "\u001b[2m\u001b[36m(launch_and_fit pid=189)\u001b[0m 6/6 - 5s - loss: 1.5646 - accuracy: 0.3275\n",
            "\u001b[2m\u001b[36m(launch_and_fit pid=191)\u001b[0m 6/6 - 4s - loss: 1.6158 - accuracy: 0.3041\n",
            "\u001b[2m\u001b[36m(launch_and_fit pid=192)\u001b[0m 6/6 - 5s - loss: 1.6152 - accuracy: 0.3158\n",
            "\u001b[2m\u001b[36m(launch_and_fit pid=189)\u001b[0m 6/6 - 4s - loss: 1.5982 - accuracy: 0.3743\n",
            "\u001b[2m\u001b[36m(launch_and_fit pid=190)\u001b[0m 6/6 - 5s - loss: 1.5736 - accuracy: 0.3743\n",
            "\u001b[2m\u001b[36m(launch_and_fit pid=191)\u001b[0m 6/6 - 4s - loss: 1.5919 - accuracy: 0.3626\n",
            "\u001b[2m\u001b[36m(launch_and_fit pid=190)\u001b[0m 6/6 - 4s - loss: 1.6101 - accuracy: 0.2573\n",
            "\u001b[2m\u001b[36m(launch_and_fit pid=192)\u001b[0m 6/6 - 5s - loss: 1.5670 - accuracy: 0.2807\n",
            "\u001b[2m\u001b[36m(launch_and_fit pid=189)\u001b[0m 6/6 - 5s - loss: 1.6421 - accuracy: 0.3041\n",
            "\u001b[2m\u001b[36m(launch_and_fit pid=191)\u001b[0m 6/6 - 4s - loss: 1.6253 - accuracy: 0.3333\n",
            "\u001b[2m\u001b[36m(launch_and_fit pid=190)\u001b[0m 6/6 - 4s - loss: 1.6424 - accuracy: 0.2690\n",
            "\u001b[2m\u001b[36m(launch_and_fit pid=192)\u001b[0m 6/6 - 4s - loss: 1.6145 - accuracy: 0.3392\n",
            "\u001b[2m\u001b[36m(launch_and_fit pid=189)\u001b[0m 6/6 - 4s - loss: 1.6189 - accuracy: 0.2865\n",
            "\u001b[2m\u001b[36m(launch_and_fit pid=191)\u001b[0m 6/6 - 4s - loss: 1.5346 - accuracy: 0.3392\n",
            "\u001b[2m\u001b[36m(launch_and_fit pid=190)\u001b[0m 6/6 - 5s - loss: 1.5928 - accuracy: 0.2924\n",
            "\u001b[2m\u001b[36m(launch_and_fit pid=189)\u001b[0m 6/6 - 4s - loss: 1.6113 - accuracy: 0.3158\n",
            "\u001b[2m\u001b[36m(launch_and_fit pid=192)\u001b[0m 6/6 - 4s - loss: 1.6711 - accuracy: 0.2924\n",
            "\u001b[2m\u001b[36m(launch_and_fit pid=191)\u001b[0m 6/6 - 5s - loss: 1.6257 - accuracy: 0.3626\n",
            "\u001b[2m\u001b[36m(launch_and_fit pid=190)\u001b[0m 6/6 - 4s - loss: 1.5883 - accuracy: 0.3041\n",
            "\u001b[2m\u001b[36m(launch_and_fit pid=192)\u001b[0m 6/6 - 5s - loss: 1.6297 - accuracy: 0.2982\n",
            "\u001b[2m\u001b[36m(launch_and_fit pid=189)\u001b[0m 6/6 - 5s - loss: 1.7014 - accuracy: 0.2456\n",
            "\u001b[2m\u001b[36m(launch_and_fit pid=191)\u001b[0m 6/6 - 5s - loss: 1.6336 - accuracy: 0.2573\n",
            "\u001b[2m\u001b[36m(launch_and_fit pid=190)\u001b[0m 6/6 - 4s - loss: 1.6837 - accuracy: 0.2339\n",
            "\u001b[2m\u001b[36m(launch_and_fit pid=189)\u001b[0m 6/6 - 4s - loss: 1.5851 - accuracy: 0.3392\n",
            "\u001b[2m\u001b[36m(launch_and_fit pid=192)\u001b[0m 6/6 - 5s - loss: 1.6158 - accuracy: 0.3392\n",
            "\u001b[2m\u001b[36m(launch_and_fit pid=191)\u001b[0m 6/6 - 4s - loss: 1.5857 - accuracy: 0.3099\n",
            "\u001b[2m\u001b[36m(launch_and_fit pid=190)\u001b[0m 6/6 - 5s - loss: 1.5236 - accuracy: 0.3684\n",
            "\u001b[2m\u001b[36m(launch_and_fit pid=192)\u001b[0m 6/6 - 4s - loss: 1.5965 - accuracy: 0.3216\n",
            "\u001b[2m\u001b[36m(launch_and_fit pid=189)\u001b[0m 6/6 - 5s - loss: 1.5850 - accuracy: 0.3626\n",
            "\u001b[2m\u001b[36m(launch_and_fit pid=191)\u001b[0m 6/6 - 5s - loss: 1.5990 - accuracy: 0.3801\n",
            "\u001b[2m\u001b[36m(launch_and_fit pid=190)\u001b[0m 6/6 - 5s - loss: 1.6350 - accuracy: 0.2865\n",
            "\u001b[2m\u001b[36m(launch_and_fit pid=192)\u001b[0m 6/6 - 5s - loss: 1.6361 - accuracy: 0.2749\n",
            "\u001b[2m\u001b[36m(launch_and_fit pid=189)\u001b[0m 6/6 - 4s - loss: 1.6199 - accuracy: 0.3333\n",
            "\u001b[2m\u001b[36m(launch_and_fit pid=191)\u001b[0m 6/6 - 4s - loss: 1.4870 - accuracy: 0.3216\n",
            "\u001b[2m\u001b[36m(launch_and_fit pid=190)\u001b[0m 6/6 - 4s - loss: 1.6842 - accuracy: 0.2632\n",
            "\u001b[2m\u001b[36m(launch_and_fit pid=189)\u001b[0m 6/6 - 5s - loss: 1.6512 - accuracy: 0.2865\n",
            "\u001b[2m\u001b[36m(launch_and_fit pid=192)\u001b[0m 6/6 - 6s - loss: 1.5421 - accuracy: 0.3684\n",
            "\u001b[2m\u001b[36m(launch_and_fit pid=191)\u001b[0m 6/6 - 5s - loss: 1.5420 - accuracy: 0.3918\n"
          ]
        },
        {
          "name": "stderr",
          "output_type": "stream",
          "text": [
            "DEBUG flower 2022-04-30 18:10:59,061 | server.py:281 | fit_round received 50 results and 0 failures\n",
            "DEBUG flower 2022-04-30 18:10:59,237 | server.py:215 | evaluate_round: strategy sampled 25 clients (out of 100)\n"
          ]
        },
        {
          "name": "stdout",
          "output_type": "stream",
          "text": [
            "\u001b[2m\u001b[36m(launch_and_fit pid=190)\u001b[0m 6/6 - 3s - loss: 1.6143 - accuracy: 0.3099\n"
          ]
        },
        {
          "name": "stderr",
          "output_type": "stream",
          "text": [
            "DEBUG flower 2022-04-30 18:11:02,696 | server.py:227 | evaluate_round received 0 results and 25 failures\n",
            "INFO flower 2022-04-30 18:11:02,697 | server.py:182 | FL finished in 360.873941467\n",
            "INFO flower 2022-04-30 18:11:02,699 | app.py:149 | app_fit: losses_distributed []\n",
            "INFO flower 2022-04-30 18:11:02,700 | app.py:150 | app_fit: metrics_distributed {}\n",
            "INFO flower 2022-04-30 18:11:02,700 | app.py:151 | app_fit: losses_centralized []\n",
            "INFO flower 2022-04-30 18:11:02,702 | app.py:152 | app_fit: metrics_centralized {}\n"
          ]
        },
        {
          "data": {
            "text/plain": []
          },
          "execution_count": 12,
          "metadata": {},
          "output_type": "execute_result"
        }
      ],
      "source": [
        "NUM_CLIENTS = 100\n",
        "\n",
        "# Create FedAvg strategy\n",
        "strategy=fl.server.strategy.FedAvg(\n",
        "        fraction_fit=0.5,  #.1 Sample 50% of available clients for training\n",
        "        fraction_eval=0.25,  #.05 Sample 50% of available clients for evaluation\n",
        "        min_fit_clients=1,  # Never sample less than 10 clients for training\n",
        "        min_eval_clients=1,  # Never sample less than 5 clients for evaluation\n",
        "        min_available_clients=int(NUM_CLIENTS * 0.50),  # Wait until at least 5 clients are available\n",
        ")\n",
        "\n",
        "# Start simulation\n",
        "fl.simulation.start_simulation(\n",
        "    client_fn=client_fn,\n",
        "    num_clients=NUM_CLIENTS,\n",
        "    num_rounds=5,\n",
        "    strategy=strategy,\n",
        ")"
      ]
    },
    {
      "cell_type": "code",
      "execution_count": null,
      "id": "df99217c",
      "metadata": {
        "papermill": {
          "duration": 0.150426,
          "end_time": "2022-04-30T18:11:03.014831",
          "exception": false,
          "start_time": "2022-04-30T18:11:02.864405",
          "status": "completed"
        },
        "tags": [],
        "id": "df99217c"
      },
      "outputs": [],
      "source": []
    }
  ],
  "metadata": {
    "kernelspec": {
      "display_name": "Python 3",
      "language": "python",
      "name": "python3"
    },
    "language_info": {
      "codemirror_mode": {
        "name": "ipython",
        "version": 3
      },
      "file_extension": ".py",
      "mimetype": "text/x-python",
      "name": "python",
      "nbconvert_exporter": "python",
      "pygments_lexer": "ipython3",
      "version": "3.7.12"
    },
    "papermill": {
      "default_parameters": {},
      "duration": 426.657189,
      "end_time": "2022-04-30T18:11:08.280016",
      "environment_variables": {},
      "exception": null,
      "input_path": "__notebook__.ipynb",
      "output_path": "__notebook__.ipynb",
      "parameters": {},
      "start_time": "2022-04-30T18:04:01.622827",
      "version": "2.3.4"
    },
    "colab": {
      "provenance": []
    }
  },
  "nbformat": 4,
  "nbformat_minor": 5
}